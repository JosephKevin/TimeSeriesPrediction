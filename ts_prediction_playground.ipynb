{
 "cells": [
  {
   "cell_type": "markdown",
   "metadata": {},
   "source": [
    "## Load in the data\n",
    "    Since the data is a .db, which is a sqlite database. We will convert the tables to pandas dataframe as required. Since the table sizes arent too big we can use pandas dataframes."
   ]
  },
  {
   "cell_type": "code",
   "execution_count": 1,
   "metadata": {
    "collapsed": true
   },
   "outputs": [],
   "source": [
    "import sqlite3\n",
    "import pandas as pd"
   ]
  },
  {
   "cell_type": "code",
   "execution_count": 2,
   "metadata": {
    "collapsed": true
   },
   "outputs": [],
   "source": [
    "# Read sqlite query results into a pandas DataFrame\n",
    "sql_conn = sqlite3.connect(\"sqlite.db\")\n",
    "exec_df = pd.read_sql_query(\"SELECT * from exec\", sql_conn)\n",
    "sql_conn.close()"
   ]
  },
  {
   "cell_type": "code",
   "execution_count": 3,
   "metadata": {},
   "outputs": [
    {
     "data": {
      "text/html": [
       "<div>\n",
       "<table border=\"1\" class=\"dataframe\">\n",
       "  <thead>\n",
       "    <tr style=\"text-align: right;\">\n",
       "      <th></th>\n",
       "      <th>ts</th>\n",
       "      <th>exe</th>\n",
       "      <th>pid</th>\n",
       "      <th>ppid</th>\n",
       "      <th>path</th>\n",
       "      <th>docker</th>\n",
       "      <th>depth</th>\n",
       "      <th>rates</th>\n",
       "    </tr>\n",
       "  </thead>\n",
       "  <tbody>\n",
       "    <tr>\n",
       "      <th>0</th>\n",
       "      <td>0.690</td>\n",
       "      <td>sh</td>\n",
       "      <td>28531</td>\n",
       "      <td>1158</td>\n",
       "      <td>/bin/sh</td>\n",
       "      <td>None</td>\n",
       "      <td>-1</td>\n",
       "      <td>{\"1\": 1.0, \"5\": 0.2}</td>\n",
       "    </tr>\n",
       "    <tr>\n",
       "      <th>1</th>\n",
       "      <td>0.696</td>\n",
       "      <td>lpstat</td>\n",
       "      <td>28532</td>\n",
       "      <td>28531</td>\n",
       "      <td>/usr/bin/lpstat</td>\n",
       "      <td>None</td>\n",
       "      <td>-1</td>\n",
       "      <td>{\"1\": 2.0, \"5\": 0.4}</td>\n",
       "    </tr>\n",
       "    <tr>\n",
       "      <th>2</th>\n",
       "      <td>0.701</td>\n",
       "      <td>sed</td>\n",
       "      <td>28533</td>\n",
       "      <td>28531</td>\n",
       "      <td>/bin/sed</td>\n",
       "      <td>None</td>\n",
       "      <td>-1</td>\n",
       "      <td>{\"1\": 3.0, \"5\": 0.6}</td>\n",
       "    </tr>\n",
       "    <tr>\n",
       "      <th>3</th>\n",
       "      <td>1.704</td>\n",
       "      <td>sh</td>\n",
       "      <td>28534</td>\n",
       "      <td>1158</td>\n",
       "      <td>/bin/sh</td>\n",
       "      <td>None</td>\n",
       "      <td>-1</td>\n",
       "      <td>{\"1\": 1.0, \"5\": 0.8}</td>\n",
       "    </tr>\n",
       "    <tr>\n",
       "      <th>4</th>\n",
       "      <td>1.711</td>\n",
       "      <td>sed</td>\n",
       "      <td>28536</td>\n",
       "      <td>28534</td>\n",
       "      <td>sed</td>\n",
       "      <td>None</td>\n",
       "      <td>-1</td>\n",
       "      <td>{\"1\": 2.0, \"5\": 1.0}</td>\n",
       "    </tr>\n",
       "  </tbody>\n",
       "</table>\n",
       "</div>"
      ],
      "text/plain": [
       "      ts     exe    pid   ppid             path docker  depth  \\\n",
       "0  0.690      sh  28531   1158          /bin/sh   None     -1   \n",
       "1  0.696  lpstat  28532  28531  /usr/bin/lpstat   None     -1   \n",
       "2  0.701     sed  28533  28531         /bin/sed   None     -1   \n",
       "3  1.704      sh  28534   1158          /bin/sh   None     -1   \n",
       "4  1.711     sed  28536  28534              sed   None     -1   \n",
       "\n",
       "                  rates  \n",
       "0  {\"1\": 1.0, \"5\": 0.2}  \n",
       "1  {\"1\": 2.0, \"5\": 0.4}  \n",
       "2  {\"1\": 3.0, \"5\": 0.6}  \n",
       "3  {\"1\": 1.0, \"5\": 0.8}  \n",
       "4  {\"1\": 2.0, \"5\": 1.0}  "
      ]
     },
     "execution_count": 3,
     "metadata": {},
     "output_type": "execute_result"
    }
   ],
   "source": [
    "exec_df.head()"
   ]
  },
  {
   "cell_type": "code",
   "execution_count": 4,
   "metadata": {},
   "outputs": [
    {
     "data": {
      "text/html": [
       "<div>\n",
       "<table border=\"1\" class=\"dataframe\">\n",
       "  <thead>\n",
       "    <tr style=\"text-align: right;\">\n",
       "      <th></th>\n",
       "      <th>ts</th>\n",
       "      <th>exe</th>\n",
       "      <th>pid</th>\n",
       "      <th>ppid</th>\n",
       "      <th>path</th>\n",
       "      <th>docker</th>\n",
       "      <th>depth</th>\n",
       "      <th>rates</th>\n",
       "    </tr>\n",
       "  </thead>\n",
       "  <tbody>\n",
       "    <tr>\n",
       "      <th>82</th>\n",
       "      <td>22.574</td>\n",
       "      <td>crawl.sh</td>\n",
       "      <td>28647</td>\n",
       "      <td>28628</td>\n",
       "      <td>/webcrawl/crawl.sh</td>\n",
       "      <td>/docker/6aebd9a7d81f55435baff1afbcc16b11362669...</td>\n",
       "      <td>5</td>\n",
       "      <td>{\"1\": 1.0, \"5\": 0.2}</td>\n",
       "    </tr>\n",
       "    <tr>\n",
       "      <th>83</th>\n",
       "      <td>22.604</td>\n",
       "      <td>python</td>\n",
       "      <td>28668</td>\n",
       "      <td>28647</td>\n",
       "      <td>python</td>\n",
       "      <td>/docker/6aebd9a7d81f55435baff1afbcc16b11362669...</td>\n",
       "      <td>5</td>\n",
       "      <td>{\"1\": 2.0, \"5\": 0.4}</td>\n",
       "    </tr>\n",
       "    <tr>\n",
       "      <th>84</th>\n",
       "      <td>22.936</td>\n",
       "      <td>python</td>\n",
       "      <td>28669</td>\n",
       "      <td>28647</td>\n",
       "      <td>/usr/bin/python</td>\n",
       "      <td>/docker/6aebd9a7d81f55435baff1afbcc16b11362669...</td>\n",
       "      <td>5</td>\n",
       "      <td>{\"1\": 3.0, \"5\": 0.6}</td>\n",
       "    </tr>\n",
       "    <tr>\n",
       "      <th>88</th>\n",
       "      <td>23.374</td>\n",
       "      <td>python</td>\n",
       "      <td>28673</td>\n",
       "      <td>28647</td>\n",
       "      <td>/usr/bin/python</td>\n",
       "      <td>/docker/6aebd9a7d81f55435baff1afbcc16b11362669...</td>\n",
       "      <td>5</td>\n",
       "      <td>{\"1\": 4.0, \"5\": 0.8}</td>\n",
       "    </tr>\n",
       "    <tr>\n",
       "      <th>92</th>\n",
       "      <td>24.167</td>\n",
       "      <td>python</td>\n",
       "      <td>28679</td>\n",
       "      <td>28647</td>\n",
       "      <td>/usr/bin/python</td>\n",
       "      <td>/docker/6aebd9a7d81f55435baff1afbcc16b11362669...</td>\n",
       "      <td>5</td>\n",
       "      <td>{\"1\": 2.0, \"5\": 1.0}</td>\n",
       "    </tr>\n",
       "  </tbody>\n",
       "</table>\n",
       "</div>"
      ],
      "text/plain": [
       "        ts       exe    pid   ppid                path  \\\n",
       "82  22.574  crawl.sh  28647  28628  /webcrawl/crawl.sh   \n",
       "83  22.604    python  28668  28647              python   \n",
       "84  22.936    python  28669  28647     /usr/bin/python   \n",
       "88  23.374    python  28673  28647     /usr/bin/python   \n",
       "92  24.167    python  28679  28647     /usr/bin/python   \n",
       "\n",
       "                                               docker  depth  \\\n",
       "82  /docker/6aebd9a7d81f55435baff1afbcc16b11362669...      5   \n",
       "83  /docker/6aebd9a7d81f55435baff1afbcc16b11362669...      5   \n",
       "84  /docker/6aebd9a7d81f55435baff1afbcc16b11362669...      5   \n",
       "88  /docker/6aebd9a7d81f55435baff1afbcc16b11362669...      5   \n",
       "92  /docker/6aebd9a7d81f55435baff1afbcc16b11362669...      5   \n",
       "\n",
       "                   rates  \n",
       "82  {\"1\": 1.0, \"5\": 0.2}  \n",
       "83  {\"1\": 2.0, \"5\": 0.4}  \n",
       "84  {\"1\": 3.0, \"5\": 0.6}  \n",
       "88  {\"1\": 4.0, \"5\": 0.8}  \n",
       "92  {\"1\": 2.0, \"5\": 1.0}  "
      ]
     },
     "execution_count": 4,
     "metadata": {},
     "output_type": "execute_result"
    }
   ],
   "source": [
    "exec_df[exec_df.docker.notnull()].head()"
   ]
  },
  {
   "cell_type": "markdown",
   "metadata": {},
   "source": [
    "We need to split the json in rate column into two seperate columns, 'rate1s' and 'rate5s'.\n",
    "    1. Use rates column to create a dataframe of 2 columns 'rate1s', 'rate5s'.\n",
    "    2. Concat the dataframe from step 1 with exec_df to get the final clean dtaframe."
   ]
  },
  {
   "cell_type": "code",
   "execution_count": 5,
   "metadata": {
    "collapsed": true
   },
   "outputs": [],
   "source": [
    "# Split rates column into two columns\n",
    "rates_df = exec_df['rates'].apply(lambda x : dict(eval(x)) ).apply(pd.Series)\n",
    "rates_df.columns = ['rate1s', 'rate5s']"
   ]
  },
  {
   "cell_type": "code",
   "execution_count": 6,
   "metadata": {},
   "outputs": [
    {
     "data": {
      "text/html": [
       "<div>\n",
       "<table border=\"1\" class=\"dataframe\">\n",
       "  <thead>\n",
       "    <tr style=\"text-align: right;\">\n",
       "      <th></th>\n",
       "      <th>rate1s</th>\n",
       "      <th>rate5s</th>\n",
       "    </tr>\n",
       "  </thead>\n",
       "  <tbody>\n",
       "    <tr>\n",
       "      <th>0</th>\n",
       "      <td>1.0</td>\n",
       "      <td>0.2</td>\n",
       "    </tr>\n",
       "    <tr>\n",
       "      <th>1</th>\n",
       "      <td>2.0</td>\n",
       "      <td>0.4</td>\n",
       "    </tr>\n",
       "    <tr>\n",
       "      <th>2</th>\n",
       "      <td>3.0</td>\n",
       "      <td>0.6</td>\n",
       "    </tr>\n",
       "    <tr>\n",
       "      <th>3</th>\n",
       "      <td>1.0</td>\n",
       "      <td>0.8</td>\n",
       "    </tr>\n",
       "    <tr>\n",
       "      <th>4</th>\n",
       "      <td>2.0</td>\n",
       "      <td>1.0</td>\n",
       "    </tr>\n",
       "  </tbody>\n",
       "</table>\n",
       "</div>"
      ],
      "text/plain": [
       "   rate1s  rate5s\n",
       "0     1.0     0.2\n",
       "1     2.0     0.4\n",
       "2     3.0     0.6\n",
       "3     1.0     0.8\n",
       "4     2.0     1.0"
      ]
     },
     "execution_count": 6,
     "metadata": {},
     "output_type": "execute_result"
    }
   ],
   "source": [
    "rates_df.head()"
   ]
  },
  {
   "cell_type": "code",
   "execution_count": 7,
   "metadata": {
    "collapsed": true
   },
   "outputs": [],
   "source": [
    "# Concat this with exec_df to get the entire dataset\n",
    "exec_clean = pd.concat([exec_df, rates_df], axis=1)"
   ]
  },
  {
   "cell_type": "code",
   "execution_count": 8,
   "metadata": {},
   "outputs": [
    {
     "data": {
      "text/html": [
       "<div>\n",
       "<table border=\"1\" class=\"dataframe\">\n",
       "  <thead>\n",
       "    <tr style=\"text-align: right;\">\n",
       "      <th></th>\n",
       "      <th>ts</th>\n",
       "      <th>exe</th>\n",
       "      <th>pid</th>\n",
       "      <th>ppid</th>\n",
       "      <th>path</th>\n",
       "      <th>docker</th>\n",
       "      <th>depth</th>\n",
       "      <th>rates</th>\n",
       "      <th>rate1s</th>\n",
       "      <th>rate5s</th>\n",
       "    </tr>\n",
       "  </thead>\n",
       "  <tbody>\n",
       "    <tr>\n",
       "      <th>0</th>\n",
       "      <td>0.690</td>\n",
       "      <td>sh</td>\n",
       "      <td>28531</td>\n",
       "      <td>1158</td>\n",
       "      <td>/bin/sh</td>\n",
       "      <td>None</td>\n",
       "      <td>-1</td>\n",
       "      <td>{\"1\": 1.0, \"5\": 0.2}</td>\n",
       "      <td>1.0</td>\n",
       "      <td>0.2</td>\n",
       "    </tr>\n",
       "    <tr>\n",
       "      <th>1</th>\n",
       "      <td>0.696</td>\n",
       "      <td>lpstat</td>\n",
       "      <td>28532</td>\n",
       "      <td>28531</td>\n",
       "      <td>/usr/bin/lpstat</td>\n",
       "      <td>None</td>\n",
       "      <td>-1</td>\n",
       "      <td>{\"1\": 2.0, \"5\": 0.4}</td>\n",
       "      <td>2.0</td>\n",
       "      <td>0.4</td>\n",
       "    </tr>\n",
       "    <tr>\n",
       "      <th>2</th>\n",
       "      <td>0.701</td>\n",
       "      <td>sed</td>\n",
       "      <td>28533</td>\n",
       "      <td>28531</td>\n",
       "      <td>/bin/sed</td>\n",
       "      <td>None</td>\n",
       "      <td>-1</td>\n",
       "      <td>{\"1\": 3.0, \"5\": 0.6}</td>\n",
       "      <td>3.0</td>\n",
       "      <td>0.6</td>\n",
       "    </tr>\n",
       "    <tr>\n",
       "      <th>3</th>\n",
       "      <td>1.704</td>\n",
       "      <td>sh</td>\n",
       "      <td>28534</td>\n",
       "      <td>1158</td>\n",
       "      <td>/bin/sh</td>\n",
       "      <td>None</td>\n",
       "      <td>-1</td>\n",
       "      <td>{\"1\": 1.0, \"5\": 0.8}</td>\n",
       "      <td>1.0</td>\n",
       "      <td>0.8</td>\n",
       "    </tr>\n",
       "    <tr>\n",
       "      <th>4</th>\n",
       "      <td>1.711</td>\n",
       "      <td>sed</td>\n",
       "      <td>28536</td>\n",
       "      <td>28534</td>\n",
       "      <td>sed</td>\n",
       "      <td>None</td>\n",
       "      <td>-1</td>\n",
       "      <td>{\"1\": 2.0, \"5\": 1.0}</td>\n",
       "      <td>2.0</td>\n",
       "      <td>1.0</td>\n",
       "    </tr>\n",
       "  </tbody>\n",
       "</table>\n",
       "</div>"
      ],
      "text/plain": [
       "      ts     exe    pid   ppid             path docker  depth  \\\n",
       "0  0.690      sh  28531   1158          /bin/sh   None     -1   \n",
       "1  0.696  lpstat  28532  28531  /usr/bin/lpstat   None     -1   \n",
       "2  0.701     sed  28533  28531         /bin/sed   None     -1   \n",
       "3  1.704      sh  28534   1158          /bin/sh   None     -1   \n",
       "4  1.711     sed  28536  28534              sed   None     -1   \n",
       "\n",
       "                  rates  rate1s  rate5s  \n",
       "0  {\"1\": 1.0, \"5\": 0.2}     1.0     0.2  \n",
       "1  {\"1\": 2.0, \"5\": 0.4}     2.0     0.4  \n",
       "2  {\"1\": 3.0, \"5\": 0.6}     3.0     0.6  \n",
       "3  {\"1\": 1.0, \"5\": 0.8}     1.0     0.8  \n",
       "4  {\"1\": 2.0, \"5\": 1.0}     2.0     1.0  "
      ]
     },
     "execution_count": 8,
     "metadata": {},
     "output_type": "execute_result"
    }
   ],
   "source": [
    "exec_clean.head()"
   ]
  },
  {
   "cell_type": "markdown",
   "metadata": {},
   "source": [
    "# 1. Visualization\n",
    "    We start of with visualizing our data. Visualization can provide a holistic view of our data, helping us further our understanding of the dataset.\n",
    "    \n",
    "    Start of with importing visualization libraries"
   ]
  },
  {
   "cell_type": "code",
   "execution_count": 9,
   "metadata": {
    "collapsed": true
   },
   "outputs": [],
   "source": [
    "import matplotlib.pyplot as plt\n",
    "import seaborn as sns\n",
    "% matplotlib inline"
   ]
  },
  {
   "cell_type": "markdown",
   "metadata": {},
   "source": [
    "## Plot depth\n",
    "    What is depth? "
   ]
  },
  {
   "cell_type": "code",
   "execution_count": 10,
   "metadata": {},
   "outputs": [
    {
     "data": {
      "text/plain": [
       "-1    1709\n",
       " 5     790\n",
       " 2       2\n",
       " 3       1\n",
       " 4       1\n",
       "Name: depth, dtype: int64"
      ]
     },
     "execution_count": 10,
     "metadata": {},
     "output_type": "execute_result"
    }
   ],
   "source": [
    "# Numerical distribution of depth\n",
    "exec_clean['depth'].value_counts()"
   ]
  },
  {
   "cell_type": "markdown",
   "metadata": {},
   "source": [
    "Looking at the distribution of the data, we can see that this type of data can be easily visualized using a scatter plot"
   ]
  },
  {
   "cell_type": "code",
   "execution_count": 11,
   "metadata": {},
   "outputs": [
    {
     "data": {
      "text/plain": [
       "<seaborn.axisgrid.FacetGrid at 0x10cfcb7b8>"
      ]
     },
     "execution_count": 11,
     "metadata": {},
     "output_type": "execute_result"
    },
    {
     "data": {
      "image/png": "[encoded data removed]",
      "text/plain": [
       "<matplotlib.figure.Figure at 0x10cfcbc18>"
      ]
     },
     "metadata": {},
     "output_type": "display_data"
    }
   ],
   "source": [
    "g = sns.FacetGrid(exec_clean)  \n",
    "g.map(plt.scatter, \"ts\", \"depth\")  "
   ]
  },
  {
   "cell_type": "code",
   "execution_count": 12,
   "metadata": {},
   "outputs": [
    {
     "data": {
      "text/html": [
       "<div>\n",
       "<table border=\"1\" class=\"dataframe\">\n",
       "  <thead>\n",
       "    <tr style=\"text-align: right;\">\n",
       "      <th></th>\n",
       "      <th>ts</th>\n",
       "      <th>exe</th>\n",
       "      <th>pid</th>\n",
       "      <th>ppid</th>\n",
       "      <th>path</th>\n",
       "      <th>docker</th>\n",
       "      <th>depth</th>\n",
       "      <th>rates</th>\n",
       "      <th>rate1s</th>\n",
       "      <th>rate5s</th>\n",
       "    </tr>\n",
       "  </thead>\n",
       "  <tbody>\n",
       "    <tr>\n",
       "      <th>67</th>\n",
       "      <td>22.069</td>\n",
       "      <td>auplink</td>\n",
       "      <td>28606</td>\n",
       "      <td>917</td>\n",
       "      <td>/sbin/auplink</td>\n",
       "      <td>None</td>\n",
       "      <td>2</td>\n",
       "      <td>{\"1\": 5.0, \"5\": 3.4}</td>\n",
       "      <td>5.0</td>\n",
       "      <td>3.4</td>\n",
       "    </tr>\n",
       "    <tr>\n",
       "      <th>68</th>\n",
       "      <td>22.107</td>\n",
       "      <td>auplink</td>\n",
       "      <td>28607</td>\n",
       "      <td>917</td>\n",
       "      <td>auplink</td>\n",
       "      <td>None</td>\n",
       "      <td>2</td>\n",
       "      <td>{\"1\": 6.0, \"5\": 3.6}</td>\n",
       "      <td>6.0</td>\n",
       "      <td>3.6</td>\n",
       "    </tr>\n",
       "    <tr>\n",
       "      <th>77</th>\n",
       "      <td>22.221</td>\n",
       "      <td>docker-containe</td>\n",
       "      <td>28628</td>\n",
       "      <td>1051</td>\n",
       "      <td>/usr/bin/docker-containerd-shim</td>\n",
       "      <td>None</td>\n",
       "      <td>3</td>\n",
       "      <td>{\"1\": 15.0, \"5\": 5.4}</td>\n",
       "      <td>15.0</td>\n",
       "      <td>5.4</td>\n",
       "    </tr>\n",
       "    <tr>\n",
       "      <th>78</th>\n",
       "      <td>22.228</td>\n",
       "      <td>docker-runc</td>\n",
       "      <td>28633</td>\n",
       "      <td>28628</td>\n",
       "      <td>/usr/bin/docker-runc</td>\n",
       "      <td>None</td>\n",
       "      <td>4</td>\n",
       "      <td>{\"1\": 16.0, \"5\": 5.6}</td>\n",
       "      <td>16.0</td>\n",
       "      <td>5.6</td>\n",
       "    </tr>\n",
       "  </tbody>\n",
       "</table>\n",
       "</div>"
      ],
      "text/plain": [
       "        ts              exe    pid   ppid                             path  \\\n",
       "67  22.069          auplink  28606    917                    /sbin/auplink   \n",
       "68  22.107          auplink  28607    917                          auplink   \n",
       "77  22.221  docker-containe  28628   1051  /usr/bin/docker-containerd-shim   \n",
       "78  22.228      docker-runc  28633  28628             /usr/bin/docker-runc   \n",
       "\n",
       "   docker  depth                  rates  rate1s  rate5s  \n",
       "67   None      2   {\"1\": 5.0, \"5\": 3.4}     5.0     3.4  \n",
       "68   None      2   {\"1\": 6.0, \"5\": 3.6}     6.0     3.6  \n",
       "77   None      3  {\"1\": 15.0, \"5\": 5.4}    15.0     5.4  \n",
       "78   None      4  {\"1\": 16.0, \"5\": 5.6}    16.0     5.6  "
      ]
     },
     "execution_count": 12,
     "metadata": {},
     "output_type": "execute_result"
    }
   ],
   "source": [
    "exec_clean[(exec_clean.depth >= 2) & (exec_clean.depth <= 4)]"
   ]
  },
  {
   "cell_type": "markdown",
   "metadata": {},
   "source": [
    "### interesting because all these outliers occur near 22s time, ideal to zoom in on this time scale"
   ]
  },
  {
   "cell_type": "code",
   "execution_count": 13,
   "metadata": {},
   "outputs": [
    {
     "data": {
      "text/plain": [
       "(-1, 5)"
      ]
     },
     "execution_count": 13,
     "metadata": {},
     "output_type": "execute_result"
    },
    {
     "data": {
      "image/png": "[encoded data removed]",
      "text/plain": [
       "<matplotlib.figure.Figure at 0x1102fd048>"
      ]
     },
     "metadata": {},
     "output_type": "display_data"
    }
   ],
   "source": [
    "g = sns.FacetGrid(exec_clean)  \n",
    "g.map(plt.scatter, \"ts\", \"depth\")  \n",
    "plt.xlim(0, 50)  \n",
    "plt.ylim(-1, 5) "
   ]
  },
  {
   "cell_type": "markdown",
   "metadata": {},
   "source": [
    "##### Thoughts\n",
    "    1. the depth has -1 from the start of time, but at time ~ 22 there are a few depth outliers and then they vanish as time goes by.\n",
    "    2. The value of '-1' for depth might be just a default value for no docker. Because the depth is '-1' only when docker column is empty."
   ]
  },
  {
   "cell_type": "code",
   "execution_count": 14,
   "metadata": {},
   "outputs": [
    {
     "data": {
      "text/plain": [
       "<matplotlib.axes._subplots.AxesSubplot at 0x1103f3400>"
      ]
     },
     "execution_count": 14,
     "metadata": {},
     "output_type": "execute_result"
    },
    {
     "data": {
      "image/png": "[encoded data removed]",
      "text/plain": [
       "<matplotlib.figure.Figure at 0x1103647f0>"
      ]
     },
     "metadata": {},
     "output_type": "display_data"
    }
   ],
   "source": [
    "# histogram\n",
    "sns.distplot(exec_clean['depth'], kde=True, rug=True)"
   ]
  },
  {
   "cell_type": "code",
   "execution_count": 15,
   "metadata": {},
   "outputs": [
    {
     "data": {
      "text/plain": [
       "<matplotlib.axes._subplots.AxesSubplot at 0x1104a8f28>"
      ]
     },
     "execution_count": 15,
     "metadata": {},
     "output_type": "execute_result"
    },
    {
     "data": {
      "image/png": "[encoded data removed]",
      "text/plain": [
       "<matplotlib.figure.Figure at 0x110418f98>"
      ]
     },
     "metadata": {},
     "output_type": "display_data"
    }
   ],
   "source": [
    "# histogram after removing default depth\n",
    "sns.distplot(exec_clean[exec_clean.depth != -1]['depth'], kde=True, rug=True)"
   ]
  },
  {
   "cell_type": "markdown",
   "metadata": {},
   "source": [
    "## Plot Rate1s\n"
   ]
  },
  {
   "cell_type": "code",
   "execution_count": 16,
   "metadata": {},
   "outputs": [
    {
     "data": {
      "text/plain": [
       "3.0     830\n",
       "2.0     775\n",
       "1.0     686\n",
       "4.0     183\n",
       "5.0      11\n",
       "17.0      2\n",
       "16.0      2\n",
       "6.0       2\n",
       "18.0      2\n",
       "8.0       1\n",
       "7.0       1\n",
       "19.0      1\n",
       "9.0       1\n",
       "11.0      1\n",
       "12.0      1\n",
       "13.0      1\n",
       "14.0      1\n",
       "15.0      1\n",
       "10.0      1\n",
       "Name: rate1s, dtype: int64"
      ]
     },
     "execution_count": 16,
     "metadata": {},
     "output_type": "execute_result"
    }
   ],
   "source": [
    "# rate1s numerical distribution\n",
    "exec_clean['rate1s'].value_counts()"
   ]
  },
  {
   "cell_type": "code",
   "execution_count": 17,
   "metadata": {},
   "outputs": [
    {
     "data": {
      "text/html": [
       "<div>\n",
       "<table border=\"1\" class=\"dataframe\">\n",
       "  <thead>\n",
       "    <tr style=\"text-align: right;\">\n",
       "      <th></th>\n",
       "      <th>ts</th>\n",
       "      <th>exe</th>\n",
       "      <th>pid</th>\n",
       "      <th>ppid</th>\n",
       "      <th>path</th>\n",
       "      <th>docker</th>\n",
       "      <th>depth</th>\n",
       "      <th>rates</th>\n",
       "      <th>rate1s</th>\n",
       "      <th>rate5s</th>\n",
       "    </tr>\n",
       "  </thead>\n",
       "  <tbody>\n",
       "    <tr>\n",
       "      <th>76</th>\n",
       "      <td>22.199</td>\n",
       "      <td>systemd-sysctl</td>\n",
       "      <td>28624</td>\n",
       "      <td>28614</td>\n",
       "      <td>/lib/systemd/systemd-sysctl</td>\n",
       "      <td>None</td>\n",
       "      <td>-1</td>\n",
       "      <td>{\"1\": 14.0, \"5\": 5.2}</td>\n",
       "      <td>14.0</td>\n",
       "      <td>5.2</td>\n",
       "    </tr>\n",
       "    <tr>\n",
       "      <th>86</th>\n",
       "      <td>23.047</td>\n",
       "      <td>sed</td>\n",
       "      <td>28672</td>\n",
       "      <td>28670</td>\n",
       "      <td>sed</td>\n",
       "      <td>None</td>\n",
       "      <td>-1</td>\n",
       "      <td>{\"1\": 17.0, \"5\": 6.0}</td>\n",
       "      <td>17.0</td>\n",
       "      <td>6.0</td>\n",
       "    </tr>\n",
       "    <tr>\n",
       "      <th>85</th>\n",
       "      <td>23.035</td>\n",
       "      <td>sh</td>\n",
       "      <td>28670</td>\n",
       "      <td>1158</td>\n",
       "      <td>sh</td>\n",
       "      <td>None</td>\n",
       "      <td>-1</td>\n",
       "      <td>{\"1\": 16.0, \"5\": 5.8}</td>\n",
       "      <td>16.0</td>\n",
       "      <td>5.8</td>\n",
       "    </tr>\n",
       "    <tr>\n",
       "      <th>87</th>\n",
       "      <td>23.052</td>\n",
       "      <td>lpstat</td>\n",
       "      <td>28671</td>\n",
       "      <td>28670</td>\n",
       "      <td>/usr/bin/lpstat</td>\n",
       "      <td>None</td>\n",
       "      <td>-1</td>\n",
       "      <td>{\"1\": 18.0, \"5\": 6.2}</td>\n",
       "      <td>18.0</td>\n",
       "      <td>6.2</td>\n",
       "    </tr>\n",
       "    <tr>\n",
       "      <th>75</th>\n",
       "      <td>22.188</td>\n",
       "      <td>ifquery</td>\n",
       "      <td>28619</td>\n",
       "      <td>-1</td>\n",
       "      <td>/sbin/ifquery</td>\n",
       "      <td>None</td>\n",
       "      <td>-1</td>\n",
       "      <td>{\"1\": 13.0, \"5\": 5.0}</td>\n",
       "      <td>13.0</td>\n",
       "      <td>5.0</td>\n",
       "    </tr>\n",
       "    <tr>\n",
       "      <th>74</th>\n",
       "      <td>22.187</td>\n",
       "      <td>systemd-sysctl</td>\n",
       "      <td>28623</td>\n",
       "      <td>28613</td>\n",
       "      <td>/lib/systemd/systemd-sysctl</td>\n",
       "      <td>None</td>\n",
       "      <td>-1</td>\n",
       "      <td>{\"1\": 12.0, \"5\": 4.8}</td>\n",
       "      <td>12.0</td>\n",
       "      <td>4.8</td>\n",
       "    </tr>\n",
       "    <tr>\n",
       "      <th>593</th>\n",
       "      <td>138.300</td>\n",
       "      <td>01ifupdown</td>\n",
       "      <td>29195</td>\n",
       "      <td>29191</td>\n",
       "      <td>/etc/NetworkManager/dispatcher.d/01ifupdown</td>\n",
       "      <td>None</td>\n",
       "      <td>-1</td>\n",
       "      <td>{\"1\": 6.0, \"5\": 3.6}</td>\n",
       "      <td>6.0</td>\n",
       "      <td>3.6</td>\n",
       "    </tr>\n",
       "    <tr>\n",
       "      <th>72</th>\n",
       "      <td>22.164</td>\n",
       "      <td>ifquery</td>\n",
       "      <td>28622</td>\n",
       "      <td>-1</td>\n",
       "      <td>/sbin/ifquery</td>\n",
       "      <td>None</td>\n",
       "      <td>-1</td>\n",
       "      <td>{\"1\": 10.0, \"5\": 4.4}</td>\n",
       "      <td>10.0</td>\n",
       "      <td>4.4</td>\n",
       "    </tr>\n",
       "    <tr>\n",
       "      <th>71</th>\n",
       "      <td>22.159</td>\n",
       "      <td>ifquery</td>\n",
       "      <td>28617</td>\n",
       "      <td>28615</td>\n",
       "      <td>/sbin/ifquery</td>\n",
       "      <td>None</td>\n",
       "      <td>-1</td>\n",
       "      <td>{\"1\": 9.0, \"5\": 4.2}</td>\n",
       "      <td>9.0</td>\n",
       "      <td>4.2</td>\n",
       "    </tr>\n",
       "    <tr>\n",
       "      <th>70</th>\n",
       "      <td>22.159</td>\n",
       "      <td>ifquery</td>\n",
       "      <td>28621</td>\n",
       "      <td>-1</td>\n",
       "      <td>/sbin/ifquery</td>\n",
       "      <td>None</td>\n",
       "      <td>-1</td>\n",
       "      <td>{\"1\": 8.0, \"5\": 4.0}</td>\n",
       "      <td>8.0</td>\n",
       "      <td>4.0</td>\n",
       "    </tr>\n",
       "    <tr>\n",
       "      <th>69</th>\n",
       "      <td>22.155</td>\n",
       "      <td>grep</td>\n",
       "      <td>28618</td>\n",
       "      <td>28615</td>\n",
       "      <td>/bin/grep</td>\n",
       "      <td>None</td>\n",
       "      <td>-1</td>\n",
       "      <td>{\"1\": 7.0, \"5\": 3.8}</td>\n",
       "      <td>7.0</td>\n",
       "      <td>3.8</td>\n",
       "    </tr>\n",
       "    <tr>\n",
       "      <th>73</th>\n",
       "      <td>22.187</td>\n",
       "      <td>grep</td>\n",
       "      <td>28620</td>\n",
       "      <td>-1</td>\n",
       "      <td>grep</td>\n",
       "      <td>None</td>\n",
       "      <td>-1</td>\n",
       "      <td>{\"1\": 11.0, \"5\": 4.6}</td>\n",
       "      <td>11.0</td>\n",
       "      <td>4.6</td>\n",
       "    </tr>\n",
       "    <tr>\n",
       "      <th>68</th>\n",
       "      <td>22.107</td>\n",
       "      <td>auplink</td>\n",
       "      <td>28607</td>\n",
       "      <td>917</td>\n",
       "      <td>auplink</td>\n",
       "      <td>None</td>\n",
       "      <td>2</td>\n",
       "      <td>{\"1\": 6.0, \"5\": 3.6}</td>\n",
       "      <td>6.0</td>\n",
       "      <td>3.6</td>\n",
       "    </tr>\n",
       "    <tr>\n",
       "      <th>77</th>\n",
       "      <td>22.221</td>\n",
       "      <td>docker-containe</td>\n",
       "      <td>28628</td>\n",
       "      <td>1051</td>\n",
       "      <td>/usr/bin/docker-containerd-shim</td>\n",
       "      <td>None</td>\n",
       "      <td>3</td>\n",
       "      <td>{\"1\": 15.0, \"5\": 5.4}</td>\n",
       "      <td>15.0</td>\n",
       "      <td>5.4</td>\n",
       "    </tr>\n",
       "    <tr>\n",
       "      <th>78</th>\n",
       "      <td>22.228</td>\n",
       "      <td>docker-runc</td>\n",
       "      <td>28633</td>\n",
       "      <td>28628</td>\n",
       "      <td>/usr/bin/docker-runc</td>\n",
       "      <td>None</td>\n",
       "      <td>4</td>\n",
       "      <td>{\"1\": 16.0, \"5\": 5.6}</td>\n",
       "      <td>16.0</td>\n",
       "      <td>5.6</td>\n",
       "    </tr>\n",
       "    <tr>\n",
       "      <th>79</th>\n",
       "      <td>22.247</td>\n",
       "      <td>exe</td>\n",
       "      <td>28644</td>\n",
       "      <td>28633</td>\n",
       "      <td>/proc/self/exe</td>\n",
       "      <td>None</td>\n",
       "      <td>5</td>\n",
       "      <td>{\"1\": 17.0, \"5\": 5.8}</td>\n",
       "      <td>17.0</td>\n",
       "      <td>5.8</td>\n",
       "    </tr>\n",
       "    <tr>\n",
       "      <th>80</th>\n",
       "      <td>22.283</td>\n",
       "      <td>dockerd</td>\n",
       "      <td>28652</td>\n",
       "      <td>28633</td>\n",
       "      <td>/usr/bin/dockerd</td>\n",
       "      <td>None</td>\n",
       "      <td>5</td>\n",
       "      <td>{\"1\": 18.0, \"5\": 6.0}</td>\n",
       "      <td>18.0</td>\n",
       "      <td>6.0</td>\n",
       "    </tr>\n",
       "    <tr>\n",
       "      <th>81</th>\n",
       "      <td>22.551</td>\n",
       "      <td>docker-runc</td>\n",
       "      <td>28663</td>\n",
       "      <td>1051</td>\n",
       "      <td>/usr/bin/docker-runc</td>\n",
       "      <td>None</td>\n",
       "      <td>5</td>\n",
       "      <td>{\"1\": 19.0, \"5\": 6.2}</td>\n",
       "      <td>19.0</td>\n",
       "      <td>6.2</td>\n",
       "    </tr>\n",
       "  </tbody>\n",
       "</table>\n",
       "</div>"
      ],
      "text/plain": [
       "          ts              exe    pid   ppid  \\\n",
       "76    22.199   systemd-sysctl  28624  28614   \n",
       "86    23.047              sed  28672  28670   \n",
       "85    23.035               sh  28670   1158   \n",
       "87    23.052           lpstat  28671  28670   \n",
       "75    22.188          ifquery  28619     -1   \n",
       "74    22.187   systemd-sysctl  28623  28613   \n",
       "593  138.300       01ifupdown  29195  29191   \n",
       "72    22.164          ifquery  28622     -1   \n",
       "71    22.159          ifquery  28617  28615   \n",
       "70    22.159          ifquery  28621     -1   \n",
       "69    22.155             grep  28618  28615   \n",
       "73    22.187             grep  28620     -1   \n",
       "68    22.107          auplink  28607    917   \n",
       "77    22.221  docker-containe  28628   1051   \n",
       "78    22.228      docker-runc  28633  28628   \n",
       "79    22.247              exe  28644  28633   \n",
       "80    22.283          dockerd  28652  28633   \n",
       "81    22.551      docker-runc  28663   1051   \n",
       "\n",
       "                                            path docker  depth  \\\n",
       "76                   /lib/systemd/systemd-sysctl   None     -1   \n",
       "86                                           sed   None     -1   \n",
       "85                                            sh   None     -1   \n",
       "87                               /usr/bin/lpstat   None     -1   \n",
       "75                                 /sbin/ifquery   None     -1   \n",
       "74                   /lib/systemd/systemd-sysctl   None     -1   \n",
       "593  /etc/NetworkManager/dispatcher.d/01ifupdown   None     -1   \n",
       "72                                 /sbin/ifquery   None     -1   \n",
       "71                                 /sbin/ifquery   None     -1   \n",
       "70                                 /sbin/ifquery   None     -1   \n",
       "69                                     /bin/grep   None     -1   \n",
       "73                                          grep   None     -1   \n",
       "68                                       auplink   None      2   \n",
       "77               /usr/bin/docker-containerd-shim   None      3   \n",
       "78                          /usr/bin/docker-runc   None      4   \n",
       "79                                /proc/self/exe   None      5   \n",
       "80                              /usr/bin/dockerd   None      5   \n",
       "81                          /usr/bin/docker-runc   None      5   \n",
       "\n",
       "                     rates  rate1s  rate5s  \n",
       "76   {\"1\": 14.0, \"5\": 5.2}    14.0     5.2  \n",
       "86   {\"1\": 17.0, \"5\": 6.0}    17.0     6.0  \n",
       "85   {\"1\": 16.0, \"5\": 5.8}    16.0     5.8  \n",
       "87   {\"1\": 18.0, \"5\": 6.2}    18.0     6.2  \n",
       "75   {\"1\": 13.0, \"5\": 5.0}    13.0     5.0  \n",
       "74   {\"1\": 12.0, \"5\": 4.8}    12.0     4.8  \n",
       "593   {\"1\": 6.0, \"5\": 3.6}     6.0     3.6  \n",
       "72   {\"1\": 10.0, \"5\": 4.4}    10.0     4.4  \n",
       "71    {\"1\": 9.0, \"5\": 4.2}     9.0     4.2  \n",
       "70    {\"1\": 8.0, \"5\": 4.0}     8.0     4.0  \n",
       "69    {\"1\": 7.0, \"5\": 3.8}     7.0     3.8  \n",
       "73   {\"1\": 11.0, \"5\": 4.6}    11.0     4.6  \n",
       "68    {\"1\": 6.0, \"5\": 3.6}     6.0     3.6  \n",
       "77   {\"1\": 15.0, \"5\": 5.4}    15.0     5.4  \n",
       "78   {\"1\": 16.0, \"5\": 5.6}    16.0     5.6  \n",
       "79   {\"1\": 17.0, \"5\": 5.8}    17.0     5.8  \n",
       "80   {\"1\": 18.0, \"5\": 6.0}    18.0     6.0  \n",
       "81   {\"1\": 19.0, \"5\": 6.2}    19.0     6.2  "
      ]
     },
     "execution_count": 17,
     "metadata": {},
     "output_type": "execute_result"
    }
   ],
   "source": [
    "exec_clean[(exec_clean.rate1s > 5)].sort_values(by='depth')"
   ]
  },
  {
   "cell_type": "markdown",
   "metadata": {},
   "source": [
    "Again we see a lot of outliers of rate1s aroung the 22 time, and there is a lot of overlap with depth=-1 values. \n",
    "We can see a few outliers from the distribution of rate1s, we can try using scatter plot here as well"
   ]
  },
  {
   "cell_type": "code",
   "execution_count": 18,
   "metadata": {},
   "outputs": [
    {
     "data": {
      "text/plain": [
       "<seaborn.axisgrid.FacetGrid at 0x1104b4d68>"
      ]
     },
     "execution_count": 18,
     "metadata": {},
     "output_type": "execute_result"
    },
    {
     "data": {
      "image/png": "[encoded data removed]",
      "text/plain": [
       "<matplotlib.figure.Figure at 0x113565cf8>"
      ]
     },
     "metadata": {},
     "output_type": "display_data"
    }
   ],
   "source": [
    "g = sns.FacetGrid(exec_clean)  \n",
    "g.map(plt.scatter, \"ts\", \"rate1s\")  "
   ]
  },
  {
   "cell_type": "markdown",
   "metadata": {},
   "source": [
    "Zoom in"
   ]
  },
  {
   "cell_type": "code",
   "execution_count": 19,
   "metadata": {},
   "outputs": [
    {
     "data": {
      "text/plain": [
       "(-1, 20)"
      ]
     },
     "execution_count": 19,
     "metadata": {},
     "output_type": "execute_result"
    },
    {
     "data": {
      "image/png": "[encoded data removed]",
      "text/plain": [
       "<matplotlib.figure.Figure at 0x1135b1eb8>"
      ]
     },
     "metadata": {},
     "output_type": "display_data"
    }
   ],
   "source": [
    "g = sns.FacetGrid(exec_clean)  \n",
    "g.map(plt.scatter, \"ts\", \"rate1s\")  \n",
    "plt.xlim(0, 50)  \n",
    "plt.ylim(-1, 20) "
   ]
  },
  {
   "cell_type": "markdown",
   "metadata": {},
   "source": [
    "These outliers occur at around 22t as well."
   ]
  },
  {
   "cell_type": "code",
   "execution_count": 20,
   "metadata": {},
   "outputs": [
    {
     "data": {
      "image/png": "[encoded data removed]",
      "text/plain": [
       "<matplotlib.figure.Figure at 0x113587320>"
      ]
     },
     "metadata": {},
     "output_type": "display_data"
    }
   ],
   "source": [
    "# histogram\n",
    "sns.distplot(exec_clean['rate1s'], kde=True);"
   ]
  },
  {
   "cell_type": "code",
   "execution_count": 21,
   "metadata": {},
   "outputs": [
    {
     "data": {
      "text/plain": [
       "2.8    606\n",
       "2.6    598\n",
       "3.0    451\n",
       "2.4    170\n",
       "2.0     93\n",
       "1.6     92\n",
       "1.8     89\n",
       "2.2     86\n",
       "1.4     60\n",
       "1.2     50\n",
       "1.0     47\n",
       "0.8     44\n",
       "0.6     35\n",
       "0.4     20\n",
       "3.2     11\n",
       "0.2     10\n",
       "3.4     10\n",
       "6.2      5\n",
       "5.8      5\n",
       "6.0      5\n",
       "3.6      3\n",
       "5.2      2\n",
       "5.4      2\n",
       "5.6      2\n",
       "4.2      1\n",
       "4.6      1\n",
       "4.4      1\n",
       "3.8      1\n",
       "5.0      1\n",
       "4.0      1\n",
       "4.8      1\n",
       "Name: rate5s, dtype: int64"
      ]
     },
     "execution_count": 21,
     "metadata": {},
     "output_type": "execute_result"
    }
   ],
   "source": [
    "# rate1s numerical distribution\n",
    "exec_clean['rate5s'].value_counts()"
   ]
  },
  {
   "cell_type": "code",
   "execution_count": 22,
   "metadata": {},
   "outputs": [
    {
     "data": {
      "text/html": [
       "<div>\n",
       "<table border=\"1\" class=\"dataframe\">\n",
       "  <thead>\n",
       "    <tr style=\"text-align: right;\">\n",
       "      <th></th>\n",
       "      <th>ts</th>\n",
       "      <th>exe</th>\n",
       "      <th>pid</th>\n",
       "      <th>ppid</th>\n",
       "      <th>path</th>\n",
       "      <th>docker</th>\n",
       "      <th>depth</th>\n",
       "      <th>rates</th>\n",
       "      <th>rate1s</th>\n",
       "      <th>rate5s</th>\n",
       "    </tr>\n",
       "  </thead>\n",
       "  <tbody>\n",
       "    <tr>\n",
       "      <th>76</th>\n",
       "      <td>22.199</td>\n",
       "      <td>systemd-sysctl</td>\n",
       "      <td>28624</td>\n",
       "      <td>28614</td>\n",
       "      <td>/lib/systemd/systemd-sysctl</td>\n",
       "      <td>None</td>\n",
       "      <td>-1</td>\n",
       "      <td>{\"1\": 14.0, \"5\": 5.2}</td>\n",
       "      <td>14.0</td>\n",
       "      <td>5.2</td>\n",
       "    </tr>\n",
       "    <tr>\n",
       "      <th>86</th>\n",
       "      <td>23.047</td>\n",
       "      <td>sed</td>\n",
       "      <td>28672</td>\n",
       "      <td>28670</td>\n",
       "      <td>sed</td>\n",
       "      <td>None</td>\n",
       "      <td>-1</td>\n",
       "      <td>{\"1\": 17.0, \"5\": 6.0}</td>\n",
       "      <td>17.0</td>\n",
       "      <td>6.0</td>\n",
       "    </tr>\n",
       "    <tr>\n",
       "      <th>85</th>\n",
       "      <td>23.035</td>\n",
       "      <td>sh</td>\n",
       "      <td>28670</td>\n",
       "      <td>1158</td>\n",
       "      <td>sh</td>\n",
       "      <td>None</td>\n",
       "      <td>-1</td>\n",
       "      <td>{\"1\": 16.0, \"5\": 5.8}</td>\n",
       "      <td>16.0</td>\n",
       "      <td>5.8</td>\n",
       "    </tr>\n",
       "    <tr>\n",
       "      <th>87</th>\n",
       "      <td>23.052</td>\n",
       "      <td>lpstat</td>\n",
       "      <td>28671</td>\n",
       "      <td>28670</td>\n",
       "      <td>/usr/bin/lpstat</td>\n",
       "      <td>None</td>\n",
       "      <td>-1</td>\n",
       "      <td>{\"1\": 18.0, \"5\": 6.2}</td>\n",
       "      <td>18.0</td>\n",
       "      <td>6.2</td>\n",
       "    </tr>\n",
       "    <tr>\n",
       "      <th>75</th>\n",
       "      <td>22.188</td>\n",
       "      <td>ifquery</td>\n",
       "      <td>28619</td>\n",
       "      <td>-1</td>\n",
       "      <td>/sbin/ifquery</td>\n",
       "      <td>None</td>\n",
       "      <td>-1</td>\n",
       "      <td>{\"1\": 13.0, \"5\": 5.0}</td>\n",
       "      <td>13.0</td>\n",
       "      <td>5.0</td>\n",
       "    </tr>\n",
       "    <tr>\n",
       "      <th>74</th>\n",
       "      <td>22.187</td>\n",
       "      <td>systemd-sysctl</td>\n",
       "      <td>28623</td>\n",
       "      <td>28613</td>\n",
       "      <td>/lib/systemd/systemd-sysctl</td>\n",
       "      <td>None</td>\n",
       "      <td>-1</td>\n",
       "      <td>{\"1\": 12.0, \"5\": 4.8}</td>\n",
       "      <td>12.0</td>\n",
       "      <td>4.8</td>\n",
       "    </tr>\n",
       "    <tr>\n",
       "      <th>593</th>\n",
       "      <td>138.300</td>\n",
       "      <td>01ifupdown</td>\n",
       "      <td>29195</td>\n",
       "      <td>29191</td>\n",
       "      <td>/etc/NetworkManager/dispatcher.d/01ifupdown</td>\n",
       "      <td>None</td>\n",
       "      <td>-1</td>\n",
       "      <td>{\"1\": 6.0, \"5\": 3.6}</td>\n",
       "      <td>6.0</td>\n",
       "      <td>3.6</td>\n",
       "    </tr>\n",
       "    <tr>\n",
       "      <th>72</th>\n",
       "      <td>22.164</td>\n",
       "      <td>ifquery</td>\n",
       "      <td>28622</td>\n",
       "      <td>-1</td>\n",
       "      <td>/sbin/ifquery</td>\n",
       "      <td>None</td>\n",
       "      <td>-1</td>\n",
       "      <td>{\"1\": 10.0, \"5\": 4.4}</td>\n",
       "      <td>10.0</td>\n",
       "      <td>4.4</td>\n",
       "    </tr>\n",
       "    <tr>\n",
       "      <th>71</th>\n",
       "      <td>22.159</td>\n",
       "      <td>ifquery</td>\n",
       "      <td>28617</td>\n",
       "      <td>28615</td>\n",
       "      <td>/sbin/ifquery</td>\n",
       "      <td>None</td>\n",
       "      <td>-1</td>\n",
       "      <td>{\"1\": 9.0, \"5\": 4.2}</td>\n",
       "      <td>9.0</td>\n",
       "      <td>4.2</td>\n",
       "    </tr>\n",
       "    <tr>\n",
       "      <th>70</th>\n",
       "      <td>22.159</td>\n",
       "      <td>ifquery</td>\n",
       "      <td>28621</td>\n",
       "      <td>-1</td>\n",
       "      <td>/sbin/ifquery</td>\n",
       "      <td>None</td>\n",
       "      <td>-1</td>\n",
       "      <td>{\"1\": 8.0, \"5\": 4.0}</td>\n",
       "      <td>8.0</td>\n",
       "      <td>4.0</td>\n",
       "    </tr>\n",
       "    <tr>\n",
       "      <th>69</th>\n",
       "      <td>22.155</td>\n",
       "      <td>grep</td>\n",
       "      <td>28618</td>\n",
       "      <td>28615</td>\n",
       "      <td>/bin/grep</td>\n",
       "      <td>None</td>\n",
       "      <td>-1</td>\n",
       "      <td>{\"1\": 7.0, \"5\": 3.8}</td>\n",
       "      <td>7.0</td>\n",
       "      <td>3.8</td>\n",
       "    </tr>\n",
       "    <tr>\n",
       "      <th>73</th>\n",
       "      <td>22.187</td>\n",
       "      <td>grep</td>\n",
       "      <td>28620</td>\n",
       "      <td>-1</td>\n",
       "      <td>grep</td>\n",
       "      <td>None</td>\n",
       "      <td>-1</td>\n",
       "      <td>{\"1\": 11.0, \"5\": 4.6}</td>\n",
       "      <td>11.0</td>\n",
       "      <td>4.6</td>\n",
       "    </tr>\n",
       "    <tr>\n",
       "      <th>68</th>\n",
       "      <td>22.107</td>\n",
       "      <td>auplink</td>\n",
       "      <td>28607</td>\n",
       "      <td>917</td>\n",
       "      <td>auplink</td>\n",
       "      <td>None</td>\n",
       "      <td>2</td>\n",
       "      <td>{\"1\": 6.0, \"5\": 3.6}</td>\n",
       "      <td>6.0</td>\n",
       "      <td>3.6</td>\n",
       "    </tr>\n",
       "    <tr>\n",
       "      <th>77</th>\n",
       "      <td>22.221</td>\n",
       "      <td>docker-containe</td>\n",
       "      <td>28628</td>\n",
       "      <td>1051</td>\n",
       "      <td>/usr/bin/docker-containerd-shim</td>\n",
       "      <td>None</td>\n",
       "      <td>3</td>\n",
       "      <td>{\"1\": 15.0, \"5\": 5.4}</td>\n",
       "      <td>15.0</td>\n",
       "      <td>5.4</td>\n",
       "    </tr>\n",
       "    <tr>\n",
       "      <th>78</th>\n",
       "      <td>22.228</td>\n",
       "      <td>docker-runc</td>\n",
       "      <td>28633</td>\n",
       "      <td>28628</td>\n",
       "      <td>/usr/bin/docker-runc</td>\n",
       "      <td>None</td>\n",
       "      <td>4</td>\n",
       "      <td>{\"1\": 16.0, \"5\": 5.6}</td>\n",
       "      <td>16.0</td>\n",
       "      <td>5.6</td>\n",
       "    </tr>\n",
       "    <tr>\n",
       "      <th>79</th>\n",
       "      <td>22.247</td>\n",
       "      <td>exe</td>\n",
       "      <td>28644</td>\n",
       "      <td>28633</td>\n",
       "      <td>/proc/self/exe</td>\n",
       "      <td>None</td>\n",
       "      <td>5</td>\n",
       "      <td>{\"1\": 17.0, \"5\": 5.8}</td>\n",
       "      <td>17.0</td>\n",
       "      <td>5.8</td>\n",
       "    </tr>\n",
       "    <tr>\n",
       "      <th>80</th>\n",
       "      <td>22.283</td>\n",
       "      <td>dockerd</td>\n",
       "      <td>28652</td>\n",
       "      <td>28633</td>\n",
       "      <td>/usr/bin/dockerd</td>\n",
       "      <td>None</td>\n",
       "      <td>5</td>\n",
       "      <td>{\"1\": 18.0, \"5\": 6.0}</td>\n",
       "      <td>18.0</td>\n",
       "      <td>6.0</td>\n",
       "    </tr>\n",
       "    <tr>\n",
       "      <th>81</th>\n",
       "      <td>22.551</td>\n",
       "      <td>docker-runc</td>\n",
       "      <td>28663</td>\n",
       "      <td>1051</td>\n",
       "      <td>/usr/bin/docker-runc</td>\n",
       "      <td>None</td>\n",
       "      <td>5</td>\n",
       "      <td>{\"1\": 19.0, \"5\": 6.2}</td>\n",
       "      <td>19.0</td>\n",
       "      <td>6.2</td>\n",
       "    </tr>\n",
       "  </tbody>\n",
       "</table>\n",
       "</div>"
      ],
      "text/plain": [
       "          ts              exe    pid   ppid  \\\n",
       "76    22.199   systemd-sysctl  28624  28614   \n",
       "86    23.047              sed  28672  28670   \n",
       "85    23.035               sh  28670   1158   \n",
       "87    23.052           lpstat  28671  28670   \n",
       "75    22.188          ifquery  28619     -1   \n",
       "74    22.187   systemd-sysctl  28623  28613   \n",
       "593  138.300       01ifupdown  29195  29191   \n",
       "72    22.164          ifquery  28622     -1   \n",
       "71    22.159          ifquery  28617  28615   \n",
       "70    22.159          ifquery  28621     -1   \n",
       "69    22.155             grep  28618  28615   \n",
       "73    22.187             grep  28620     -1   \n",
       "68    22.107          auplink  28607    917   \n",
       "77    22.221  docker-containe  28628   1051   \n",
       "78    22.228      docker-runc  28633  28628   \n",
       "79    22.247              exe  28644  28633   \n",
       "80    22.283          dockerd  28652  28633   \n",
       "81    22.551      docker-runc  28663   1051   \n",
       "\n",
       "                                            path docker  depth  \\\n",
       "76                   /lib/systemd/systemd-sysctl   None     -1   \n",
       "86                                           sed   None     -1   \n",
       "85                                            sh   None     -1   \n",
       "87                               /usr/bin/lpstat   None     -1   \n",
       "75                                 /sbin/ifquery   None     -1   \n",
       "74                   /lib/systemd/systemd-sysctl   None     -1   \n",
       "593  /etc/NetworkManager/dispatcher.d/01ifupdown   None     -1   \n",
       "72                                 /sbin/ifquery   None     -1   \n",
       "71                                 /sbin/ifquery   None     -1   \n",
       "70                                 /sbin/ifquery   None     -1   \n",
       "69                                     /bin/grep   None     -1   \n",
       "73                                          grep   None     -1   \n",
       "68                                       auplink   None      2   \n",
       "77               /usr/bin/docker-containerd-shim   None      3   \n",
       "78                          /usr/bin/docker-runc   None      4   \n",
       "79                                /proc/self/exe   None      5   \n",
       "80                              /usr/bin/dockerd   None      5   \n",
       "81                          /usr/bin/docker-runc   None      5   \n",
       "\n",
       "                     rates  rate1s  rate5s  \n",
       "76   {\"1\": 14.0, \"5\": 5.2}    14.0     5.2  \n",
       "86   {\"1\": 17.0, \"5\": 6.0}    17.0     6.0  \n",
       "85   {\"1\": 16.0, \"5\": 5.8}    16.0     5.8  \n",
       "87   {\"1\": 18.0, \"5\": 6.2}    18.0     6.2  \n",
       "75   {\"1\": 13.0, \"5\": 5.0}    13.0     5.0  \n",
       "74   {\"1\": 12.0, \"5\": 4.8}    12.0     4.8  \n",
       "593   {\"1\": 6.0, \"5\": 3.6}     6.0     3.6  \n",
       "72   {\"1\": 10.0, \"5\": 4.4}    10.0     4.4  \n",
       "71    {\"1\": 9.0, \"5\": 4.2}     9.0     4.2  \n",
       "70    {\"1\": 8.0, \"5\": 4.0}     8.0     4.0  \n",
       "69    {\"1\": 7.0, \"5\": 3.8}     7.0     3.8  \n",
       "73   {\"1\": 11.0, \"5\": 4.6}    11.0     4.6  \n",
       "68    {\"1\": 6.0, \"5\": 3.6}     6.0     3.6  \n",
       "77   {\"1\": 15.0, \"5\": 5.4}    15.0     5.4  \n",
       "78   {\"1\": 16.0, \"5\": 5.6}    16.0     5.6  \n",
       "79   {\"1\": 17.0, \"5\": 5.8}    17.0     5.8  \n",
       "80   {\"1\": 18.0, \"5\": 6.0}    18.0     6.0  \n",
       "81   {\"1\": 19.0, \"5\": 6.2}    19.0     6.2  "
      ]
     },
     "execution_count": 22,
     "metadata": {},
     "output_type": "execute_result"
    }
   ],
   "source": [
    "exec_clean[(exec_clean.rate1s > 5)].sort_values(by='depth')"
   ]
  },
  {
   "cell_type": "code",
   "execution_count": 23,
   "metadata": {},
   "outputs": [
    {
     "data": {
      "text/plain": [
       "<seaborn.axisgrid.FacetGrid at 0x1134d8828>"
      ]
     },
     "execution_count": 23,
     "metadata": {},
     "output_type": "execute_result"
    },
    {
     "data": {
      "image/png": "[encoded data removed]",
      "text/plain": [
       "<matplotlib.figure.Figure at 0x113634f60>"
      ]
     },
     "metadata": {},
     "output_type": "display_data"
    }
   ],
   "source": [
    "g = sns.FacetGrid(exec_clean)  \n",
    "g.map(plt.scatter, \"ts\", \"rate5s\")  "
   ]
  },
  {
   "cell_type": "code",
   "execution_count": 24,
   "metadata": {},
   "outputs": [
    {
     "data": {
      "text/plain": [
       "(-1, 10)"
      ]
     },
     "execution_count": 24,
     "metadata": {},
     "output_type": "execute_result"
    },
    {
     "data": {
      "image/png": "[encoded data removed]",
      "text/plain": [
       "<matplotlib.figure.Figure at 0x11385cfd0>"
      ]
     },
     "metadata": {},
     "output_type": "display_data"
    }
   ],
   "source": [
    "g = sns.FacetGrid(exec_clean)  \n",
    "g.map(plt.scatter, \"ts\", \"rate5s\")  \n",
    "plt.xlim(0, 100)  \n",
    "plt.ylim(-1, 10) "
   ]
  },
  {
   "cell_type": "code",
   "execution_count": 25,
   "metadata": {},
   "outputs": [
    {
     "data": {
      "image/png": "[encoded data removed]",
      "text/plain": [
       "<matplotlib.figure.Figure at 0x113861a20>"
      ]
     },
     "metadata": {},
     "output_type": "display_data"
    }
   ],
   "source": [
    "# histogram\n",
    "sns.distplot(exec_clean['rate5s'], kde=True, rug=True);"
   ]
  },
  {
   "cell_type": "markdown",
   "metadata": {},
   "source": [
    "### Time scale plot"
   ]
  },
  {
   "cell_type": "code",
   "execution_count": 26,
   "metadata": {},
   "outputs": [
    {
     "data": {
      "text/plain": [
       "[<matplotlib.lines.Line2D at 0x115ee5518>]"
      ]
     },
     "execution_count": 26,
     "metadata": {},
     "output_type": "execute_result"
    },
    {
     "data": {
      "image/png": "[encoded data removed]",
      "text/plain": [
       "<matplotlib.figure.Figure at 0x113861fd0>"
      ]
     },
     "metadata": {},
     "output_type": "display_data"
    }
   ],
   "source": [
    "plt.plot(exec_clean['ts'], exec_clean['ts'], linewidth=2)"
   ]
  },
  {
   "cell_type": "code",
   "execution_count": 27,
   "metadata": {
    "collapsed": true
   },
   "outputs": [],
   "source": [
    "def display_plot_hist(input_df, x, y, x_lim=0, y_lim=0):\n",
    "    \"\"\"\n",
    "    Function to display a scatter plot and histogram given a dataframe and the corresponding X and Y axis\n",
    "    \n",
    "    @Param:\n",
    "        input_df: the input dataframe\n",
    "        x: the name of the column to be considered the x axis\n",
    "        y: the name of the column to be considered the y axis\n",
    "        x_lim: the x axis limits, pass as list (optional)\n",
    "        y_lim: the y axis limit, pass as list (optional)\n",
    "    \n",
    "    @Return:\n",
    "        None\n",
    "    \"\"\"\n",
    "    # Display Scatter plot\n",
    "    plt.figure()\n",
    "    #g = sns.FacetGrid(input_df)  \n",
    "    #g.map(plt.scatter, x, y)  \n",
    "    #fig, (ax1, ax2) = plt.subplots(ncols=2, sharey=True)\n",
    "    sns.lmplot(x, y, data=input_df, fit_reg=False)\n",
    "    if x_lim != 0:\n",
    "        plt.xlim(x_lim)  \n",
    "        plt.ylim(y_lim) \n",
    "    # Histogram\n",
    "    plt.figure()\n",
    "    sns.distplot(input_df[y], kde=True, rug=True)"
   ]
  },
  {
   "cell_type": "code",
   "execution_count": 28,
   "metadata": {},
   "outputs": [
    {
     "data": {
      "text/plain": [
       "<matplotlib.figure.Figure at 0x115ef5b00>"
      ]
     },
     "metadata": {},
     "output_type": "display_data"
    },
    {
     "data": {
      "image/png": "[encoded data removed]",
      "text/plain": [
       "<matplotlib.figure.Figure at 0x115cbc278>"
      ]
     },
     "metadata": {},
     "output_type": "display_data"
    },
    {
     "data": {
      "image/png": "[encoded data removed]",
      "text/plain": [
       "<matplotlib.figure.Figure at 0x115cbc710>"
      ]
     },
     "metadata": {},
     "output_type": "display_data"
    }
   ],
   "source": [
    "display_plot_hist(input_df=exec_clean, x='ts', y='rate1s')"
   ]
  },
  {
   "cell_type": "code",
   "execution_count": 29,
   "metadata": {
    "collapsed": true
   },
   "outputs": [],
   "source": [
    "# Read sqlite query results into a pandas DataFrame\n",
    "sql_conn = sqlite3.connect(\"sqlite.db\")\n",
    "tcp_df = pd.read_sql_query(\"SELECT * from tcplife\", sql_conn)\n",
    "sql_conn.close()"
   ]
  },
  {
   "cell_type": "code",
   "execution_count": 30,
   "metadata": {},
   "outputs": [
    {
     "data": {
      "text/html": [
       "<div>\n",
       "<table border=\"1\" class=\"dataframe\">\n",
       "  <thead>\n",
       "    <tr style=\"text-align: right;\">\n",
       "      <th></th>\n",
       "      <th>ts</th>\n",
       "      <th>pid</th>\n",
       "      <th>lport</th>\n",
       "      <th>rport</th>\n",
       "      <th>rx</th>\n",
       "      <th>tx</th>\n",
       "      <th>dur</th>\n",
       "      <th>histotimes</th>\n",
       "      <th>histosizes</th>\n",
       "      <th>histoports</th>\n",
       "      <th>docker</th>\n",
       "      <th>prediction</th>\n",
       "      <th>predquality</th>\n",
       "    </tr>\n",
       "  </thead>\n",
       "  <tbody>\n",
       "    <tr>\n",
       "      <th>0</th>\n",
       "      <td>25.147065</td>\n",
       "      <td>28668</td>\n",
       "      <td>60290</td>\n",
       "      <td>80</td>\n",
       "      <td>30</td>\n",
       "      <td>0</td>\n",
       "      <td>93.65</td>\n",
       "      <td>[[0, 0, 1, 0, 0], 93.65, 93.65]</td>\n",
       "      <td>[[0, 0, 1, 0, 0], 30, 30]</td>\n",
       "      <td>[[\"22\", \"80\", \"443\", \"other\"], {\"443\": 0, \"80\"...</td>\n",
       "      <td>/docker/6aebd9a7d81f55435baff1afbcc16b11362669...</td>\n",
       "      <td>-11.362980</td>\n",
       "      <td>1</td>\n",
       "    </tr>\n",
       "    <tr>\n",
       "      <th>1</th>\n",
       "      <td>25.536215</td>\n",
       "      <td>28669</td>\n",
       "      <td>47054</td>\n",
       "      <td>80</td>\n",
       "      <td>166</td>\n",
       "      <td>0</td>\n",
       "      <td>192.11</td>\n",
       "      <td>[[1, 0, 0, 0, 1], 93.65, 192.11]</td>\n",
       "      <td>[[1, 0, 0, 0, 1], 30, 166]</td>\n",
       "      <td>[[\"22\", \"80\", \"443\", \"other\"], {\"443\": 0, \"80\"...</td>\n",
       "      <td>/docker/6aebd9a7d81f55435baff1afbcc16b11362669...</td>\n",
       "      <td>-14.629130</td>\n",
       "      <td>1</td>\n",
       "    </tr>\n",
       "    <tr>\n",
       "      <th>2</th>\n",
       "      <td>26.039532</td>\n",
       "      <td>28673</td>\n",
       "      <td>53762</td>\n",
       "      <td>80</td>\n",
       "      <td>0</td>\n",
       "      <td>0</td>\n",
       "      <td>81.72</td>\n",
       "      <td>[[2, 0, 0, 0, 1], 81.72, 192.11]</td>\n",
       "      <td>[[2, 0, 0, 0, 1], 0, 166]</td>\n",
       "      <td>[[\"22\", \"80\", \"443\", \"other\"], {\"443\": 0, \"80\"...</td>\n",
       "      <td>/docker/6aebd9a7d81f55435baff1afbcc16b11362669...</td>\n",
       "      <td>-10.452350</td>\n",
       "      <td>1</td>\n",
       "    </tr>\n",
       "    <tr>\n",
       "      <th>3</th>\n",
       "      <td>26.201396</td>\n",
       "      <td>28673</td>\n",
       "      <td>50248</td>\n",
       "      <td>80</td>\n",
       "      <td>0</td>\n",
       "      <td>0</td>\n",
       "      <td>25.16</td>\n",
       "      <td>[[1, 1, 1, 0, 1], 25.16, 192.11]</td>\n",
       "      <td>[[3, 0, 0, 0, 1], 0, 166]</td>\n",
       "      <td>[[\"22\", \"80\", \"443\", \"other\"], {\"443\": 0, \"80\"...</td>\n",
       "      <td>/docker/6aebd9a7d81f55435baff1afbcc16b11362669...</td>\n",
       "      <td>-10.414340</td>\n",
       "      <td>1</td>\n",
       "    </tr>\n",
       "    <tr>\n",
       "      <th>4</th>\n",
       "      <td>26.329412</td>\n",
       "      <td>28673</td>\n",
       "      <td>57968</td>\n",
       "      <td>443</td>\n",
       "      <td>0</td>\n",
       "      <td>0</td>\n",
       "      <td>17.78</td>\n",
       "      <td>[[2, 1, 1, 0, 1], 17.78, 192.11]</td>\n",
       "      <td>[[4, 0, 0, 0, 1], 0, 166]</td>\n",
       "      <td>[[\"22\", \"80\", \"443\", \"other\"], {\"443\": 1, \"80\"...</td>\n",
       "      <td>/docker/6aebd9a7d81f55435baff1afbcc16b11362669...</td>\n",
       "      <td>-23.817379</td>\n",
       "      <td>0</td>\n",
       "    </tr>\n",
       "  </tbody>\n",
       "</table>\n",
       "</div>"
      ],
      "text/plain": [
       "          ts    pid  lport rport   rx  tx     dur  \\\n",
       "0  25.147065  28668  60290    80   30   0   93.65   \n",
       "1  25.536215  28669  47054    80  166   0  192.11   \n",
       "2  26.039532  28673  53762    80    0   0   81.72   \n",
       "3  26.201396  28673  50248    80    0   0   25.16   \n",
       "4  26.329412  28673  57968   443    0   0   17.78   \n",
       "\n",
       "                         histotimes                  histosizes  \\\n",
       "0   [[0, 0, 1, 0, 0], 93.65, 93.65]   [[0, 0, 1, 0, 0], 30, 30]   \n",
       "1  [[1, 0, 0, 0, 1], 93.65, 192.11]  [[1, 0, 0, 0, 1], 30, 166]   \n",
       "2  [[2, 0, 0, 0, 1], 81.72, 192.11]   [[2, 0, 0, 0, 1], 0, 166]   \n",
       "3  [[1, 1, 1, 0, 1], 25.16, 192.11]   [[3, 0, 0, 0, 1], 0, 166]   \n",
       "4  [[2, 1, 1, 0, 1], 17.78, 192.11]   [[4, 0, 0, 0, 1], 0, 166]   \n",
       "\n",
       "                                          histoports  \\\n",
       "0  [[\"22\", \"80\", \"443\", \"other\"], {\"443\": 0, \"80\"...   \n",
       "1  [[\"22\", \"80\", \"443\", \"other\"], {\"443\": 0, \"80\"...   \n",
       "2  [[\"22\", \"80\", \"443\", \"other\"], {\"443\": 0, \"80\"...   \n",
       "3  [[\"22\", \"80\", \"443\", \"other\"], {\"443\": 0, \"80\"...   \n",
       "4  [[\"22\", \"80\", \"443\", \"other\"], {\"443\": 1, \"80\"...   \n",
       "\n",
       "                                              docker  prediction  predquality  \n",
       "0  /docker/6aebd9a7d81f55435baff1afbcc16b11362669...  -11.362980            1  \n",
       "1  /docker/6aebd9a7d81f55435baff1afbcc16b11362669...  -14.629130            1  \n",
       "2  /docker/6aebd9a7d81f55435baff1afbcc16b11362669...  -10.452350            1  \n",
       "3  /docker/6aebd9a7d81f55435baff1afbcc16b11362669...  -10.414340            1  \n",
       "4  /docker/6aebd9a7d81f55435baff1afbcc16b11362669...  -23.817379            0  "
      ]
     },
     "execution_count": 30,
     "metadata": {},
     "output_type": "execute_result"
    }
   ],
   "source": [
    "tcp_df.head()"
   ]
  },
  {
   "cell_type": "markdown",
   "metadata": {},
   "source": [
    "##  Plot\n",
    "       rx, tx, dur, lport and rport"
   ]
  },
  {
   "cell_type": "code",
   "execution_count": 31,
   "metadata": {},
   "outputs": [
    {
     "data": {
      "text/plain": [
       "<matplotlib.figure.Figure at 0x1134bab00>"
      ]
     },
     "metadata": {},
     "output_type": "display_data"
    },
    {
     "data": {
      "image/png": "[encoded data removed]",
      "text/plain": [
       "<matplotlib.figure.Figure at 0x1153df588>"
      ]
     },
     "metadata": {},
     "output_type": "display_data"
    },
    {
     "data": {
      "image/png": "[encoded data removed]",
      "text/plain": [
       "<matplotlib.figure.Figure at 0x1153dfc50>"
      ]
     },
     "metadata": {},
     "output_type": "display_data"
    }
   ],
   "source": [
    "display_plot_hist(input_df=tcp_df, x='ts', y='rx')"
   ]
  },
  {
   "cell_type": "code",
   "execution_count": 32,
   "metadata": {},
   "outputs": [
    {
     "data": {
      "text/plain": [
       "ts             944\n",
       "pid            944\n",
       "lport          944\n",
       "rport          944\n",
       "rx             944\n",
       "tx             944\n",
       "dur            944\n",
       "histotimes     944\n",
       "histosizes     944\n",
       "histoports     944\n",
       "docker         944\n",
       "prediction     944\n",
       "predquality    944\n",
       "dtype: int64"
      ]
     },
     "execution_count": 32,
     "metadata": {},
     "output_type": "execute_result"
    }
   ],
   "source": [
    "tcp_df.count()"
   ]
  },
  {
   "cell_type": "code",
   "execution_count": 33,
   "metadata": {},
   "outputs": [
    {
     "data": {
      "text/plain": [
       "0    944\n",
       "Name: tx, dtype: int64"
      ]
     },
     "execution_count": 33,
     "metadata": {},
     "output_type": "execute_result"
    }
   ],
   "source": [
    "tcp_df['tx'].value_counts()"
   ]
  },
  {
   "cell_type": "code",
   "execution_count": 34,
   "metadata": {},
   "outputs": [
    {
     "name": "stderr",
     "output_type": "stream",
     "text": [
      "/Users/Kevin/anaconda/lib/python3.5/site-packages/statsmodels/nonparametric/kde.py:494: RuntimeWarning: invalid value encountered in true_divide\n",
      "  binned = fast_linbin(X,a,b,gridsize)/(delta*nobs)\n",
      "/Users/Kevin/anaconda/lib/python3.5/site-packages/statsmodels/nonparametric/kdetools.py:34: RuntimeWarning: invalid value encountered in double_scalars\n",
      "  FAC1 = 2*(np.pi*bw/RANGE)**2\n"
     ]
    },
    {
     "data": {
      "text/plain": [
       "<matplotlib.figure.Figure at 0x1152d60b8>"
      ]
     },
     "metadata": {},
     "output_type": "display_data"
    },
    {
     "data": {
      "image/png": "[encoded data removed]",
      "text/plain": [
       "<matplotlib.figure.Figure at 0x1153ce208>"
      ]
     },
     "metadata": {},
     "output_type": "display_data"
    },
    {
     "data": {
      "image/png": "[encoded data removed]",
      "text/plain": [
       "<matplotlib.figure.Figure at 0x1153c5a58>"
      ]
     },
     "metadata": {},
     "output_type": "display_data"
    }
   ],
   "source": [
    "display_plot_hist(input_df=tcp_df, x='ts', y='tx')"
   ]
  },
  {
   "cell_type": "code",
   "execution_count": 35,
   "metadata": {},
   "outputs": [
    {
     "data": {
      "text/plain": [
       "<matplotlib.figure.Figure at 0x114ca3a58>"
      ]
     },
     "metadata": {},
     "output_type": "display_data"
    },
    {
     "data": {
      "image/png": "[encoded data removed]",
      "text/plain": [
       "<matplotlib.figure.Figure at 0x114c70278>"
      ]
     },
     "metadata": {},
     "output_type": "display_data"
    },
    {
     "data": {
      "image/png": "[encoded data removed]",
      "text/plain": [
       "<matplotlib.figure.Figure at 0x114c16080>"
      ]
     },
     "metadata": {},
     "output_type": "display_data"
    }
   ],
   "source": [
    "display_plot_hist(input_df=tcp_df, x='ts', y='dur')"
   ]
  },
  {
   "cell_type": "code",
   "execution_count": 36,
   "metadata": {},
   "outputs": [
    {
     "data": {
      "text/html": [
       "<div>\n",
       "<table border=\"1\" class=\"dataframe\">\n",
       "  <thead>\n",
       "    <tr style=\"text-align: right;\">\n",
       "      <th></th>\n",
       "      <th>ts</th>\n",
       "      <th>pid</th>\n",
       "      <th>rx</th>\n",
       "      <th>tx</th>\n",
       "      <th>dur</th>\n",
       "      <th>prediction</th>\n",
       "      <th>predquality</th>\n",
       "    </tr>\n",
       "  </thead>\n",
       "  <tbody>\n",
       "    <tr>\n",
       "      <th>count</th>\n",
       "      <td>944.000000</td>\n",
       "      <td>944.000000</td>\n",
       "      <td>944.000000</td>\n",
       "      <td>944.0</td>\n",
       "      <td>944.000000</td>\n",
       "      <td>944.000000</td>\n",
       "      <td>944.000000</td>\n",
       "    </tr>\n",
       "    <tr>\n",
       "      <th>mean</th>\n",
       "      <td>307.715209</td>\n",
       "      <td>29928.452331</td>\n",
       "      <td>61.332627</td>\n",
       "      <td>0.0</td>\n",
       "      <td>261.219121</td>\n",
       "      <td>-15.492141</td>\n",
       "      <td>0.875000</td>\n",
       "    </tr>\n",
       "    <tr>\n",
       "      <th>std</th>\n",
       "      <td>171.971029</td>\n",
       "      <td>751.111665</td>\n",
       "      <td>69.228605</td>\n",
       "      <td>0.0</td>\n",
       "      <td>479.331879</td>\n",
       "      <td>23.434887</td>\n",
       "      <td>0.330894</td>\n",
       "    </tr>\n",
       "    <tr>\n",
       "      <th>min</th>\n",
       "      <td>25.147065</td>\n",
       "      <td>28668.000000</td>\n",
       "      <td>0.000000</td>\n",
       "      <td>0.0</td>\n",
       "      <td>5.040000</td>\n",
       "      <td>-569.245187</td>\n",
       "      <td>0.000000</td>\n",
       "    </tr>\n",
       "    <tr>\n",
       "      <th>25%</th>\n",
       "      <td>157.886505</td>\n",
       "      <td>29267.750000</td>\n",
       "      <td>4.000000</td>\n",
       "      <td>0.0</td>\n",
       "      <td>85.512500</td>\n",
       "      <td>-13.940197</td>\n",
       "      <td>1.000000</td>\n",
       "    </tr>\n",
       "    <tr>\n",
       "      <th>50%</th>\n",
       "      <td>307.397860</td>\n",
       "      <td>29935.500000</td>\n",
       "      <td>26.000000</td>\n",
       "      <td>0.0</td>\n",
       "      <td>144.650000</td>\n",
       "      <td>-11.497844</td>\n",
       "      <td>1.000000</td>\n",
       "    </tr>\n",
       "    <tr>\n",
       "      <th>75%</th>\n",
       "      <td>462.115531</td>\n",
       "      <td>30601.000000</td>\n",
       "      <td>115.000000</td>\n",
       "      <td>0.0</td>\n",
       "      <td>226.797500</td>\n",
       "      <td>-10.481379</td>\n",
       "      <td>1.000000</td>\n",
       "    </tr>\n",
       "    <tr>\n",
       "      <th>max</th>\n",
       "      <td>585.672974</td>\n",
       "      <td>31149.000000</td>\n",
       "      <td>540.000000</td>\n",
       "      <td>0.0</td>\n",
       "      <td>6454.020000</td>\n",
       "      <td>8.375431</td>\n",
       "      <td>1.000000</td>\n",
       "    </tr>\n",
       "  </tbody>\n",
       "</table>\n",
       "</div>"
      ],
      "text/plain": [
       "               ts           pid          rx     tx          dur  prediction  \\\n",
       "count  944.000000    944.000000  944.000000  944.0   944.000000  944.000000   \n",
       "mean   307.715209  29928.452331   61.332627    0.0   261.219121  -15.492141   \n",
       "std    171.971029    751.111665   69.228605    0.0   479.331879   23.434887   \n",
       "min     25.147065  28668.000000    0.000000    0.0     5.040000 -569.245187   \n",
       "25%    157.886505  29267.750000    4.000000    0.0    85.512500  -13.940197   \n",
       "50%    307.397860  29935.500000   26.000000    0.0   144.650000  -11.497844   \n",
       "75%    462.115531  30601.000000  115.000000    0.0   226.797500  -10.481379   \n",
       "max    585.672974  31149.000000  540.000000    0.0  6454.020000    8.375431   \n",
       "\n",
       "       predquality  \n",
       "count   944.000000  \n",
       "mean      0.875000  \n",
       "std       0.330894  \n",
       "min       0.000000  \n",
       "25%       1.000000  \n",
       "50%       1.000000  \n",
       "75%       1.000000  \n",
       "max       1.000000  "
      ]
     },
     "execution_count": 36,
     "metadata": {},
     "output_type": "execute_result"
    }
   ],
   "source": [
    "tcp_df.describe()"
   ]
  },
  {
   "cell_type": "code",
   "execution_count": 37,
   "metadata": {},
   "outputs": [
    {
     "data": {
      "text/plain": [
       "ts             float64\n",
       "pid              int64\n",
       "lport           object\n",
       "rport           object\n",
       "rx               int64\n",
       "tx               int64\n",
       "dur            float64\n",
       "histotimes      object\n",
       "histosizes      object\n",
       "histoports      object\n",
       "docker          object\n",
       "prediction     float64\n",
       "predquality      int64\n",
       "dtype: object"
      ]
     },
     "execution_count": 37,
     "metadata": {},
     "output_type": "execute_result"
    }
   ],
   "source": [
    "tcp_df.dtypes"
   ]
  },
  {
   "cell_type": "code",
   "execution_count": 38,
   "metadata": {
    "collapsed": true
   },
   "outputs": [],
   "source": [
    "tcp_df[['lport', 'rport']] = tcp_df[['lport', 'rport']].astype(int)"
   ]
  },
  {
   "cell_type": "code",
   "execution_count": 39,
   "metadata": {},
   "outputs": [
    {
     "data": {
      "text/plain": [
       "60116    2\n",
       "47232    2\n",
       "48672    2\n",
       "44284    2\n",
       "59954    2\n",
       "47274    2\n",
       "33322    2\n",
       "47270    2\n",
       "47266    2\n",
       "48644    2\n",
       "47796    2\n",
       "40276    2\n",
       "48226    2\n",
       "48346    2\n",
       "47674    2\n",
       "48204    2\n",
       "47358    2\n",
       "48224    2\n",
       "47342    2\n",
       "47110    2\n",
       "48550    2\n",
       "48564    2\n",
       "47236    2\n",
       "47376    2\n",
       "47354    2\n",
       "35204    1\n",
       "47762    1\n",
       "47760    1\n",
       "47734    1\n",
       "47758    1\n",
       "        ..\n",
       "52430    1\n",
       "48400    1\n",
       "48404    1\n",
       "57662    1\n",
       "46396    1\n",
       "48376    1\n",
       "60756    1\n",
       "40274    1\n",
       "42320    1\n",
       "48462    1\n",
       "36172    1\n",
       "48452    1\n",
       "48450    1\n",
       "48448    1\n",
       "49706    1\n",
       "48446    1\n",
       "48442    1\n",
       "48406    1\n",
       "58680    1\n",
       "49704    1\n",
       "48438    1\n",
       "38194    1\n",
       "34372    1\n",
       "50474    1\n",
       "51492    1\n",
       "46376    1\n",
       "48418    1\n",
       "48414    1\n",
       "48412    1\n",
       "47106    1\n",
       "Name: lport, dtype: int64"
      ]
     },
     "execution_count": 39,
     "metadata": {},
     "output_type": "execute_result"
    }
   ],
   "source": [
    "tcp_df['lport'].value_counts()"
   ]
  },
  {
   "cell_type": "code",
   "execution_count": 40,
   "metadata": {},
   "outputs": [
    {
     "data": {
      "text/plain": [
       "<matplotlib.figure.Figure at 0x1153da128>"
      ]
     },
     "metadata": {},
     "output_type": "display_data"
    },
    {
     "data": {
      "image/png": "[encoded data removed]",
      "text/plain": [
       "<matplotlib.figure.Figure at 0x1150188d0>"
      ]
     },
     "metadata": {},
     "output_type": "display_data"
    },
    {
     "data": {
      "image/png": "[encoded data removed]",
      "text/plain": [
       "<matplotlib.figure.Figure at 0x11647d828>"
      ]
     },
     "metadata": {},
     "output_type": "display_data"
    }
   ],
   "source": [
    "display_plot_hist(input_df=tcp_df, x='ts', y='lport')"
   ]
  },
  {
   "cell_type": "code",
   "execution_count": 41,
   "metadata": {},
   "outputs": [
    {
     "data": {
      "text/plain": [
       "80     833\n",
       "443    111\n",
       "Name: rport, dtype: int64"
      ]
     },
     "execution_count": 41,
     "metadata": {},
     "output_type": "execute_result"
    }
   ],
   "source": [
    "tcp_df['rport'].value_counts()"
   ]
  },
  {
   "cell_type": "code",
   "execution_count": 42,
   "metadata": {},
   "outputs": [
    {
     "data": {
      "text/plain": [
       "<matplotlib.figure.Figure at 0x115143550>"
      ]
     },
     "metadata": {},
     "output_type": "display_data"
    },
    {
     "data": {
      "image/png": "[encoded data removed]",
      "text/plain": [
       "<matplotlib.figure.Figure at 0x1153c35c0>"
      ]
     },
     "metadata": {},
     "output_type": "display_data"
    },
    {
     "data": {
      "image/png": "[encoded data removed]",
      "text/plain": [
       "<matplotlib.figure.Figure at 0x114ffeb00>"
      ]
     },
     "metadata": {},
     "output_type": "display_data"
    }
   ],
   "source": [
    "display_plot_hist(input_df=tcp_df, x='ts', y='rport')"
   ]
  },
  {
   "cell_type": "markdown",
   "metadata": {},
   "source": [
    "# 2. Data Statistics"
   ]
  },
  {
   "cell_type": "code",
   "execution_count": 43,
   "metadata": {},
   "outputs": [
    {
     "data": {
      "text/plain": [
       "{'25%': 85.512500000000003,\n",
       " '50%': 144.64999999999998,\n",
       " '75%': 226.79749999999999,\n",
       " 'count': 944.0,\n",
       " 'max': 6454.0200000000004,\n",
       " 'mean': 261.2191207627119,\n",
       " 'min': 5.04,\n",
       " 'std': 479.33187947782443}"
      ]
     },
     "execution_count": 43,
     "metadata": {},
     "output_type": "execute_result"
    }
   ],
   "source": [
    "# Basic descriptive statistics using pandas\n",
    "tcp_df['dur'].describe().to_dict()"
   ]
  },
  {
   "cell_type": "code",
   "execution_count": 44,
   "metadata": {},
   "outputs": [
    {
     "data": {
      "text/plain": [
       "229759.05068374358"
      ]
     },
     "execution_count": 44,
     "metadata": {},
     "output_type": "execute_result"
    }
   ],
   "source": [
    "tcp_df['dur'].var()"
   ]
  },
  {
   "cell_type": "code",
   "execution_count": 45,
   "metadata": {},
   "outputs": [
    {
     "data": {
      "text/plain": [
       "144.64999999999998"
      ]
     },
     "execution_count": 45,
     "metadata": {},
     "output_type": "execute_result"
    }
   ],
   "source": [
    "# getting mean and median for central tendency, we already have mean\n",
    "# calculate median\n",
    "tcp_df['dur'].median()"
   ]
  },
  {
   "cell_type": "code",
   "execution_count": 46,
   "metadata": {},
   "outputs": [
    {
     "data": {
      "text/plain": [
       "141.50098946061695"
      ]
     },
     "execution_count": 46,
     "metadata": {},
     "output_type": "execute_result"
    }
   ],
   "source": [
    "# Geometric mean\n",
    "# central tendency\n",
    "from scipy.stats.mstats import mode, gmean, hmean\n",
    "gmean(tcp_df['dur'])"
   ]
  },
  {
   "cell_type": "code",
   "execution_count": 47,
   "metadata": {},
   "outputs": [
    {
     "data": {
      "text/plain": [
       "79.480319918010437"
      ]
     },
     "execution_count": 47,
     "metadata": {},
     "output_type": "execute_result"
    }
   ],
   "source": [
    "# Harmonic Mean, preferable for averaging rates\n",
    "hmean(tcp_df['dur'])"
   ]
  },
  {
   "cell_type": "code",
   "execution_count": 48,
   "metadata": {},
   "outputs": [
    {
     "data": {
      "text/plain": [
       "162.62596560846561"
      ]
     },
     "execution_count": 48,
     "metadata": {},
     "output_type": "execute_result"
    }
   ],
   "source": [
    "from scipy.stats import trim_mean, mode\n",
    "trim_mean(tcp_df['dur'], proportiontocut=0.10)"
   ]
  },
  {
   "cell_type": "code",
   "execution_count": 49,
   "metadata": {},
   "outputs": [
    {
     "data": {
      "text/plain": [
       "50.920000000000002"
      ]
     },
     "execution_count": 49,
     "metadata": {},
     "output_type": "execute_result"
    }
   ],
   "source": [
    "mode(tcp_df['dur'])[0][0]"
   ]
  },
  {
   "cell_type": "code",
   "execution_count": 50,
   "metadata": {
    "collapsed": true
   },
   "outputs": [],
   "source": [
    "from scipy.stats.mstats import mode, gmean, hmean\n",
    "from scipy.stats import trim_mean, mode\n",
    "def get_descriptive_stats(input_df, column, trim_mean_proportion=0.10):\n",
    "    \"\"\"\n",
    "    Function to print the descriptive statics of a give dataframe\n",
    "    \n",
    "    @Params:\n",
    "        input_df: the input data frame which contains a column whose descriptive statics is to be calculated\n",
    "        column: the name of the column whose descriptive statics is to be calculated.\n",
    "        \n",
    "    @Returns:\n",
    "        desc_stat: a dictionary with the descriptive statistics\n",
    "    \"\"\"\n",
    "    KEY_ORDER = ['count', 'min', 'max', 'mean', 'geometricmean', 'harmonicmean', 'trimmedmean', 'median','mode', 'std', 'variance', '25%', '50%', '75%']\n",
    "    desc_stat = {}\n",
    "    desc_stat = input_df[column].describe().to_dict()\n",
    "    desc_stat['variance'] = input_df[column].var()\n",
    "    desc_stat['median'] = input_df[column].median()\n",
    "    desc_stat['geometricmean'] = gmean(input_df[column])\n",
    "    desc_stat['harmonicmean'] = hmean(input_df[column])\n",
    "    desc_stat['trimmedmean'] = trim_mean(input_df[column], proportiontocut=trim_mean_proportion)\n",
    "    desc_stat['mode'] = mode(input_df[column])[0][0]\n",
    "    print('---------------------DESCRIPTIVE STATICS---------------------')\n",
    "    for key in KEY_ORDER:\n",
    "        print(key +': '+str(desc_stat[key]) )\n",
    "    print('-------------------------------------------------------------')\n",
    "    return desc_stat"
   ]
  },
  {
   "cell_type": "code",
   "execution_count": 51,
   "metadata": {},
   "outputs": [
    {
     "name": "stdout",
     "output_type": "stream",
     "text": [
      "---------------------DESCRIPTIVE STATICS---------------------\n",
      "count: 944.0\n",
      "min: 5.04\n",
      "max: 6454.02\n",
      "mean: 261.219120763\n",
      "geometricmean: 141.500989461\n",
      "harmonicmean: 79.480319918\n",
      "trimmedmean: 162.625965608\n",
      "median: 144.64999999999998\n",
      "mode: 50.92\n",
      "std: 479.331879478\n",
      "variance: 229759.05068374358\n",
      "25%: 85.5125\n",
      "50%: 144.65\n",
      "75%: 226.7975\n",
      "-------------------------------------------------------------\n"
     ]
    }
   ],
   "source": [
    "desc_stat = get_descriptive_stats(tcp_df, 'dur')"
   ]
  },
  {
   "cell_type": "code",
   "execution_count": 52,
   "metadata": {},
   "outputs": [
    {
     "data": {
      "text/html": [
       "<div>\n",
       "<table border=\"1\" class=\"dataframe\">\n",
       "  <thead>\n",
       "    <tr style=\"text-align: right;\">\n",
       "      <th></th>\n",
       "      <th>ts</th>\n",
       "      <th>pid</th>\n",
       "      <th>lport</th>\n",
       "      <th>rport</th>\n",
       "      <th>rx</th>\n",
       "      <th>tx</th>\n",
       "      <th>dur</th>\n",
       "      <th>histotimes</th>\n",
       "      <th>histosizes</th>\n",
       "      <th>histoports</th>\n",
       "      <th>docker</th>\n",
       "      <th>prediction</th>\n",
       "      <th>predquality</th>\n",
       "    </tr>\n",
       "  </thead>\n",
       "  <tbody>\n",
       "    <tr>\n",
       "      <th>0</th>\n",
       "      <td>25.147065</td>\n",
       "      <td>28668</td>\n",
       "      <td>60290</td>\n",
       "      <td>80</td>\n",
       "      <td>30</td>\n",
       "      <td>0</td>\n",
       "      <td>93.65</td>\n",
       "      <td>[[0, 0, 1, 0, 0], 93.65, 93.65]</td>\n",
       "      <td>[[0, 0, 1, 0, 0], 30, 30]</td>\n",
       "      <td>[[\"22\", \"80\", \"443\", \"other\"], {\"443\": 0, \"80\"...</td>\n",
       "      <td>/docker/6aebd9a7d81f55435baff1afbcc16b11362669...</td>\n",
       "      <td>-11.362980</td>\n",
       "      <td>1</td>\n",
       "    </tr>\n",
       "    <tr>\n",
       "      <th>1</th>\n",
       "      <td>25.536215</td>\n",
       "      <td>28669</td>\n",
       "      <td>47054</td>\n",
       "      <td>80</td>\n",
       "      <td>166</td>\n",
       "      <td>0</td>\n",
       "      <td>192.11</td>\n",
       "      <td>[[1, 0, 0, 0, 1], 93.65, 192.11]</td>\n",
       "      <td>[[1, 0, 0, 0, 1], 30, 166]</td>\n",
       "      <td>[[\"22\", \"80\", \"443\", \"other\"], {\"443\": 0, \"80\"...</td>\n",
       "      <td>/docker/6aebd9a7d81f55435baff1afbcc16b11362669...</td>\n",
       "      <td>-14.629130</td>\n",
       "      <td>1</td>\n",
       "    </tr>\n",
       "    <tr>\n",
       "      <th>2</th>\n",
       "      <td>26.039532</td>\n",
       "      <td>28673</td>\n",
       "      <td>53762</td>\n",
       "      <td>80</td>\n",
       "      <td>0</td>\n",
       "      <td>0</td>\n",
       "      <td>81.72</td>\n",
       "      <td>[[2, 0, 0, 0, 1], 81.72, 192.11]</td>\n",
       "      <td>[[2, 0, 0, 0, 1], 0, 166]</td>\n",
       "      <td>[[\"22\", \"80\", \"443\", \"other\"], {\"443\": 0, \"80\"...</td>\n",
       "      <td>/docker/6aebd9a7d81f55435baff1afbcc16b11362669...</td>\n",
       "      <td>-10.452350</td>\n",
       "      <td>1</td>\n",
       "    </tr>\n",
       "    <tr>\n",
       "      <th>3</th>\n",
       "      <td>26.201396</td>\n",
       "      <td>28673</td>\n",
       "      <td>50248</td>\n",
       "      <td>80</td>\n",
       "      <td>0</td>\n",
       "      <td>0</td>\n",
       "      <td>25.16</td>\n",
       "      <td>[[1, 1, 1, 0, 1], 25.16, 192.11]</td>\n",
       "      <td>[[3, 0, 0, 0, 1], 0, 166]</td>\n",
       "      <td>[[\"22\", \"80\", \"443\", \"other\"], {\"443\": 0, \"80\"...</td>\n",
       "      <td>/docker/6aebd9a7d81f55435baff1afbcc16b11362669...</td>\n",
       "      <td>-10.414340</td>\n",
       "      <td>1</td>\n",
       "    </tr>\n",
       "    <tr>\n",
       "      <th>4</th>\n",
       "      <td>26.329412</td>\n",
       "      <td>28673</td>\n",
       "      <td>57968</td>\n",
       "      <td>443</td>\n",
       "      <td>0</td>\n",
       "      <td>0</td>\n",
       "      <td>17.78</td>\n",
       "      <td>[[2, 1, 1, 0, 1], 17.78, 192.11]</td>\n",
       "      <td>[[4, 0, 0, 0, 1], 0, 166]</td>\n",
       "      <td>[[\"22\", \"80\", \"443\", \"other\"], {\"443\": 1, \"80\"...</td>\n",
       "      <td>/docker/6aebd9a7d81f55435baff1afbcc16b11362669...</td>\n",
       "      <td>-23.817379</td>\n",
       "      <td>0</td>\n",
       "    </tr>\n",
       "  </tbody>\n",
       "</table>\n",
       "</div>"
      ],
      "text/plain": [
       "          ts    pid  lport  rport   rx  tx     dur  \\\n",
       "0  25.147065  28668  60290     80   30   0   93.65   \n",
       "1  25.536215  28669  47054     80  166   0  192.11   \n",
       "2  26.039532  28673  53762     80    0   0   81.72   \n",
       "3  26.201396  28673  50248     80    0   0   25.16   \n",
       "4  26.329412  28673  57968    443    0   0   17.78   \n",
       "\n",
       "                         histotimes                  histosizes  \\\n",
       "0   [[0, 0, 1, 0, 0], 93.65, 93.65]   [[0, 0, 1, 0, 0], 30, 30]   \n",
       "1  [[1, 0, 0, 0, 1], 93.65, 192.11]  [[1, 0, 0, 0, 1], 30, 166]   \n",
       "2  [[2, 0, 0, 0, 1], 81.72, 192.11]   [[2, 0, 0, 0, 1], 0, 166]   \n",
       "3  [[1, 1, 1, 0, 1], 25.16, 192.11]   [[3, 0, 0, 0, 1], 0, 166]   \n",
       "4  [[2, 1, 1, 0, 1], 17.78, 192.11]   [[4, 0, 0, 0, 1], 0, 166]   \n",
       "\n",
       "                                          histoports  \\\n",
       "0  [[\"22\", \"80\", \"443\", \"other\"], {\"443\": 0, \"80\"...   \n",
       "1  [[\"22\", \"80\", \"443\", \"other\"], {\"443\": 0, \"80\"...   \n",
       "2  [[\"22\", \"80\", \"443\", \"other\"], {\"443\": 0, \"80\"...   \n",
       "3  [[\"22\", \"80\", \"443\", \"other\"], {\"443\": 0, \"80\"...   \n",
       "4  [[\"22\", \"80\", \"443\", \"other\"], {\"443\": 1, \"80\"...   \n",
       "\n",
       "                                              docker  prediction  predquality  \n",
       "0  /docker/6aebd9a7d81f55435baff1afbcc16b11362669...  -11.362980            1  \n",
       "1  /docker/6aebd9a7d81f55435baff1afbcc16b11362669...  -14.629130            1  \n",
       "2  /docker/6aebd9a7d81f55435baff1afbcc16b11362669...  -10.452350            1  \n",
       "3  /docker/6aebd9a7d81f55435baff1afbcc16b11362669...  -10.414340            1  \n",
       "4  /docker/6aebd9a7d81f55435baff1afbcc16b11362669...  -23.817379            0  "
      ]
     },
     "execution_count": 52,
     "metadata": {},
     "output_type": "execute_result"
    }
   ],
   "source": [
    "tcp_df.head().sort_values(by='docker')"
   ]
  },
  {
   "cell_type": "markdown",
   "metadata": {},
   "source": [
    "## Anomalous values of 'dur'\n",
    "    first we can look at its visualization again.\n",
    "    "
   ]
  },
  {
   "cell_type": "code",
   "execution_count": 53,
   "metadata": {},
   "outputs": [
    {
     "data": {
      "text/plain": [
       "<matplotlib.figure.Figure at 0x116450438>"
      ]
     },
     "metadata": {},
     "output_type": "display_data"
    },
    {
     "data": {
      "image/png": "[encoded data removed]",
      "text/plain": [
       "<matplotlib.figure.Figure at 0x114e55710>"
      ]
     },
     "metadata": {},
     "output_type": "display_data"
    },
    {
     "data": {
      "image/png": "[encoded data removed]",
      "text/plain": [
       "<matplotlib.figure.Figure at 0x1152f5828>"
      ]
     },
     "metadata": {},
     "output_type": "display_data"
    }
   ],
   "source": [
    "display_plot_hist(input_df=tcp_df, x='ts', y='dur')"
   ]
  },
  {
   "cell_type": "markdown",
   "metadata": {},
   "source": [
    "From insepecting the visualization using the eye we can see one data point that seems anamolous, but we need to be sure that it is an anamolous data point using statistics.\n",
    "    this looks like a poisson distribution."
   ]
  },
  {
   "cell_type": "code",
   "execution_count": 54,
   "metadata": {},
   "outputs": [
    {
     "data": {
      "text/plain": [
       "3003.39    2\n",
       "86.62      2\n",
       "127.26     2\n",
       "154.29     2\n",
       "167.84     2\n",
       "128.81     2\n",
       "241.97     2\n",
       "50.92      2\n",
       "183.93     1\n",
       "91.72      1\n",
       "182.10     1\n",
       "2640.32    1\n",
       "100.36     1\n",
       "100.05     1\n",
       "120.45     1\n",
       "253.55     1\n",
       "83.05      1\n",
       "109.69     1\n",
       "160.10     1\n",
       "154.31     1\n",
       "92.95      1\n",
       "98.06      1\n",
       "36.40      1\n",
       "317.37     1\n",
       "118.99     1\n",
       "96.86      1\n",
       "45.81      1\n",
       "172.62     1\n",
       "108.63     1\n",
       "118.37     1\n",
       "          ..\n",
       "135.65     1\n",
       "76.21      1\n",
       "445.51     1\n",
       "379.25     1\n",
       "107.60     1\n",
       "158.65     1\n",
       "114.92     1\n",
       "45.05      1\n",
       "44.05      1\n",
       "859.04     1\n",
       "110.94     1\n",
       "188.20     1\n",
       "96.10      1\n",
       "172.66     1\n",
       "42.64      1\n",
       "90.86      1\n",
       "37.05      1\n",
       "7.40       1\n",
       "85.85      1\n",
       "456.62     1\n",
       "143.37     1\n",
       "169.23     1\n",
       "80.52      1\n",
       "129.24     1\n",
       "26.03      1\n",
       "161.24     1\n",
       "179.63     1\n",
       "355.54     1\n",
       "712.09     1\n",
       "120.00     1\n",
       "Name: dur, dtype: int64"
      ]
     },
     "execution_count": 54,
     "metadata": {},
     "output_type": "execute_result"
    }
   ],
   "source": [
    "tcp_df['dur'].value_counts()"
   ]
  },
  {
   "cell_type": "code",
   "execution_count": 55,
   "metadata": {},
   "outputs": [
    {
     "data": {
      "text/html": [
       "<div>\n",
       "<table border=\"1\" class=\"dataframe\">\n",
       "  <thead>\n",
       "    <tr style=\"text-align: right;\">\n",
       "      <th></th>\n",
       "      <th>ts</th>\n",
       "      <th>pid</th>\n",
       "      <th>lport</th>\n",
       "      <th>rport</th>\n",
       "      <th>rx</th>\n",
       "      <th>tx</th>\n",
       "      <th>dur</th>\n",
       "      <th>histotimes</th>\n",
       "      <th>histosizes</th>\n",
       "      <th>histoports</th>\n",
       "      <th>docker</th>\n",
       "      <th>prediction</th>\n",
       "      <th>predquality</th>\n",
       "    </tr>\n",
       "  </thead>\n",
       "  <tbody>\n",
       "  </tbody>\n",
       "</table>\n",
       "</div>"
      ],
      "text/plain": [
       "Empty DataFrame\n",
       "Columns: [ts, pid, lport, rport, rx, tx, dur, histotimes, histosizes, histoports, docker, prediction, predquality]\n",
       "Index: []"
      ]
     },
     "execution_count": 55,
     "metadata": {},
     "output_type": "execute_result"
    }
   ],
   "source": [
    "tcp_df[tcp_df.docker == 'None'].head()"
   ]
  },
  {
   "cell_type": "markdown",
   "metadata": {
    "collapsed": true
   },
   "source": [
    "## Check for anomalies in 'dur' data:\n",
    "\n",
    "    First we need to define what anomaly is for the 'dur' variable, since we do not know what 'dur' variable really, represents we cannot remove any outliers. From the Data Modelling question we can infer that 'dur' represents a time series data.\n",
    "     Assumption is that 'dur' represents a duration of some process or event.\n",
    " \n",
    "    1. MAD approach\n",
    "    2. Moving MAD approach\n",
    "    "
   ]
  },
  {
   "cell_type": "markdown",
   "metadata": {},
   "source": [
    "## Distance from mean in terms of Standard Deviation:"
   ]
  },
  {
   "cell_type": "code",
   "execution_count": 56,
   "metadata": {},
   "outputs": [
    {
     "name": "stdout",
     "output_type": "stream",
     "text": [
      "---------------------DESCRIPTIVE STATICS---------------------\n",
      "count: 944.0\n",
      "min: 5.04\n",
      "max: 6454.02\n",
      "mean: 261.219120763\n",
      "geometricmean: 141.500989461\n",
      "harmonicmean: 79.480319918\n",
      "trimmedmean: 162.625965608\n",
      "median: 144.64999999999998\n",
      "mode: 50.92\n",
      "std: 479.331879478\n",
      "variance: 229759.05068374358\n",
      "25%: 85.5125\n",
      "50%: 144.65\n",
      "75%: 226.7975\n",
      "-------------------------------------------------------------\n"
     ]
    }
   ],
   "source": [
    "desc_stat = get_descriptive_stats(tcp_df, 'dur')"
   ]
  },
  {
   "cell_type": "code",
   "execution_count": 57,
   "metadata": {
    "collapsed": true
   },
   "outputs": [],
   "source": [
    "#distance from mean in terms of standard deviation\n",
    "tcp_df['dur_dist_from_mean'] = abs((tcp_df['dur'] - desc_stat['mean']) / desc_stat['std'])"
   ]
  },
  {
   "cell_type": "code",
   "execution_count": 58,
   "metadata": {},
   "outputs": [
    {
     "data": {
      "text/html": [
       "<div>\n",
       "<table border=\"1\" class=\"dataframe\">\n",
       "  <thead>\n",
       "    <tr style=\"text-align: right;\">\n",
       "      <th></th>\n",
       "      <th>ts</th>\n",
       "      <th>pid</th>\n",
       "      <th>lport</th>\n",
       "      <th>rport</th>\n",
       "      <th>rx</th>\n",
       "      <th>tx</th>\n",
       "      <th>dur</th>\n",
       "      <th>histotimes</th>\n",
       "      <th>histosizes</th>\n",
       "      <th>histoports</th>\n",
       "      <th>docker</th>\n",
       "      <th>prediction</th>\n",
       "      <th>predquality</th>\n",
       "      <th>dur_dist_from_mean</th>\n",
       "    </tr>\n",
       "  </thead>\n",
       "  <tbody>\n",
       "    <tr>\n",
       "      <th>0</th>\n",
       "      <td>25.147065</td>\n",
       "      <td>28668</td>\n",
       "      <td>60290</td>\n",
       "      <td>80</td>\n",
       "      <td>30</td>\n",
       "      <td>0</td>\n",
       "      <td>93.65</td>\n",
       "      <td>[[0, 0, 1, 0, 0], 93.65, 93.65]</td>\n",
       "      <td>[[0, 0, 1, 0, 0], 30, 30]</td>\n",
       "      <td>[[\"22\", \"80\", \"443\", \"other\"], {\"443\": 0, \"80\"...</td>\n",
       "      <td>/docker/6aebd9a7d81f55435baff1afbcc16b11362669...</td>\n",
       "      <td>-11.362980</td>\n",
       "      <td>1</td>\n",
       "      <td>0.349589</td>\n",
       "    </tr>\n",
       "    <tr>\n",
       "      <th>1</th>\n",
       "      <td>25.536215</td>\n",
       "      <td>28669</td>\n",
       "      <td>47054</td>\n",
       "      <td>80</td>\n",
       "      <td>166</td>\n",
       "      <td>0</td>\n",
       "      <td>192.11</td>\n",
       "      <td>[[1, 0, 0, 0, 1], 93.65, 192.11]</td>\n",
       "      <td>[[1, 0, 0, 0, 1], 30, 166]</td>\n",
       "      <td>[[\"22\", \"80\", \"443\", \"other\"], {\"443\": 0, \"80\"...</td>\n",
       "      <td>/docker/6aebd9a7d81f55435baff1afbcc16b11362669...</td>\n",
       "      <td>-14.629130</td>\n",
       "      <td>1</td>\n",
       "      <td>0.144178</td>\n",
       "    </tr>\n",
       "    <tr>\n",
       "      <th>2</th>\n",
       "      <td>26.039532</td>\n",
       "      <td>28673</td>\n",
       "      <td>53762</td>\n",
       "      <td>80</td>\n",
       "      <td>0</td>\n",
       "      <td>0</td>\n",
       "      <td>81.72</td>\n",
       "      <td>[[2, 0, 0, 0, 1], 81.72, 192.11]</td>\n",
       "      <td>[[2, 0, 0, 0, 1], 0, 166]</td>\n",
       "      <td>[[\"22\", \"80\", \"443\", \"other\"], {\"443\": 0, \"80\"...</td>\n",
       "      <td>/docker/6aebd9a7d81f55435baff1afbcc16b11362669...</td>\n",
       "      <td>-10.452350</td>\n",
       "      <td>1</td>\n",
       "      <td>0.374478</td>\n",
       "    </tr>\n",
       "    <tr>\n",
       "      <th>3</th>\n",
       "      <td>26.201396</td>\n",
       "      <td>28673</td>\n",
       "      <td>50248</td>\n",
       "      <td>80</td>\n",
       "      <td>0</td>\n",
       "      <td>0</td>\n",
       "      <td>25.16</td>\n",
       "      <td>[[1, 1, 1, 0, 1], 25.16, 192.11]</td>\n",
       "      <td>[[3, 0, 0, 0, 1], 0, 166]</td>\n",
       "      <td>[[\"22\", \"80\", \"443\", \"other\"], {\"443\": 0, \"80\"...</td>\n",
       "      <td>/docker/6aebd9a7d81f55435baff1afbcc16b11362669...</td>\n",
       "      <td>-10.414340</td>\n",
       "      <td>1</td>\n",
       "      <td>0.492475</td>\n",
       "    </tr>\n",
       "    <tr>\n",
       "      <th>4</th>\n",
       "      <td>26.329412</td>\n",
       "      <td>28673</td>\n",
       "      <td>57968</td>\n",
       "      <td>443</td>\n",
       "      <td>0</td>\n",
       "      <td>0</td>\n",
       "      <td>17.78</td>\n",
       "      <td>[[2, 1, 1, 0, 1], 17.78, 192.11]</td>\n",
       "      <td>[[4, 0, 0, 0, 1], 0, 166]</td>\n",
       "      <td>[[\"22\", \"80\", \"443\", \"other\"], {\"443\": 1, \"80\"...</td>\n",
       "      <td>/docker/6aebd9a7d81f55435baff1afbcc16b11362669...</td>\n",
       "      <td>-23.817379</td>\n",
       "      <td>0</td>\n",
       "      <td>0.507872</td>\n",
       "    </tr>\n",
       "  </tbody>\n",
       "</table>\n",
       "</div>"
      ],
      "text/plain": [
       "          ts    pid  lport  rport   rx  tx     dur  \\\n",
       "0  25.147065  28668  60290     80   30   0   93.65   \n",
       "1  25.536215  28669  47054     80  166   0  192.11   \n",
       "2  26.039532  28673  53762     80    0   0   81.72   \n",
       "3  26.201396  28673  50248     80    0   0   25.16   \n",
       "4  26.329412  28673  57968    443    0   0   17.78   \n",
       "\n",
       "                         histotimes                  histosizes  \\\n",
       "0   [[0, 0, 1, 0, 0], 93.65, 93.65]   [[0, 0, 1, 0, 0], 30, 30]   \n",
       "1  [[1, 0, 0, 0, 1], 93.65, 192.11]  [[1, 0, 0, 0, 1], 30, 166]   \n",
       "2  [[2, 0, 0, 0, 1], 81.72, 192.11]   [[2, 0, 0, 0, 1], 0, 166]   \n",
       "3  [[1, 1, 1, 0, 1], 25.16, 192.11]   [[3, 0, 0, 0, 1], 0, 166]   \n",
       "4  [[2, 1, 1, 0, 1], 17.78, 192.11]   [[4, 0, 0, 0, 1], 0, 166]   \n",
       "\n",
       "                                          histoports  \\\n",
       "0  [[\"22\", \"80\", \"443\", \"other\"], {\"443\": 0, \"80\"...   \n",
       "1  [[\"22\", \"80\", \"443\", \"other\"], {\"443\": 0, \"80\"...   \n",
       "2  [[\"22\", \"80\", \"443\", \"other\"], {\"443\": 0, \"80\"...   \n",
       "3  [[\"22\", \"80\", \"443\", \"other\"], {\"443\": 0, \"80\"...   \n",
       "4  [[\"22\", \"80\", \"443\", \"other\"], {\"443\": 1, \"80\"...   \n",
       "\n",
       "                                              docker  prediction  predquality  \\\n",
       "0  /docker/6aebd9a7d81f55435baff1afbcc16b11362669...  -11.362980            1   \n",
       "1  /docker/6aebd9a7d81f55435baff1afbcc16b11362669...  -14.629130            1   \n",
       "2  /docker/6aebd9a7d81f55435baff1afbcc16b11362669...  -10.452350            1   \n",
       "3  /docker/6aebd9a7d81f55435baff1afbcc16b11362669...  -10.414340            1   \n",
       "4  /docker/6aebd9a7d81f55435baff1afbcc16b11362669...  -23.817379            0   \n",
       "\n",
       "   dur_dist_from_mean  \n",
       "0            0.349589  \n",
       "1            0.144178  \n",
       "2            0.374478  \n",
       "3            0.492475  \n",
       "4            0.507872  "
      ]
     },
     "execution_count": 58,
     "metadata": {},
     "output_type": "execute_result"
    }
   ],
   "source": [
    "tcp_df.head()"
   ]
  },
  {
   "cell_type": "markdown",
   "metadata": {
    "collapsed": true
   },
   "source": [
    "## Windowing approach:\n",
    "    Here we operate under the assumption that there is little noise and there are no seasonal fluctuations with 'dur' variable.\n",
    "    1. mean\n",
    "    2. median\n",
    "  "
   ]
  },
  {
   "cell_type": "code",
   "execution_count": 59,
   "metadata": {
    "collapsed": true
   },
   "outputs": [],
   "source": [
    "# moving mean average using python\n",
    "tcp_df['rolling_mean'] =tcp_df.rolling(window=5, on='ts').mean()['dur']\n",
    "tcp_df['rolling_median'] =tcp_df.rolling(window=5, on='ts').median()['dur']\n",
    "# tcp_df.rolling(window=5, on='ts').median()"
   ]
  },
  {
   "cell_type": "code",
   "execution_count": 60,
   "metadata": {},
   "outputs": [
    {
     "data": {
      "text/plain": [
       "[<matplotlib.lines.Line2D at 0x114c7d320>]"
      ]
     },
     "execution_count": 60,
     "metadata": {},
     "output_type": "execute_result"
    },
    {
     "data": {
      "image/png": "[encoded data removed]",
      "text/plain": [
       "<matplotlib.figure.Figure at 0x115cb2c50>"
      ]
     },
     "metadata": {},
     "output_type": "display_data"
    }
   ],
   "source": [
    "# Plot moving average\n",
    "plt.figure(figsize=(15, 8))\n",
    "#plt.plot(tcp_df['ts'], tcp_df['rolling_mean'], \"k.\")\n",
    "plt.plot(tcp_df['ts'], tcp_df['rolling_mean'], color='green')\n",
    "plt.plot(tcp_df['ts'], tcp_df['rolling_median'], color='red')"
   ]
  },
  {
   "cell_type": "markdown",
   "metadata": {
    "collapsed": true
   },
   "source": [
    "## Lets try MAD (Median Absolute Deviation)"
   ]
  },
  {
   "cell_type": "code",
   "execution_count": 61,
   "metadata": {
    "collapsed": true
   },
   "outputs": [],
   "source": [
    "# Rolling Mean absolute deviation, reference: https://www.geogebra.org/m/UaMEvgyH\n",
    "win_size = 5 \n",
    "tcp_df['MAD'] = (tcp_df['dur'] - tcp_df.rolling(window=win_size, on='ts').mean()['dur'])/ win_size"
   ]
  },
  {
   "cell_type": "code",
   "execution_count": 62,
   "metadata": {},
   "outputs": [
    {
     "data": {
      "text/plain": [
       "[<matplotlib.lines.Line2D at 0x114cb8128>]"
      ]
     },
     "execution_count": 62,
     "metadata": {},
     "output_type": "execute_result"
    },
    {
     "data": {
      "image/png": "[encoded data removed]",
      "text/plain": [
       "<matplotlib.figure.Figure at 0x11531de80>"
      ]
     },
     "metadata": {},
     "output_type": "display_data"
    }
   ],
   "source": [
    "plt.plot(tcp_df['ts'], tcp_df['rolling_mean'], color='green')\n",
    "plt.plot(tcp_df['ts'], tcp_df['rolling_median'], color='red')\n",
    "plt.plot(tcp_df['ts'], tcp_df['MAD'], color='blue')"
   ]
  },
  {
   "cell_type": "code",
   "execution_count": 63,
   "metadata": {
    "collapsed": true
   },
   "outputs": [],
   "source": [
    "# Calculate modified z score, reference: http://www.itl.nist.gov/div898/handbook/eda/section3/eda35h.htm\n",
    "tcp_df['mod_z_score'] = 0.6745 * (tcp_df['dur'] - tcp_df['rolling_median']) / tcp_df['MAD']"
   ]
  },
  {
   "cell_type": "code",
   "execution_count": 64,
   "metadata": {},
   "outputs": [
    {
     "data": {
      "text/html": [
       "<div>\n",
       "<table border=\"1\" class=\"dataframe\">\n",
       "  <thead>\n",
       "    <tr style=\"text-align: right;\">\n",
       "      <th></th>\n",
       "      <th>ts</th>\n",
       "      <th>pid</th>\n",
       "      <th>lport</th>\n",
       "      <th>rport</th>\n",
       "      <th>rx</th>\n",
       "      <th>tx</th>\n",
       "      <th>dur</th>\n",
       "      <th>histotimes</th>\n",
       "      <th>histosizes</th>\n",
       "      <th>histoports</th>\n",
       "      <th>docker</th>\n",
       "      <th>prediction</th>\n",
       "      <th>predquality</th>\n",
       "      <th>dur_dist_from_mean</th>\n",
       "      <th>rolling_mean</th>\n",
       "      <th>rolling_median</th>\n",
       "      <th>MAD</th>\n",
       "      <th>mod_z_score</th>\n",
       "    </tr>\n",
       "  </thead>\n",
       "  <tbody>\n",
       "    <tr>\n",
       "      <th>0</th>\n",
       "      <td>25.147065</td>\n",
       "      <td>28668</td>\n",
       "      <td>60290</td>\n",
       "      <td>80</td>\n",
       "      <td>30</td>\n",
       "      <td>0</td>\n",
       "      <td>93.65</td>\n",
       "      <td>[[0, 0, 1, 0, 0], 93.65, 93.65]</td>\n",
       "      <td>[[0, 0, 1, 0, 0], 30, 30]</td>\n",
       "      <td>[[\"22\", \"80\", \"443\", \"other\"], {\"443\": 0, \"80\"...</td>\n",
       "      <td>/docker/6aebd9a7d81f55435baff1afbcc16b11362669...</td>\n",
       "      <td>-11.362980</td>\n",
       "      <td>1</td>\n",
       "      <td>0.349589</td>\n",
       "      <td>NaN</td>\n",
       "      <td>NaN</td>\n",
       "      <td>NaN</td>\n",
       "      <td>NaN</td>\n",
       "    </tr>\n",
       "    <tr>\n",
       "      <th>1</th>\n",
       "      <td>25.536215</td>\n",
       "      <td>28669</td>\n",
       "      <td>47054</td>\n",
       "      <td>80</td>\n",
       "      <td>166</td>\n",
       "      <td>0</td>\n",
       "      <td>192.11</td>\n",
       "      <td>[[1, 0, 0, 0, 1], 93.65, 192.11]</td>\n",
       "      <td>[[1, 0, 0, 0, 1], 30, 166]</td>\n",
       "      <td>[[\"22\", \"80\", \"443\", \"other\"], {\"443\": 0, \"80\"...</td>\n",
       "      <td>/docker/6aebd9a7d81f55435baff1afbcc16b11362669...</td>\n",
       "      <td>-14.629130</td>\n",
       "      <td>1</td>\n",
       "      <td>0.144178</td>\n",
       "      <td>NaN</td>\n",
       "      <td>NaN</td>\n",
       "      <td>NaN</td>\n",
       "      <td>NaN</td>\n",
       "    </tr>\n",
       "    <tr>\n",
       "      <th>2</th>\n",
       "      <td>26.039532</td>\n",
       "      <td>28673</td>\n",
       "      <td>53762</td>\n",
       "      <td>80</td>\n",
       "      <td>0</td>\n",
       "      <td>0</td>\n",
       "      <td>81.72</td>\n",
       "      <td>[[2, 0, 0, 0, 1], 81.72, 192.11]</td>\n",
       "      <td>[[2, 0, 0, 0, 1], 0, 166]</td>\n",
       "      <td>[[\"22\", \"80\", \"443\", \"other\"], {\"443\": 0, \"80\"...</td>\n",
       "      <td>/docker/6aebd9a7d81f55435baff1afbcc16b11362669...</td>\n",
       "      <td>-10.452350</td>\n",
       "      <td>1</td>\n",
       "      <td>0.374478</td>\n",
       "      <td>NaN</td>\n",
       "      <td>NaN</td>\n",
       "      <td>NaN</td>\n",
       "      <td>NaN</td>\n",
       "    </tr>\n",
       "    <tr>\n",
       "      <th>3</th>\n",
       "      <td>26.201396</td>\n",
       "      <td>28673</td>\n",
       "      <td>50248</td>\n",
       "      <td>80</td>\n",
       "      <td>0</td>\n",
       "      <td>0</td>\n",
       "      <td>25.16</td>\n",
       "      <td>[[1, 1, 1, 0, 1], 25.16, 192.11]</td>\n",
       "      <td>[[3, 0, 0, 0, 1], 0, 166]</td>\n",
       "      <td>[[\"22\", \"80\", \"443\", \"other\"], {\"443\": 0, \"80\"...</td>\n",
       "      <td>/docker/6aebd9a7d81f55435baff1afbcc16b11362669...</td>\n",
       "      <td>-10.414340</td>\n",
       "      <td>1</td>\n",
       "      <td>0.492475</td>\n",
       "      <td>NaN</td>\n",
       "      <td>NaN</td>\n",
       "      <td>NaN</td>\n",
       "      <td>NaN</td>\n",
       "    </tr>\n",
       "    <tr>\n",
       "      <th>4</th>\n",
       "      <td>26.329412</td>\n",
       "      <td>28673</td>\n",
       "      <td>57968</td>\n",
       "      <td>443</td>\n",
       "      <td>0</td>\n",
       "      <td>0</td>\n",
       "      <td>17.78</td>\n",
       "      <td>[[2, 1, 1, 0, 1], 17.78, 192.11]</td>\n",
       "      <td>[[4, 0, 0, 0, 1], 0, 166]</td>\n",
       "      <td>[[\"22\", \"80\", \"443\", \"other\"], {\"443\": 1, \"80\"...</td>\n",
       "      <td>/docker/6aebd9a7d81f55435baff1afbcc16b11362669...</td>\n",
       "      <td>-23.817379</td>\n",
       "      <td>0</td>\n",
       "      <td>0.507872</td>\n",
       "      <td>82.084</td>\n",
       "      <td>81.72</td>\n",
       "      <td>-12.8608</td>\n",
       "      <td>3.353410</td>\n",
       "    </tr>\n",
       "    <tr>\n",
       "      <th>5</th>\n",
       "      <td>26.635802</td>\n",
       "      <td>28679</td>\n",
       "      <td>47062</td>\n",
       "      <td>80</td>\n",
       "      <td>109</td>\n",
       "      <td>0</td>\n",
       "      <td>107.94</td>\n",
       "      <td>[[2, 1, 2, 0, 1], 17.78, 192.11]</td>\n",
       "      <td>[[4, 0, 0, 1, 1], 0, 166]</td>\n",
       "      <td>[[\"22\", \"80\", \"443\", \"other\"], {\"443\": 1, \"80\"...</td>\n",
       "      <td>/docker/6aebd9a7d81f55435baff1afbcc16b11362669...</td>\n",
       "      <td>-11.667371</td>\n",
       "      <td>1</td>\n",
       "      <td>0.319777</td>\n",
       "      <td>84.942</td>\n",
       "      <td>81.72</td>\n",
       "      <td>4.5996</td>\n",
       "      <td>3.844984</td>\n",
       "    </tr>\n",
       "    <tr>\n",
       "      <th>6</th>\n",
       "      <td>26.941862</td>\n",
       "      <td>28680</td>\n",
       "      <td>47064</td>\n",
       "      <td>80</td>\n",
       "      <td>105</td>\n",
       "      <td>0</td>\n",
       "      <td>172.62</td>\n",
       "      <td>[[2, 1, 2, 0, 2], 17.78, 192.11]</td>\n",
       "      <td>[[4, 0, 0, 2, 1], 0, 166]</td>\n",
       "      <td>[[\"22\", \"80\", \"443\", \"other\"], {\"443\": 1, \"80\"...</td>\n",
       "      <td>/docker/6aebd9a7d81f55435baff1afbcc16b11362669...</td>\n",
       "      <td>-11.390430</td>\n",
       "      <td>1</td>\n",
       "      <td>0.184839</td>\n",
       "      <td>81.044</td>\n",
       "      <td>81.72</td>\n",
       "      <td>18.3152</td>\n",
       "      <td>3.347605</td>\n",
       "    </tr>\n",
       "    <tr>\n",
       "      <th>7</th>\n",
       "      <td>28.057589</td>\n",
       "      <td>28681</td>\n",
       "      <td>55366</td>\n",
       "      <td>80</td>\n",
       "      <td>123</td>\n",
       "      <td>0</td>\n",
       "      <td>677.68</td>\n",
       "      <td>[[5, 2, 0, 0, 1], 17.78, 677.68]</td>\n",
       "      <td>[[4, 0, 0, 3, 1], 0, 166]</td>\n",
       "      <td>[[\"22\", \"80\", \"443\", \"other\"], {\"443\": 1, \"80\"...</td>\n",
       "      <td>/docker/6aebd9a7d81f55435baff1afbcc16b11362669...</td>\n",
       "      <td>-15.920145</td>\n",
       "      <td>1</td>\n",
       "      <td>0.868836</td>\n",
       "      <td>200.236</td>\n",
       "      <td>107.94</td>\n",
       "      <td>95.4888</td>\n",
       "      <td>4.024447</td>\n",
       "    </tr>\n",
       "    <tr>\n",
       "      <th>8</th>\n",
       "      <td>28.587030</td>\n",
       "      <td>28685</td>\n",
       "      <td>47068</td>\n",
       "      <td>80</td>\n",
       "      <td>4</td>\n",
       "      <td>0</td>\n",
       "      <td>360.14</td>\n",
       "      <td>[[5, 2, 1, 0, 1], 17.78, 677.68]</td>\n",
       "      <td>[[5, 0, 0, 3, 1], 0, 166]</td>\n",
       "      <td>[[\"22\", \"80\", \"443\", \"other\"], {\"443\": 1, \"80\"...</td>\n",
       "      <td>/docker/6aebd9a7d81f55435baff1afbcc16b11362669...</td>\n",
       "      <td>-10.187297</td>\n",
       "      <td>1</td>\n",
       "      <td>0.206372</td>\n",
       "      <td>267.232</td>\n",
       "      <td>172.62</td>\n",
       "      <td>18.5816</td>\n",
       "      <td>6.806854</td>\n",
       "    </tr>\n",
       "    <tr>\n",
       "      <th>9</th>\n",
       "      <td>28.634554</td>\n",
       "      <td>28685</td>\n",
       "      <td>59690</td>\n",
       "      <td>443</td>\n",
       "      <td>7</td>\n",
       "      <td>0</td>\n",
       "      <td>38.43</td>\n",
       "      <td>[[6, 2, 1, 0, 1], 17.78, 677.68]</td>\n",
       "      <td>[[6, 0, 0, 3, 1], 0, 166]</td>\n",
       "      <td>[[\"22\", \"80\", \"443\", \"other\"], {\"443\": 2, \"80\"...</td>\n",
       "      <td>/docker/6aebd9a7d81f55435baff1afbcc16b11362669...</td>\n",
       "      <td>-25.866711</td>\n",
       "      <td>0</td>\n",
       "      <td>0.464791</td>\n",
       "      <td>271.362</td>\n",
       "      <td>172.62</td>\n",
       "      <td>-46.5864</td>\n",
       "      <td>1.942866</td>\n",
       "    </tr>\n",
       "    <tr>\n",
       "      <th>10</th>\n",
       "      <td>30.436322</td>\n",
       "      <td>28693</td>\n",
       "      <td>47072</td>\n",
       "      <td>80</td>\n",
       "      <td>4</td>\n",
       "      <td>0</td>\n",
       "      <td>276.11</td>\n",
       "      <td>[[6, 3, 1, 0, 1], 17.78, 677.68]</td>\n",
       "      <td>[[7, 0, 0, 3, 1], 0, 166]</td>\n",
       "      <td>[[\"22\", \"80\", \"443\", \"other\"], {\"443\": 2, \"80\"...</td>\n",
       "      <td>/docker/6aebd9a7d81f55435baff1afbcc16b11362669...</td>\n",
       "      <td>-9.912790</td>\n",
       "      <td>1</td>\n",
       "      <td>0.031066</td>\n",
       "      <td>304.996</td>\n",
       "      <td>276.11</td>\n",
       "      <td>-5.7772</td>\n",
       "      <td>-0.000000</td>\n",
       "    </tr>\n",
       "    <tr>\n",
       "      <th>11</th>\n",
       "      <td>30.736964</td>\n",
       "      <td>28693</td>\n",
       "      <td>59694</td>\n",
       "      <td>443</td>\n",
       "      <td>7</td>\n",
       "      <td>0</td>\n",
       "      <td>282.12</td>\n",
       "      <td>[[6, 3, 2, 0, 1], 17.78, 677.68]</td>\n",
       "      <td>[[8, 0, 0, 3, 1], 0, 166]</td>\n",
       "      <td>[[\"22\", \"80\", \"443\", \"other\"], {\"443\": 3, \"80\"...</td>\n",
       "      <td>/docker/6aebd9a7d81f55435baff1afbcc16b11362669...</td>\n",
       "      <td>-24.651440</td>\n",
       "      <td>0</td>\n",
       "      <td>0.043604</td>\n",
       "      <td>326.896</td>\n",
       "      <td>282.12</td>\n",
       "      <td>-8.9552</td>\n",
       "      <td>-0.000000</td>\n",
       "    </tr>\n",
       "    <tr>\n",
       "      <th>12</th>\n",
       "      <td>31.105479</td>\n",
       "      <td>28697</td>\n",
       "      <td>47076</td>\n",
       "      <td>80</td>\n",
       "      <td>69</td>\n",
       "      <td>0</td>\n",
       "      <td>191.76</td>\n",
       "      <td>[[6, 4, 2, 0, 1], 17.78, 677.68]</td>\n",
       "      <td>[[8, 0, 1, 3, 1], 0, 166]</td>\n",
       "      <td>[[\"22\", \"80\", \"443\", \"other\"], {\"443\": 3, \"80\"...</td>\n",
       "      <td>/docker/6aebd9a7d81f55435baff1afbcc16b11362669...</td>\n",
       "      <td>-10.280550</td>\n",
       "      <td>1</td>\n",
       "      <td>0.144908</td>\n",
       "      <td>229.712</td>\n",
       "      <td>276.11</td>\n",
       "      <td>-7.5904</td>\n",
       "      <td>7.495531</td>\n",
       "    </tr>\n",
       "    <tr>\n",
       "      <th>13</th>\n",
       "      <td>31.651825</td>\n",
       "      <td>28698</td>\n",
       "      <td>47078</td>\n",
       "      <td>80</td>\n",
       "      <td>166</td>\n",
       "      <td>0</td>\n",
       "      <td>391.87</td>\n",
       "      <td>[[6, 4, 3, 0, 1], 17.78, 677.68]</td>\n",
       "      <td>[[8, 0, 1, 3, 2], 0, 166]</td>\n",
       "      <td>[[\"22\", \"80\", \"443\", \"other\"], {\"443\": 3, \"80\"...</td>\n",
       "      <td>/docker/6aebd9a7d81f55435baff1afbcc16b11362669...</td>\n",
       "      <td>-15.132555</td>\n",
       "      <td>1</td>\n",
       "      <td>0.272569</td>\n",
       "      <td>236.058</td>\n",
       "      <td>276.11</td>\n",
       "      <td>31.1624</td>\n",
       "      <td>2.505588</td>\n",
       "    </tr>\n",
       "    <tr>\n",
       "      <th>14</th>\n",
       "      <td>31.899657</td>\n",
       "      <td>28702</td>\n",
       "      <td>47080</td>\n",
       "      <td>80</td>\n",
       "      <td>100</td>\n",
       "      <td>0</td>\n",
       "      <td>120.45</td>\n",
       "      <td>[[7, 4, 3, 0, 1], 17.78, 677.68]</td>\n",
       "      <td>[[8, 0, 1, 4, 2], 0, 166]</td>\n",
       "      <td>[[\"22\", \"80\", \"443\", \"other\"], {\"443\": 3, \"80\"...</td>\n",
       "      <td>/docker/6aebd9a7d81f55435baff1afbcc16b11362669...</td>\n",
       "      <td>-11.286842</td>\n",
       "      <td>1</td>\n",
       "      <td>0.293678</td>\n",
       "      <td>252.462</td>\n",
       "      <td>276.11</td>\n",
       "      <td>-26.4024</td>\n",
       "      <td>3.976634</td>\n",
       "    </tr>\n",
       "    <tr>\n",
       "      <th>15</th>\n",
       "      <td>32.128557</td>\n",
       "      <td>28703</td>\n",
       "      <td>47082</td>\n",
       "      <td>80</td>\n",
       "      <td>4</td>\n",
       "      <td>0</td>\n",
       "      <td>115.73</td>\n",
       "      <td>[[8, 4, 3, 0, 1], 17.78, 677.68]</td>\n",
       "      <td>[[9, 0, 1, 4, 2], 0, 166]</td>\n",
       "      <td>[[\"22\", \"80\", \"443\", \"other\"], {\"443\": 3, \"80\"...</td>\n",
       "      <td>/docker/6aebd9a7d81f55435baff1afbcc16b11362669...</td>\n",
       "      <td>-9.948819</td>\n",
       "      <td>1</td>\n",
       "      <td>0.303525</td>\n",
       "      <td>220.386</td>\n",
       "      <td>191.76</td>\n",
       "      <td>-20.9312</td>\n",
       "      <td>2.450038</td>\n",
       "    </tr>\n",
       "    <tr>\n",
       "      <th>16</th>\n",
       "      <td>32.207061</td>\n",
       "      <td>28703</td>\n",
       "      <td>59704</td>\n",
       "      <td>443</td>\n",
       "      <td>7</td>\n",
       "      <td>0</td>\n",
       "      <td>51.12</td>\n",
       "      <td>[[9, 4, 3, 0, 1], 17.78, 677.68]</td>\n",
       "      <td>[[10, 0, 1, 4, 2], 0, 166]</td>\n",
       "      <td>[[\"22\", \"80\", \"443\", \"other\"], {\"443\": 4, \"80\"...</td>\n",
       "      <td>/docker/6aebd9a7d81f55435baff1afbcc16b11362669...</td>\n",
       "      <td>-25.791057</td>\n",
       "      <td>0</td>\n",
       "      <td>0.438317</td>\n",
       "      <td>174.186</td>\n",
       "      <td>120.45</td>\n",
       "      <td>-24.6132</td>\n",
       "      <td>1.899919</td>\n",
       "    </tr>\n",
       "    <tr>\n",
       "      <th>17</th>\n",
       "      <td>32.985475</td>\n",
       "      <td>28704</td>\n",
       "      <td>38796</td>\n",
       "      <td>80</td>\n",
       "      <td>21</td>\n",
       "      <td>0</td>\n",
       "      <td>158.71</td>\n",
       "      <td>[[9, 5, 3, 0, 1], 17.78, 677.68]</td>\n",
       "      <td>[[11, 0, 1, 4, 2], 0, 166]</td>\n",
       "      <td>[[\"22\", \"80\", \"443\", \"other\"], {\"443\": 4, \"80\"...</td>\n",
       "      <td>/docker/6aebd9a7d81f55435baff1afbcc16b11362669...</td>\n",
       "      <td>-10.338328</td>\n",
       "      <td>1</td>\n",
       "      <td>0.213858</td>\n",
       "      <td>167.576</td>\n",
       "      <td>120.45</td>\n",
       "      <td>-1.7732</td>\n",
       "      <td>-14.553559</td>\n",
       "    </tr>\n",
       "    <tr>\n",
       "      <th>18</th>\n",
       "      <td>33.335595</td>\n",
       "      <td>28708</td>\n",
       "      <td>37612</td>\n",
       "      <td>80</td>\n",
       "      <td>0</td>\n",
       "      <td>0</td>\n",
       "      <td>70.53</td>\n",
       "      <td>[[10, 5, 3, 0, 1], 17.78, 677.68]</td>\n",
       "      <td>[[12, 0, 1, 4, 2], 0, 166]</td>\n",
       "      <td>[[\"22\", \"80\", \"443\", \"other\"], {\"443\": 4, \"80\"...</td>\n",
       "      <td>/docker/6aebd9a7d81f55435baff1afbcc16b11362669...</td>\n",
       "      <td>-10.845777</td>\n",
       "      <td>1</td>\n",
       "      <td>0.397823</td>\n",
       "      <td>103.308</td>\n",
       "      <td>115.73</td>\n",
       "      <td>-6.5556</td>\n",
       "      <td>4.650589</td>\n",
       "    </tr>\n",
       "    <tr>\n",
       "      <th>19</th>\n",
       "      <td>33.529444</td>\n",
       "      <td>28708</td>\n",
       "      <td>37614</td>\n",
       "      <td>80</td>\n",
       "      <td>0</td>\n",
       "      <td>0</td>\n",
       "      <td>80.79</td>\n",
       "      <td>[[11, 5, 3, 0, 1], 17.78, 677.68]</td>\n",
       "      <td>[[13, 0, 1, 4, 2], 0, 166]</td>\n",
       "      <td>[[\"22\", \"80\", \"443\", \"other\"], {\"443\": 4, \"80\"...</td>\n",
       "      <td>/docker/6aebd9a7d81f55435baff1afbcc16b11362669...</td>\n",
       "      <td>-10.807916</td>\n",
       "      <td>1</td>\n",
       "      <td>0.376418</td>\n",
       "      <td>95.376</td>\n",
       "      <td>80.79</td>\n",
       "      <td>-2.9172</td>\n",
       "      <td>-0.000000</td>\n",
       "    </tr>\n",
       "    <tr>\n",
       "      <th>20</th>\n",
       "      <td>33.728260</td>\n",
       "      <td>28708</td>\n",
       "      <td>56828</td>\n",
       "      <td>80</td>\n",
       "      <td>4</td>\n",
       "      <td>0</td>\n",
       "      <td>47.38</td>\n",
       "      <td>[[12, 5, 3, 0, 1], 17.78, 677.68]</td>\n",
       "      <td>[[14, 0, 1, 4, 2], 0, 166]</td>\n",
       "      <td>[[\"22\", \"80\", \"443\", \"other\"], {\"443\": 4, \"80\"...</td>\n",
       "      <td>/docker/6aebd9a7d81f55435baff1afbcc16b11362669...</td>\n",
       "      <td>-10.958851</td>\n",
       "      <td>1</td>\n",
       "      <td>0.446119</td>\n",
       "      <td>81.706</td>\n",
       "      <td>70.53</td>\n",
       "      <td>-6.8652</td>\n",
       "      <td>2.274468</td>\n",
       "    </tr>\n",
       "    <tr>\n",
       "      <th>21</th>\n",
       "      <td>34.134092</td>\n",
       "      <td>28712</td>\n",
       "      <td>47094</td>\n",
       "      <td>80</td>\n",
       "      <td>4</td>\n",
       "      <td>0</td>\n",
       "      <td>247.63</td>\n",
       "      <td>[[12, 6, 3, 0, 1], 17.78, 677.68]</td>\n",
       "      <td>[[15, 0, 1, 4, 2], 0, 166]</td>\n",
       "      <td>[[\"22\", \"80\", \"443\", \"other\"], {\"443\": 4, \"80\"...</td>\n",
       "      <td>/docker/6aebd9a7d81f55435baff1afbcc16b11362669...</td>\n",
       "      <td>-9.865539</td>\n",
       "      <td>1</td>\n",
       "      <td>0.028350</td>\n",
       "      <td>121.008</td>\n",
       "      <td>80.79</td>\n",
       "      <td>25.3244</td>\n",
       "      <td>4.443682</td>\n",
       "    </tr>\n",
       "    <tr>\n",
       "      <th>22</th>\n",
       "      <td>34.244402</td>\n",
       "      <td>28712</td>\n",
       "      <td>45590</td>\n",
       "      <td>443</td>\n",
       "      <td>7</td>\n",
       "      <td>0</td>\n",
       "      <td>38.11</td>\n",
       "      <td>[[13, 6, 3, 0, 1], 17.78, 677.68]</td>\n",
       "      <td>[[16, 0, 1, 4, 2], 0, 166]</td>\n",
       "      <td>[[\"22\", \"80\", \"443\", \"other\"], {\"443\": 5, \"80\"...</td>\n",
       "      <td>/docker/6aebd9a7d81f55435baff1afbcc16b11362669...</td>\n",
       "      <td>-14.668362</td>\n",
       "      <td>1</td>\n",
       "      <td>0.465459</td>\n",
       "      <td>96.888</td>\n",
       "      <td>70.53</td>\n",
       "      <td>-11.7556</td>\n",
       "      <td>1.860159</td>\n",
       "    </tr>\n",
       "    <tr>\n",
       "      <th>23</th>\n",
       "      <td>34.610956</td>\n",
       "      <td>28713</td>\n",
       "      <td>47098</td>\n",
       "      <td>80</td>\n",
       "      <td>167</td>\n",
       "      <td>0</td>\n",
       "      <td>263.20</td>\n",
       "      <td>[[13, 7, 3, 0, 1], 17.78, 677.68]</td>\n",
       "      <td>[[16, 0, 2, 3, 3], 0, 167]</td>\n",
       "      <td>[[\"22\", \"80\", \"443\", \"other\"], {\"443\": 5, \"80\"...</td>\n",
       "      <td>/docker/6aebd9a7d81f55435baff1afbcc16b11362669...</td>\n",
       "      <td>-14.745495</td>\n",
       "      <td>1</td>\n",
       "      <td>0.004133</td>\n",
       "      <td>135.422</td>\n",
       "      <td>80.79</td>\n",
       "      <td>25.5556</td>\n",
       "      <td>4.814426</td>\n",
       "    </tr>\n",
       "    <tr>\n",
       "      <th>24</th>\n",
       "      <td>34.984266</td>\n",
       "      <td>28717</td>\n",
       "      <td>47100</td>\n",
       "      <td>80</td>\n",
       "      <td>113</td>\n",
       "      <td>0</td>\n",
       "      <td>239.61</td>\n",
       "      <td>[[13, 8, 3, 0, 1], 17.78, 677.68]</td>\n",
       "      <td>[[16, 0, 2, 4, 3], 0, 167]</td>\n",
       "      <td>[[\"22\", \"80\", \"443\", \"other\"], {\"443\": 5, \"80\"...</td>\n",
       "      <td>/docker/6aebd9a7d81f55435baff1afbcc16b11362669...</td>\n",
       "      <td>-11.721627</td>\n",
       "      <td>1</td>\n",
       "      <td>0.045082</td>\n",
       "      <td>167.186</td>\n",
       "      <td>239.61</td>\n",
       "      <td>14.4848</td>\n",
       "      <td>0.000000</td>\n",
       "    </tr>\n",
       "    <tr>\n",
       "      <th>25</th>\n",
       "      <td>35.338708</td>\n",
       "      <td>28718</td>\n",
       "      <td>47102</td>\n",
       "      <td>80</td>\n",
       "      <td>153</td>\n",
       "      <td>0</td>\n",
       "      <td>116.68</td>\n",
       "      <td>[[14, 8, 3, 0, 1], 17.78, 677.68]</td>\n",
       "      <td>[[16, 0, 2, 4, 4], 0, 167]</td>\n",
       "      <td>[[\"22\", \"80\", \"443\", \"other\"], {\"443\": 5, \"80\"...</td>\n",
       "      <td>/docker/6aebd9a7d81f55435baff1afbcc16b11362669...</td>\n",
       "      <td>-13.896243</td>\n",
       "      <td>1</td>\n",
       "      <td>0.301543</td>\n",
       "      <td>181.046</td>\n",
       "      <td>239.61</td>\n",
       "      <td>-12.8732</td>\n",
       "      <td>6.441000</td>\n",
       "    </tr>\n",
       "    <tr>\n",
       "      <th>26</th>\n",
       "      <td>35.650101</td>\n",
       "      <td>28719</td>\n",
       "      <td>35368</td>\n",
       "      <td>80</td>\n",
       "      <td>64</td>\n",
       "      <td>0</td>\n",
       "      <td>43.79</td>\n",
       "      <td>[[15, 8, 3, 0, 1], 17.78, 677.68]</td>\n",
       "      <td>[[16, 1, 2, 4, 4], 0, 167]</td>\n",
       "      <td>[[\"22\", \"80\", \"443\", \"other\"], {\"443\": 5, \"80\"...</td>\n",
       "      <td>/docker/6aebd9a7d81f55435baff1afbcc16b11362669...</td>\n",
       "      <td>-11.637608</td>\n",
       "      <td>1</td>\n",
       "      <td>0.453609</td>\n",
       "      <td>140.278</td>\n",
       "      <td>116.68</td>\n",
       "      <td>-19.2976</td>\n",
       "      <td>2.547690</td>\n",
       "    </tr>\n",
       "    <tr>\n",
       "      <th>27</th>\n",
       "      <td>35.882677</td>\n",
       "      <td>28723</td>\n",
       "      <td>47106</td>\n",
       "      <td>80</td>\n",
       "      <td>4</td>\n",
       "      <td>0</td>\n",
       "      <td>127.26</td>\n",
       "      <td>[[16, 8, 3, 0, 1], 17.78, 677.68]</td>\n",
       "      <td>[[17, 1, 2, 4, 4], 0, 167]</td>\n",
       "      <td>[[\"22\", \"80\", \"443\", \"other\"], {\"443\": 5, \"80\"...</td>\n",
       "      <td>/docker/6aebd9a7d81f55435baff1afbcc16b11362669...</td>\n",
       "      <td>-9.921733</td>\n",
       "      <td>1</td>\n",
       "      <td>0.279471</td>\n",
       "      <td>158.108</td>\n",
       "      <td>127.26</td>\n",
       "      <td>-6.1696</td>\n",
       "      <td>-0.000000</td>\n",
       "    </tr>\n",
       "    <tr>\n",
       "      <th>28</th>\n",
       "      <td>36.006439</td>\n",
       "      <td>28723</td>\n",
       "      <td>59728</td>\n",
       "      <td>443</td>\n",
       "      <td>7</td>\n",
       "      <td>0</td>\n",
       "      <td>45.91</td>\n",
       "      <td>[[17, 8, 3, 0, 1], 17.78, 677.68]</td>\n",
       "      <td>[[18, 1, 2, 4, 4], 0, 167]</td>\n",
       "      <td>[[\"22\", \"80\", \"443\", \"other\"], {\"443\": 6, \"80\"...</td>\n",
       "      <td>/docker/6aebd9a7d81f55435baff1afbcc16b11362669...</td>\n",
       "      <td>-21.089223</td>\n",
       "      <td>0</td>\n",
       "      <td>0.449186</td>\n",
       "      <td>114.650</td>\n",
       "      <td>116.68</td>\n",
       "      <td>-13.7480</td>\n",
       "      <td>3.472095</td>\n",
       "    </tr>\n",
       "    <tr>\n",
       "      <th>29</th>\n",
       "      <td>36.285133</td>\n",
       "      <td>28724</td>\n",
       "      <td>47110</td>\n",
       "      <td>80</td>\n",
       "      <td>4</td>\n",
       "      <td>0</td>\n",
       "      <td>146.02</td>\n",
       "      <td>[[18, 8, 3, 0, 1], 17.78, 677.68]</td>\n",
       "      <td>[[19, 1, 2, 4, 4], 0, 167]</td>\n",
       "      <td>[[\"22\", \"80\", \"443\", \"other\"], {\"443\": 6, \"80\"...</td>\n",
       "      <td>/docker/6aebd9a7d81f55435baff1afbcc16b11362669...</td>\n",
       "      <td>-9.885750</td>\n",
       "      <td>1</td>\n",
       "      <td>0.240333</td>\n",
       "      <td>95.932</td>\n",
       "      <td>116.68</td>\n",
       "      <td>10.0176</td>\n",
       "      <td>1.975506</td>\n",
       "    </tr>\n",
       "    <tr>\n",
       "      <th>...</th>\n",
       "      <td>...</td>\n",
       "      <td>...</td>\n",
       "      <td>...</td>\n",
       "      <td>...</td>\n",
       "      <td>...</td>\n",
       "      <td>...</td>\n",
       "      <td>...</td>\n",
       "      <td>...</td>\n",
       "      <td>...</td>\n",
       "      <td>...</td>\n",
       "      <td>...</td>\n",
       "      <td>...</td>\n",
       "      <td>...</td>\n",
       "      <td>...</td>\n",
       "      <td>...</td>\n",
       "      <td>...</td>\n",
       "      <td>...</td>\n",
       "      <td>...</td>\n",
       "    </tr>\n",
       "    <tr>\n",
       "      <th>914</th>\n",
       "      <td>577.302646</td>\n",
       "      <td>31106</td>\n",
       "      <td>48880</td>\n",
       "      <td>80</td>\n",
       "      <td>112</td>\n",
       "      <td>0</td>\n",
       "      <td>98.54</td>\n",
       "      <td>[[885, 13, 16, 0, 1], 5.04, 6454.02]</td>\n",
       "      <td>[[651, 251, 8, 4, 1], 0, 540]</td>\n",
       "      <td>[[\"22\", \"80\", \"443\", \"other\"], {\"443\": 107, \"8...</td>\n",
       "      <td>/docker/6aebd9a7d81f55435baff1afbcc16b11362669...</td>\n",
       "      <td>-11.846202</td>\n",
       "      <td>1</td>\n",
       "      <td>0.339387</td>\n",
       "      <td>60.454</td>\n",
       "      <td>46.66</td>\n",
       "      <td>7.6172</td>\n",
       "      <td>4.593953</td>\n",
       "    </tr>\n",
       "    <tr>\n",
       "      <th>915</th>\n",
       "      <td>577.576378</td>\n",
       "      <td>31110</td>\n",
       "      <td>42980</td>\n",
       "      <td>80</td>\n",
       "      <td>3</td>\n",
       "      <td>0</td>\n",
       "      <td>18.89</td>\n",
       "      <td>[[886, 13, 16, 0, 1], 5.04, 6454.02]</td>\n",
       "      <td>[[652, 251, 8, 4, 1], 0, 540]</td>\n",
       "      <td>[[\"22\", \"80\", \"443\", \"other\"], {\"443\": 107, \"8...</td>\n",
       "      <td>/docker/6aebd9a7d81f55435baff1afbcc16b11362669...</td>\n",
       "      <td>-10.468039</td>\n",
       "      <td>1</td>\n",
       "      <td>0.505556</td>\n",
       "      <td>43.996</td>\n",
       "      <td>35.68</td>\n",
       "      <td>-5.0212</td>\n",
       "      <td>2.255408</td>\n",
       "    </tr>\n",
       "    <tr>\n",
       "      <th>916</th>\n",
       "      <td>578.605220</td>\n",
       "      <td>31111</td>\n",
       "      <td>57142</td>\n",
       "      <td>80</td>\n",
       "      <td>148</td>\n",
       "      <td>0</td>\n",
       "      <td>456.79</td>\n",
       "      <td>[[887, 13, 16, 0, 1], 5.04, 6454.02]</td>\n",
       "      <td>[[652, 252, 8, 4, 1], 0, 540]</td>\n",
       "      <td>[[\"22\", \"80\", \"443\", \"other\"], {\"443\": 107, \"8...</td>\n",
       "      <td>/docker/6aebd9a7d81f55435baff1afbcc16b11362669...</td>\n",
       "      <td>-15.222246</td>\n",
       "      <td>1</td>\n",
       "      <td>0.408007</td>\n",
       "      <td>126.022</td>\n",
       "      <td>35.68</td>\n",
       "      <td>66.1536</td>\n",
       "      <td>4.293624</td>\n",
       "    </tr>\n",
       "    <tr>\n",
       "      <th>917</th>\n",
       "      <td>579.078614</td>\n",
       "      <td>31115</td>\n",
       "      <td>49702</td>\n",
       "      <td>80</td>\n",
       "      <td>0</td>\n",
       "      <td>0</td>\n",
       "      <td>23.92</td>\n",
       "      <td>[[888, 13, 16, 0, 1], 5.04, 6454.02]</td>\n",
       "      <td>[[653, 252, 8, 4, 1], 0, 540]</td>\n",
       "      <td>[[\"22\", \"80\", \"443\", \"other\"], {\"443\": 107, \"8...</td>\n",
       "      <td>/docker/6aebd9a7d81f55435baff1afbcc16b11362669...</td>\n",
       "      <td>-10.394893</td>\n",
       "      <td>1</td>\n",
       "      <td>0.495062</td>\n",
       "      <td>123.670</td>\n",
       "      <td>23.92</td>\n",
       "      <td>-19.9500</td>\n",
       "      <td>-0.000000</td>\n",
       "    </tr>\n",
       "    <tr>\n",
       "      <th>918</th>\n",
       "      <td>579.465141</td>\n",
       "      <td>31115</td>\n",
       "      <td>49704</td>\n",
       "      <td>80</td>\n",
       "      <td>0</td>\n",
       "      <td>0</td>\n",
       "      <td>143.85</td>\n",
       "      <td>[[889, 13, 16, 0, 1], 5.04, 6454.02]</td>\n",
       "      <td>[[654, 252, 8, 4, 1], 0, 540]</td>\n",
       "      <td>[[\"22\", \"80\", \"443\", \"other\"], {\"443\": 107, \"8...</td>\n",
       "      <td>/docker/6aebd9a7d81f55435baff1afbcc16b11362669...</td>\n",
       "      <td>-9.984166</td>\n",
       "      <td>1</td>\n",
       "      <td>0.244860</td>\n",
       "      <td>148.398</td>\n",
       "      <td>98.54</td>\n",
       "      <td>-0.9096</td>\n",
       "      <td>-33.598939</td>\n",
       "    </tr>\n",
       "    <tr>\n",
       "      <th>919</th>\n",
       "      <td>579.479226</td>\n",
       "      <td>31115</td>\n",
       "      <td>49706</td>\n",
       "      <td>80</td>\n",
       "      <td>0</td>\n",
       "      <td>0</td>\n",
       "      <td>38.73</td>\n",
       "      <td>[[890, 13, 16, 0, 1], 5.04, 6454.02]</td>\n",
       "      <td>[[655, 252, 8, 4, 1], 0, 540]</td>\n",
       "      <td>[[\"22\", \"80\", \"443\", \"other\"], {\"443\": 107, \"8...</td>\n",
       "      <td>/docker/6aebd9a7d81f55435baff1afbcc16b11362669...</td>\n",
       "      <td>-10.322094</td>\n",
       "      <td>1</td>\n",
       "      <td>0.464165</td>\n",
       "      <td>136.436</td>\n",
       "      <td>38.73</td>\n",
       "      <td>-19.5412</td>\n",
       "      <td>-0.000000</td>\n",
       "    </tr>\n",
       "    <tr>\n",
       "      <th>920</th>\n",
       "      <td>579.628378</td>\n",
       "      <td>31115</td>\n",
       "      <td>49708</td>\n",
       "      <td>80</td>\n",
       "      <td>0</td>\n",
       "      <td>0</td>\n",
       "      <td>48.99</td>\n",
       "      <td>[[891, 13, 16, 0, 1], 5.04, 6454.02]</td>\n",
       "      <td>[[656, 252, 8, 4, 1], 0, 540]</td>\n",
       "      <td>[[\"22\", \"80\", \"443\", \"other\"], {\"443\": 107, \"8...</td>\n",
       "      <td>/docker/6aebd9a7d81f55435baff1afbcc16b11362669...</td>\n",
       "      <td>-10.275303</td>\n",
       "      <td>1</td>\n",
       "      <td>0.442760</td>\n",
       "      <td>142.456</td>\n",
       "      <td>48.99</td>\n",
       "      <td>-18.6932</td>\n",
       "      <td>-0.000000</td>\n",
       "    </tr>\n",
       "    <tr>\n",
       "      <th>921</th>\n",
       "      <td>579.779719</td>\n",
       "      <td>31115</td>\n",
       "      <td>49710</td>\n",
       "      <td>80</td>\n",
       "      <td>0</td>\n",
       "      <td>0</td>\n",
       "      <td>18.72</td>\n",
       "      <td>[[892, 13, 16, 0, 1], 5.04, 6454.02]</td>\n",
       "      <td>[[657, 252, 8, 4, 1], 0, 540]</td>\n",
       "      <td>[[\"22\", \"80\", \"443\", \"other\"], {\"443\": 107, \"8...</td>\n",
       "      <td>/docker/6aebd9a7d81f55435baff1afbcc16b11362669...</td>\n",
       "      <td>-10.422343</td>\n",
       "      <td>1</td>\n",
       "      <td>0.505911</td>\n",
       "      <td>54.842</td>\n",
       "      <td>38.73</td>\n",
       "      <td>-7.2244</td>\n",
       "      <td>1.868217</td>\n",
       "    </tr>\n",
       "    <tr>\n",
       "      <th>922</th>\n",
       "      <td>579.878063</td>\n",
       "      <td>31115</td>\n",
       "      <td>49712</td>\n",
       "      <td>80</td>\n",
       "      <td>0</td>\n",
       "      <td>0</td>\n",
       "      <td>48.13</td>\n",
       "      <td>[[893, 13, 16, 0, 1], 5.04, 6454.02]</td>\n",
       "      <td>[[658, 252, 8, 4, 1], 0, 540]</td>\n",
       "      <td>[[\"22\", \"80\", \"443\", \"other\"], {\"443\": 107, \"8...</td>\n",
       "      <td>/docker/6aebd9a7d81f55435baff1afbcc16b11362669...</td>\n",
       "      <td>-10.279289</td>\n",
       "      <td>1</td>\n",
       "      <td>0.444554</td>\n",
       "      <td>59.684</td>\n",
       "      <td>48.13</td>\n",
       "      <td>-2.3108</td>\n",
       "      <td>-0.000000</td>\n",
       "    </tr>\n",
       "    <tr>\n",
       "      <th>923</th>\n",
       "      <td>579.990787</td>\n",
       "      <td>31115</td>\n",
       "      <td>49714</td>\n",
       "      <td>80</td>\n",
       "      <td>0</td>\n",
       "      <td>0</td>\n",
       "      <td>16.86</td>\n",
       "      <td>[[894, 13, 16, 0, 1], 5.04, 6454.02]</td>\n",
       "      <td>[[659, 252, 8, 4, 1], 0, 540]</td>\n",
       "      <td>[[\"22\", \"80\", \"443\", \"other\"], {\"443\": 107, \"8...</td>\n",
       "      <td>/docker/6aebd9a7d81f55435baff1afbcc16b11362669...</td>\n",
       "      <td>-10.432400</td>\n",
       "      <td>1</td>\n",
       "      <td>0.509791</td>\n",
       "      <td>34.286</td>\n",
       "      <td>38.73</td>\n",
       "      <td>-3.4852</td>\n",
       "      <td>4.232559</td>\n",
       "    </tr>\n",
       "    <tr>\n",
       "      <th>924</th>\n",
       "      <td>580.131797</td>\n",
       "      <td>31115</td>\n",
       "      <td>49716</td>\n",
       "      <td>80</td>\n",
       "      <td>0</td>\n",
       "      <td>0</td>\n",
       "      <td>53.64</td>\n",
       "      <td>[[895, 13, 16, 0, 1], 5.04, 6454.02]</td>\n",
       "      <td>[[660, 252, 8, 4, 1], 0, 540]</td>\n",
       "      <td>[[\"22\", \"80\", \"443\", \"other\"], {\"443\": 107, \"8...</td>\n",
       "      <td>/docker/6aebd9a7d81f55435baff1afbcc16b11362669...</td>\n",
       "      <td>-10.255391</td>\n",
       "      <td>1</td>\n",
       "      <td>0.433059</td>\n",
       "      <td>37.268</td>\n",
       "      <td>48.13</td>\n",
       "      <td>3.2744</td>\n",
       "      <td>1.135016</td>\n",
       "    </tr>\n",
       "    <tr>\n",
       "      <th>925</th>\n",
       "      <td>580.334568</td>\n",
       "      <td>31115</td>\n",
       "      <td>49718</td>\n",
       "      <td>80</td>\n",
       "      <td>0</td>\n",
       "      <td>0</td>\n",
       "      <td>22.21</td>\n",
       "      <td>[[896, 13, 16, 0, 1], 5.04, 6454.02]</td>\n",
       "      <td>[[661, 252, 8, 4, 1], 0, 540]</td>\n",
       "      <td>[[\"22\", \"80\", \"443\", \"other\"], {\"443\": 107, \"8...</td>\n",
       "      <td>/docker/6aebd9a7d81f55435baff1afbcc16b11362669...</td>\n",
       "      <td>-10.404410</td>\n",
       "      <td>1</td>\n",
       "      <td>0.498630</td>\n",
       "      <td>31.912</td>\n",
       "      <td>22.21</td>\n",
       "      <td>-1.9404</td>\n",
       "      <td>-0.000000</td>\n",
       "    </tr>\n",
       "    <tr>\n",
       "      <th>926</th>\n",
       "      <td>580.425308</td>\n",
       "      <td>31115</td>\n",
       "      <td>49720</td>\n",
       "      <td>80</td>\n",
       "      <td>0</td>\n",
       "      <td>0</td>\n",
       "      <td>55.85</td>\n",
       "      <td>[[897, 13, 16, 0, 1], 5.04, 6454.02]</td>\n",
       "      <td>[[662, 252, 8, 4, 1], 0, 540]</td>\n",
       "      <td>[[\"22\", \"80\", \"443\", \"other\"], {\"443\": 107, \"8...</td>\n",
       "      <td>/docker/6aebd9a7d81f55435baff1afbcc16b11362669...</td>\n",
       "      <td>-10.246153</td>\n",
       "      <td>1</td>\n",
       "      <td>0.428449</td>\n",
       "      <td>39.338</td>\n",
       "      <td>48.13</td>\n",
       "      <td>3.3024</td>\n",
       "      <td>1.576774</td>\n",
       "    </tr>\n",
       "    <tr>\n",
       "      <th>927</th>\n",
       "      <td>580.885308</td>\n",
       "      <td>31124</td>\n",
       "      <td>48906</td>\n",
       "      <td>80</td>\n",
       "      <td>165</td>\n",
       "      <td>0</td>\n",
       "      <td>178.29</td>\n",
       "      <td>[[898, 13, 16, 0, 1], 5.04, 6454.02]</td>\n",
       "      <td>[[662, 253, 8, 4, 1], 0, 540]</td>\n",
       "      <td>[[\"22\", \"80\", \"443\", \"other\"], {\"443\": 107, \"8...</td>\n",
       "      <td>/docker/6aebd9a7d81f55435baff1afbcc16b11362669...</td>\n",
       "      <td>-14.597061</td>\n",
       "      <td>1</td>\n",
       "      <td>0.173010</td>\n",
       "      <td>65.370</td>\n",
       "      <td>53.64</td>\n",
       "      <td>22.5840</td>\n",
       "      <td>3.722831</td>\n",
       "    </tr>\n",
       "    <tr>\n",
       "      <th>928</th>\n",
       "      <td>581.310891</td>\n",
       "      <td>31126</td>\n",
       "      <td>41154</td>\n",
       "      <td>80</td>\n",
       "      <td>25</td>\n",
       "      <td>0</td>\n",
       "      <td>179.72</td>\n",
       "      <td>[[899, 13, 16, 0, 1], 5.04, 6454.02]</td>\n",
       "      <td>[[663, 253, 8, 4, 1], 0, 540]</td>\n",
       "      <td>[[\"22\", \"80\", \"443\", \"other\"], {\"443\": 107, \"8...</td>\n",
       "      <td>/docker/6aebd9a7d81f55435baff1afbcc16b11362669...</td>\n",
       "      <td>-10.050839</td>\n",
       "      <td>1</td>\n",
       "      <td>0.170026</td>\n",
       "      <td>97.942</td>\n",
       "      <td>55.85</td>\n",
       "      <td>16.3556</td>\n",
       "      <td>5.108361</td>\n",
       "    </tr>\n",
       "    <tr>\n",
       "      <th>929</th>\n",
       "      <td>581.663707</td>\n",
       "      <td>31130</td>\n",
       "      <td>48910</td>\n",
       "      <td>80</td>\n",
       "      <td>104</td>\n",
       "      <td>0</td>\n",
       "      <td>177.00</td>\n",
       "      <td>[[900, 13, 16, 0, 1], 5.04, 6454.02]</td>\n",
       "      <td>[[664, 253, 8, 4, 1], 0, 540]</td>\n",
       "      <td>[[\"22\", \"80\", \"443\", \"other\"], {\"443\": 107, \"8...</td>\n",
       "      <td>/docker/6aebd9a7d81f55435baff1afbcc16b11362669...</td>\n",
       "      <td>-11.376176</td>\n",
       "      <td>1</td>\n",
       "      <td>0.175701</td>\n",
       "      <td>122.614</td>\n",
       "      <td>177.00</td>\n",
       "      <td>10.8772</td>\n",
       "      <td>0.000000</td>\n",
       "    </tr>\n",
       "    <tr>\n",
       "      <th>930</th>\n",
       "      <td>581.928757</td>\n",
       "      <td>31131</td>\n",
       "      <td>48098</td>\n",
       "      <td>80</td>\n",
       "      <td>0</td>\n",
       "      <td>0</td>\n",
       "      <td>32.88</td>\n",
       "      <td>[[901, 13, 16, 0, 1], 5.04, 6454.02]</td>\n",
       "      <td>[[665, 253, 8, 4, 1], 0, 540]</td>\n",
       "      <td>[[\"22\", \"80\", \"443\", \"other\"], {\"443\": 107, \"8...</td>\n",
       "      <td>/docker/6aebd9a7d81f55435baff1afbcc16b11362669...</td>\n",
       "      <td>-10.301992</td>\n",
       "      <td>1</td>\n",
       "      <td>0.476370</td>\n",
       "      <td>124.748</td>\n",
       "      <td>177.00</td>\n",
       "      <td>-18.3736</td>\n",
       "      <td>5.290686</td>\n",
       "    </tr>\n",
       "    <tr>\n",
       "      <th>931</th>\n",
       "      <td>582.142584</td>\n",
       "      <td>31131</td>\n",
       "      <td>34372</td>\n",
       "      <td>443</td>\n",
       "      <td>20</td>\n",
       "      <td>0</td>\n",
       "      <td>129.24</td>\n",
       "      <td>[[902, 13, 16, 0, 1], 5.04, 6454.02]</td>\n",
       "      <td>[[666, 253, 8, 4, 1], 0, 540]</td>\n",
       "      <td>[[\"22\", \"80\", \"443\", \"other\"], {\"443\": 108, \"8...</td>\n",
       "      <td>/docker/6aebd9a7d81f55435baff1afbcc16b11362669...</td>\n",
       "      <td>-16.586803</td>\n",
       "      <td>0</td>\n",
       "      <td>0.275340</td>\n",
       "      <td>139.426</td>\n",
       "      <td>177.00</td>\n",
       "      <td>-2.0372</td>\n",
       "      <td>15.812939</td>\n",
       "    </tr>\n",
       "    <tr>\n",
       "      <th>932</th>\n",
       "      <td>582.491068</td>\n",
       "      <td>31132</td>\n",
       "      <td>35204</td>\n",
       "      <td>80</td>\n",
       "      <td>0</td>\n",
       "      <td>0</td>\n",
       "      <td>20.35</td>\n",
       "      <td>[[903, 13, 16, 0, 1], 5.04, 6454.02]</td>\n",
       "      <td>[[667, 253, 8, 4, 1], 0, 540]</td>\n",
       "      <td>[[\"22\", \"80\", \"443\", \"other\"], {\"443\": 108, \"8...</td>\n",
       "      <td>/docker/6aebd9a7d81f55435baff1afbcc16b11362669...</td>\n",
       "      <td>-11.485323</td>\n",
       "      <td>1</td>\n",
       "      <td>0.502510</td>\n",
       "      <td>107.838</td>\n",
       "      <td>129.24</td>\n",
       "      <td>-17.4976</td>\n",
       "      <td>4.197507</td>\n",
       "    </tr>\n",
       "    <tr>\n",
       "      <th>933</th>\n",
       "      <td>582.505089</td>\n",
       "      <td>31132</td>\n",
       "      <td>58776</td>\n",
       "      <td>80</td>\n",
       "      <td>3</td>\n",
       "      <td>0</td>\n",
       "      <td>14.07</td>\n",
       "      <td>[[904, 13, 16, 0, 1], 5.04, 6454.02]</td>\n",
       "      <td>[[668, 253, 8, 4, 1], 0, 540]</td>\n",
       "      <td>[[\"22\", \"80\", \"443\", \"other\"], {\"443\": 108, \"8...</td>\n",
       "      <td>/docker/6aebd9a7d81f55435baff1afbcc16b11362669...</td>\n",
       "      <td>-11.469944</td>\n",
       "      <td>1</td>\n",
       "      <td>0.515612</td>\n",
       "      <td>74.708</td>\n",
       "      <td>32.88</td>\n",
       "      <td>-12.1276</td>\n",
       "      <td>1.046155</td>\n",
       "    </tr>\n",
       "    <tr>\n",
       "      <th>934</th>\n",
       "      <td>582.992531</td>\n",
       "      <td>31136</td>\n",
       "      <td>48920</td>\n",
       "      <td>80</td>\n",
       "      <td>4</td>\n",
       "      <td>0</td>\n",
       "      <td>321.89</td>\n",
       "      <td>[[905, 13, 16, 0, 1], 5.04, 6454.02]</td>\n",
       "      <td>[[669, 253, 8, 4, 1], 0, 540]</td>\n",
       "      <td>[[\"22\", \"80\", \"443\", \"other\"], {\"443\": 108, \"8...</td>\n",
       "      <td>/docker/6aebd9a7d81f55435baff1afbcc16b11362669...</td>\n",
       "      <td>-10.065723</td>\n",
       "      <td>1</td>\n",
       "      <td>0.126574</td>\n",
       "      <td>103.686</td>\n",
       "      <td>32.88</td>\n",
       "      <td>43.6408</td>\n",
       "      <td>4.466858</td>\n",
       "    </tr>\n",
       "    <tr>\n",
       "      <th>935</th>\n",
       "      <td>583.139839</td>\n",
       "      <td>31136</td>\n",
       "      <td>47416</td>\n",
       "      <td>443</td>\n",
       "      <td>7</td>\n",
       "      <td>0</td>\n",
       "      <td>47.27</td>\n",
       "      <td>[[906, 13, 16, 0, 1], 5.04, 6454.02]</td>\n",
       "      <td>[[670, 253, 8, 4, 1], 0, 540]</td>\n",
       "      <td>[[\"22\", \"80\", \"443\", \"other\"], {\"443\": 109, \"8...</td>\n",
       "      <td>/docker/6aebd9a7d81f55435baff1afbcc16b11362669...</td>\n",
       "      <td>-15.145321</td>\n",
       "      <td>1</td>\n",
       "      <td>0.446349</td>\n",
       "      <td>106.564</td>\n",
       "      <td>47.27</td>\n",
       "      <td>-11.8588</td>\n",
       "      <td>-0.000000</td>\n",
       "    </tr>\n",
       "    <tr>\n",
       "      <th>936</th>\n",
       "      <td>583.407003</td>\n",
       "      <td>31137</td>\n",
       "      <td>48924</td>\n",
       "      <td>80</td>\n",
       "      <td>166</td>\n",
       "      <td>0</td>\n",
       "      <td>172.40</td>\n",
       "      <td>[[907, 13, 16, 0, 1], 5.04, 6454.02]</td>\n",
       "      <td>[[670, 254, 8, 4, 1], 0, 540]</td>\n",
       "      <td>[[\"22\", \"80\", \"443\", \"other\"], {\"443\": 109, \"8...</td>\n",
       "      <td>/docker/6aebd9a7d81f55435baff1afbcc16b11362669...</td>\n",
       "      <td>-14.669773</td>\n",
       "      <td>1</td>\n",
       "      <td>0.185298</td>\n",
       "      <td>115.196</td>\n",
       "      <td>47.27</td>\n",
       "      <td>11.4408</td>\n",
       "      <td>7.377123</td>\n",
       "    </tr>\n",
       "    <tr>\n",
       "      <th>937</th>\n",
       "      <td>584.136033</td>\n",
       "      <td>31142</td>\n",
       "      <td>48926</td>\n",
       "      <td>80</td>\n",
       "      <td>149</td>\n",
       "      <td>0</td>\n",
       "      <td>112.49</td>\n",
       "      <td>[[908, 13, 16, 0, 1], 5.04, 6454.02]</td>\n",
       "      <td>[[670, 255, 8, 4, 1], 0, 540]</td>\n",
       "      <td>[[\"22\", \"80\", \"443\", \"other\"], {\"443\": 109, \"8...</td>\n",
       "      <td>/docker/6aebd9a7d81f55435baff1afbcc16b11362669...</td>\n",
       "      <td>-13.693190</td>\n",
       "      <td>1</td>\n",
       "      <td>0.310284</td>\n",
       "      <td>133.624</td>\n",
       "      <td>112.49</td>\n",
       "      <td>-4.2268</td>\n",
       "      <td>-0.000000</td>\n",
       "    </tr>\n",
       "    <tr>\n",
       "      <th>938</th>\n",
       "      <td>584.476646</td>\n",
       "      <td>31143</td>\n",
       "      <td>47358</td>\n",
       "      <td>80</td>\n",
       "      <td>3</td>\n",
       "      <td>0</td>\n",
       "      <td>9.79</td>\n",
       "      <td>[[909, 13, 16, 0, 1], 5.04, 6454.02]</td>\n",
       "      <td>[[671, 255, 8, 4, 1], 0, 540]</td>\n",
       "      <td>[[\"22\", \"80\", \"443\", \"other\"], {\"443\": 109, \"8...</td>\n",
       "      <td>/docker/6aebd9a7d81f55435baff1afbcc16b11362669...</td>\n",
       "      <td>-10.385169</td>\n",
       "      <td>1</td>\n",
       "      <td>0.524541</td>\n",
       "      <td>132.768</td>\n",
       "      <td>112.49</td>\n",
       "      <td>-24.5956</td>\n",
       "      <td>2.816404</td>\n",
       "    </tr>\n",
       "    <tr>\n",
       "      <th>939</th>\n",
       "      <td>584.656929</td>\n",
       "      <td>31147</td>\n",
       "      <td>48930</td>\n",
       "      <td>80</td>\n",
       "      <td>99</td>\n",
       "      <td>0</td>\n",
       "      <td>108.21</td>\n",
       "      <td>[[910, 13, 16, 0, 1], 5.04, 6454.02]</td>\n",
       "      <td>[[672, 255, 8, 4, 1], 0, 540]</td>\n",
       "      <td>[[\"22\", \"80\", \"443\", \"other\"], {\"443\": 109, \"8...</td>\n",
       "      <td>/docker/6aebd9a7d81f55435baff1afbcc16b11362669...</td>\n",
       "      <td>-11.310440</td>\n",
       "      <td>1</td>\n",
       "      <td>0.319213</td>\n",
       "      <td>90.032</td>\n",
       "      <td>108.21</td>\n",
       "      <td>3.6356</td>\n",
       "      <td>0.000000</td>\n",
       "    </tr>\n",
       "    <tr>\n",
       "      <th>940</th>\n",
       "      <td>585.031054</td>\n",
       "      <td>31148</td>\n",
       "      <td>48932</td>\n",
       "      <td>80</td>\n",
       "      <td>4</td>\n",
       "      <td>0</td>\n",
       "      <td>244.96</td>\n",
       "      <td>[[911, 13, 16, 0, 1], 5.04, 6454.02]</td>\n",
       "      <td>[[673, 255, 8, 4, 1], 0, 540]</td>\n",
       "      <td>[[\"22\", \"80\", \"443\", \"other\"], {\"443\": 109, \"8...</td>\n",
       "      <td>/docker/6aebd9a7d81f55435baff1afbcc16b11362669...</td>\n",
       "      <td>-9.891040</td>\n",
       "      <td>1</td>\n",
       "      <td>0.033920</td>\n",
       "      <td>129.570</td>\n",
       "      <td>112.49</td>\n",
       "      <td>23.0780</td>\n",
       "      <td>3.871697</td>\n",
       "    </tr>\n",
       "    <tr>\n",
       "      <th>941</th>\n",
       "      <td>585.265754</td>\n",
       "      <td>31148</td>\n",
       "      <td>33322</td>\n",
       "      <td>443</td>\n",
       "      <td>7</td>\n",
       "      <td>0</td>\n",
       "      <td>45.05</td>\n",
       "      <td>[[912, 13, 16, 0, 1], 5.04, 6454.02]</td>\n",
       "      <td>[[674, 255, 8, 4, 1], 0, 540]</td>\n",
       "      <td>[[\"22\", \"80\", \"443\", \"other\"], {\"443\": 110, \"8...</td>\n",
       "      <td>/docker/6aebd9a7d81f55435baff1afbcc16b11362669...</td>\n",
       "      <td>-17.929256</td>\n",
       "      <td>0</td>\n",
       "      <td>0.450980</td>\n",
       "      <td>104.100</td>\n",
       "      <td>108.21</td>\n",
       "      <td>-11.8100</td>\n",
       "      <td>3.607233</td>\n",
       "    </tr>\n",
       "    <tr>\n",
       "      <th>942</th>\n",
       "      <td>585.533478</td>\n",
       "      <td>31149</td>\n",
       "      <td>48936</td>\n",
       "      <td>80</td>\n",
       "      <td>4</td>\n",
       "      <td>0</td>\n",
       "      <td>281.81</td>\n",
       "      <td>[[913, 13, 16, 0, 1], 5.04, 6454.02]</td>\n",
       "      <td>[[675, 255, 8, 4, 1], 0, 540]</td>\n",
       "      <td>[[\"22\", \"80\", \"443\", \"other\"], {\"443\": 110, \"8...</td>\n",
       "      <td>/docker/6aebd9a7d81f55435baff1afbcc16b11362669...</td>\n",
       "      <td>-9.953914</td>\n",
       "      <td>1</td>\n",
       "      <td>0.042957</td>\n",
       "      <td>137.964</td>\n",
       "      <td>108.21</td>\n",
       "      <td>28.7692</td>\n",
       "      <td>4.070089</td>\n",
       "    </tr>\n",
       "    <tr>\n",
       "      <th>943</th>\n",
       "      <td>585.672974</td>\n",
       "      <td>31149</td>\n",
       "      <td>47432</td>\n",
       "      <td>443</td>\n",
       "      <td>7</td>\n",
       "      <td>0</td>\n",
       "      <td>40.80</td>\n",
       "      <td>[[914, 13, 16, 0, 1], 5.04, 6454.02]</td>\n",
       "      <td>[[676, 255, 8, 4, 1], 0, 540]</td>\n",
       "      <td>[[\"22\", \"80\", \"443\", \"other\"], {\"443\": 111, \"8...</td>\n",
       "      <td>/docker/6aebd9a7d81f55435baff1afbcc16b11362669...</td>\n",
       "      <td>-15.199734</td>\n",
       "      <td>1</td>\n",
       "      <td>0.459847</td>\n",
       "      <td>144.166</td>\n",
       "      <td>108.21</td>\n",
       "      <td>-20.6732</td>\n",
       "      <td>2.199371</td>\n",
       "    </tr>\n",
       "  </tbody>\n",
       "</table>\n",
       "<p>944 rows × 18 columns</p>\n",
       "</div>"
      ],
      "text/plain": [
       "             ts    pid  lport  rport   rx  tx     dur  \\\n",
       "0     25.147065  28668  60290     80   30   0   93.65   \n",
       "1     25.536215  28669  47054     80  166   0  192.11   \n",
       "2     26.039532  28673  53762     80    0   0   81.72   \n",
       "3     26.201396  28673  50248     80    0   0   25.16   \n",
       "4     26.329412  28673  57968    443    0   0   17.78   \n",
       "5     26.635802  28679  47062     80  109   0  107.94   \n",
       "6     26.941862  28680  47064     80  105   0  172.62   \n",
       "7     28.057589  28681  55366     80  123   0  677.68   \n",
       "8     28.587030  28685  47068     80    4   0  360.14   \n",
       "9     28.634554  28685  59690    443    7   0   38.43   \n",
       "10    30.436322  28693  47072     80    4   0  276.11   \n",
       "11    30.736964  28693  59694    443    7   0  282.12   \n",
       "12    31.105479  28697  47076     80   69   0  191.76   \n",
       "13    31.651825  28698  47078     80  166   0  391.87   \n",
       "14    31.899657  28702  47080     80  100   0  120.45   \n",
       "15    32.128557  28703  47082     80    4   0  115.73   \n",
       "16    32.207061  28703  59704    443    7   0   51.12   \n",
       "17    32.985475  28704  38796     80   21   0  158.71   \n",
       "18    33.335595  28708  37612     80    0   0   70.53   \n",
       "19    33.529444  28708  37614     80    0   0   80.79   \n",
       "20    33.728260  28708  56828     80    4   0   47.38   \n",
       "21    34.134092  28712  47094     80    4   0  247.63   \n",
       "22    34.244402  28712  45590    443    7   0   38.11   \n",
       "23    34.610956  28713  47098     80  167   0  263.20   \n",
       "24    34.984266  28717  47100     80  113   0  239.61   \n",
       "25    35.338708  28718  47102     80  153   0  116.68   \n",
       "26    35.650101  28719  35368     80   64   0   43.79   \n",
       "27    35.882677  28723  47106     80    4   0  127.26   \n",
       "28    36.006439  28723  59728    443    7   0   45.91   \n",
       "29    36.285133  28724  47110     80    4   0  146.02   \n",
       "..          ...    ...    ...    ...  ...  ..     ...   \n",
       "914  577.302646  31106  48880     80  112   0   98.54   \n",
       "915  577.576378  31110  42980     80    3   0   18.89   \n",
       "916  578.605220  31111  57142     80  148   0  456.79   \n",
       "917  579.078614  31115  49702     80    0   0   23.92   \n",
       "918  579.465141  31115  49704     80    0   0  143.85   \n",
       "919  579.479226  31115  49706     80    0   0   38.73   \n",
       "920  579.628378  31115  49708     80    0   0   48.99   \n",
       "921  579.779719  31115  49710     80    0   0   18.72   \n",
       "922  579.878063  31115  49712     80    0   0   48.13   \n",
       "923  579.990787  31115  49714     80    0   0   16.86   \n",
       "924  580.131797  31115  49716     80    0   0   53.64   \n",
       "925  580.334568  31115  49718     80    0   0   22.21   \n",
       "926  580.425308  31115  49720     80    0   0   55.85   \n",
       "927  580.885308  31124  48906     80  165   0  178.29   \n",
       "928  581.310891  31126  41154     80   25   0  179.72   \n",
       "929  581.663707  31130  48910     80  104   0  177.00   \n",
       "930  581.928757  31131  48098     80    0   0   32.88   \n",
       "931  582.142584  31131  34372    443   20   0  129.24   \n",
       "932  582.491068  31132  35204     80    0   0   20.35   \n",
       "933  582.505089  31132  58776     80    3   0   14.07   \n",
       "934  582.992531  31136  48920     80    4   0  321.89   \n",
       "935  583.139839  31136  47416    443    7   0   47.27   \n",
       "936  583.407003  31137  48924     80  166   0  172.40   \n",
       "937  584.136033  31142  48926     80  149   0  112.49   \n",
       "938  584.476646  31143  47358     80    3   0    9.79   \n",
       "939  584.656929  31147  48930     80   99   0  108.21   \n",
       "940  585.031054  31148  48932     80    4   0  244.96   \n",
       "941  585.265754  31148  33322    443    7   0   45.05   \n",
       "942  585.533478  31149  48936     80    4   0  281.81   \n",
       "943  585.672974  31149  47432    443    7   0   40.80   \n",
       "\n",
       "                               histotimes                     histosizes  \\\n",
       "0         [[0, 0, 1, 0, 0], 93.65, 93.65]      [[0, 0, 1, 0, 0], 30, 30]   \n",
       "1        [[1, 0, 0, 0, 1], 93.65, 192.11]     [[1, 0, 0, 0, 1], 30, 166]   \n",
       "2        [[2, 0, 0, 0, 1], 81.72, 192.11]      [[2, 0, 0, 0, 1], 0, 166]   \n",
       "3        [[1, 1, 1, 0, 1], 25.16, 192.11]      [[3, 0, 0, 0, 1], 0, 166]   \n",
       "4        [[2, 1, 1, 0, 1], 17.78, 192.11]      [[4, 0, 0, 0, 1], 0, 166]   \n",
       "5        [[2, 1, 2, 0, 1], 17.78, 192.11]      [[4, 0, 0, 1, 1], 0, 166]   \n",
       "6        [[2, 1, 2, 0, 2], 17.78, 192.11]      [[4, 0, 0, 2, 1], 0, 166]   \n",
       "7        [[5, 2, 0, 0, 1], 17.78, 677.68]      [[4, 0, 0, 3, 1], 0, 166]   \n",
       "8        [[5, 2, 1, 0, 1], 17.78, 677.68]      [[5, 0, 0, 3, 1], 0, 166]   \n",
       "9        [[6, 2, 1, 0, 1], 17.78, 677.68]      [[6, 0, 0, 3, 1], 0, 166]   \n",
       "10       [[6, 3, 1, 0, 1], 17.78, 677.68]      [[7, 0, 0, 3, 1], 0, 166]   \n",
       "11       [[6, 3, 2, 0, 1], 17.78, 677.68]      [[8, 0, 0, 3, 1], 0, 166]   \n",
       "12       [[6, 4, 2, 0, 1], 17.78, 677.68]      [[8, 0, 1, 3, 1], 0, 166]   \n",
       "13       [[6, 4, 3, 0, 1], 17.78, 677.68]      [[8, 0, 1, 3, 2], 0, 166]   \n",
       "14       [[7, 4, 3, 0, 1], 17.78, 677.68]      [[8, 0, 1, 4, 2], 0, 166]   \n",
       "15       [[8, 4, 3, 0, 1], 17.78, 677.68]      [[9, 0, 1, 4, 2], 0, 166]   \n",
       "16       [[9, 4, 3, 0, 1], 17.78, 677.68]     [[10, 0, 1, 4, 2], 0, 166]   \n",
       "17       [[9, 5, 3, 0, 1], 17.78, 677.68]     [[11, 0, 1, 4, 2], 0, 166]   \n",
       "18      [[10, 5, 3, 0, 1], 17.78, 677.68]     [[12, 0, 1, 4, 2], 0, 166]   \n",
       "19      [[11, 5, 3, 0, 1], 17.78, 677.68]     [[13, 0, 1, 4, 2], 0, 166]   \n",
       "20      [[12, 5, 3, 0, 1], 17.78, 677.68]     [[14, 0, 1, 4, 2], 0, 166]   \n",
       "21      [[12, 6, 3, 0, 1], 17.78, 677.68]     [[15, 0, 1, 4, 2], 0, 166]   \n",
       "22      [[13, 6, 3, 0, 1], 17.78, 677.68]     [[16, 0, 1, 4, 2], 0, 166]   \n",
       "23      [[13, 7, 3, 0, 1], 17.78, 677.68]     [[16, 0, 2, 3, 3], 0, 167]   \n",
       "24      [[13, 8, 3, 0, 1], 17.78, 677.68]     [[16, 0, 2, 4, 3], 0, 167]   \n",
       "25      [[14, 8, 3, 0, 1], 17.78, 677.68]     [[16, 0, 2, 4, 4], 0, 167]   \n",
       "26      [[15, 8, 3, 0, 1], 17.78, 677.68]     [[16, 1, 2, 4, 4], 0, 167]   \n",
       "27      [[16, 8, 3, 0, 1], 17.78, 677.68]     [[17, 1, 2, 4, 4], 0, 167]   \n",
       "28      [[17, 8, 3, 0, 1], 17.78, 677.68]     [[18, 1, 2, 4, 4], 0, 167]   \n",
       "29      [[18, 8, 3, 0, 1], 17.78, 677.68]     [[19, 1, 2, 4, 4], 0, 167]   \n",
       "..                                    ...                            ...   \n",
       "914  [[885, 13, 16, 0, 1], 5.04, 6454.02]  [[651, 251, 8, 4, 1], 0, 540]   \n",
       "915  [[886, 13, 16, 0, 1], 5.04, 6454.02]  [[652, 251, 8, 4, 1], 0, 540]   \n",
       "916  [[887, 13, 16, 0, 1], 5.04, 6454.02]  [[652, 252, 8, 4, 1], 0, 540]   \n",
       "917  [[888, 13, 16, 0, 1], 5.04, 6454.02]  [[653, 252, 8, 4, 1], 0, 540]   \n",
       "918  [[889, 13, 16, 0, 1], 5.04, 6454.02]  [[654, 252, 8, 4, 1], 0, 540]   \n",
       "919  [[890, 13, 16, 0, 1], 5.04, 6454.02]  [[655, 252, 8, 4, 1], 0, 540]   \n",
       "920  [[891, 13, 16, 0, 1], 5.04, 6454.02]  [[656, 252, 8, 4, 1], 0, 540]   \n",
       "921  [[892, 13, 16, 0, 1], 5.04, 6454.02]  [[657, 252, 8, 4, 1], 0, 540]   \n",
       "922  [[893, 13, 16, 0, 1], 5.04, 6454.02]  [[658, 252, 8, 4, 1], 0, 540]   \n",
       "923  [[894, 13, 16, 0, 1], 5.04, 6454.02]  [[659, 252, 8, 4, 1], 0, 540]   \n",
       "924  [[895, 13, 16, 0, 1], 5.04, 6454.02]  [[660, 252, 8, 4, 1], 0, 540]   \n",
       "925  [[896, 13, 16, 0, 1], 5.04, 6454.02]  [[661, 252, 8, 4, 1], 0, 540]   \n",
       "926  [[897, 13, 16, 0, 1], 5.04, 6454.02]  [[662, 252, 8, 4, 1], 0, 540]   \n",
       "927  [[898, 13, 16, 0, 1], 5.04, 6454.02]  [[662, 253, 8, 4, 1], 0, 540]   \n",
       "928  [[899, 13, 16, 0, 1], 5.04, 6454.02]  [[663, 253, 8, 4, 1], 0, 540]   \n",
       "929  [[900, 13, 16, 0, 1], 5.04, 6454.02]  [[664, 253, 8, 4, 1], 0, 540]   \n",
       "930  [[901, 13, 16, 0, 1], 5.04, 6454.02]  [[665, 253, 8, 4, 1], 0, 540]   \n",
       "931  [[902, 13, 16, 0, 1], 5.04, 6454.02]  [[666, 253, 8, 4, 1], 0, 540]   \n",
       "932  [[903, 13, 16, 0, 1], 5.04, 6454.02]  [[667, 253, 8, 4, 1], 0, 540]   \n",
       "933  [[904, 13, 16, 0, 1], 5.04, 6454.02]  [[668, 253, 8, 4, 1], 0, 540]   \n",
       "934  [[905, 13, 16, 0, 1], 5.04, 6454.02]  [[669, 253, 8, 4, 1], 0, 540]   \n",
       "935  [[906, 13, 16, 0, 1], 5.04, 6454.02]  [[670, 253, 8, 4, 1], 0, 540]   \n",
       "936  [[907, 13, 16, 0, 1], 5.04, 6454.02]  [[670, 254, 8, 4, 1], 0, 540]   \n",
       "937  [[908, 13, 16, 0, 1], 5.04, 6454.02]  [[670, 255, 8, 4, 1], 0, 540]   \n",
       "938  [[909, 13, 16, 0, 1], 5.04, 6454.02]  [[671, 255, 8, 4, 1], 0, 540]   \n",
       "939  [[910, 13, 16, 0, 1], 5.04, 6454.02]  [[672, 255, 8, 4, 1], 0, 540]   \n",
       "940  [[911, 13, 16, 0, 1], 5.04, 6454.02]  [[673, 255, 8, 4, 1], 0, 540]   \n",
       "941  [[912, 13, 16, 0, 1], 5.04, 6454.02]  [[674, 255, 8, 4, 1], 0, 540]   \n",
       "942  [[913, 13, 16, 0, 1], 5.04, 6454.02]  [[675, 255, 8, 4, 1], 0, 540]   \n",
       "943  [[914, 13, 16, 0, 1], 5.04, 6454.02]  [[676, 255, 8, 4, 1], 0, 540]   \n",
       "\n",
       "                                            histoports  \\\n",
       "0    [[\"22\", \"80\", \"443\", \"other\"], {\"443\": 0, \"80\"...   \n",
       "1    [[\"22\", \"80\", \"443\", \"other\"], {\"443\": 0, \"80\"...   \n",
       "2    [[\"22\", \"80\", \"443\", \"other\"], {\"443\": 0, \"80\"...   \n",
       "3    [[\"22\", \"80\", \"443\", \"other\"], {\"443\": 0, \"80\"...   \n",
       "4    [[\"22\", \"80\", \"443\", \"other\"], {\"443\": 1, \"80\"...   \n",
       "5    [[\"22\", \"80\", \"443\", \"other\"], {\"443\": 1, \"80\"...   \n",
       "6    [[\"22\", \"80\", \"443\", \"other\"], {\"443\": 1, \"80\"...   \n",
       "7    [[\"22\", \"80\", \"443\", \"other\"], {\"443\": 1, \"80\"...   \n",
       "8    [[\"22\", \"80\", \"443\", \"other\"], {\"443\": 1, \"80\"...   \n",
       "9    [[\"22\", \"80\", \"443\", \"other\"], {\"443\": 2, \"80\"...   \n",
       "10   [[\"22\", \"80\", \"443\", \"other\"], {\"443\": 2, \"80\"...   \n",
       "11   [[\"22\", \"80\", \"443\", \"other\"], {\"443\": 3, \"80\"...   \n",
       "12   [[\"22\", \"80\", \"443\", \"other\"], {\"443\": 3, \"80\"...   \n",
       "13   [[\"22\", \"80\", \"443\", \"other\"], {\"443\": 3, \"80\"...   \n",
       "14   [[\"22\", \"80\", \"443\", \"other\"], {\"443\": 3, \"80\"...   \n",
       "15   [[\"22\", \"80\", \"443\", \"other\"], {\"443\": 3, \"80\"...   \n",
       "16   [[\"22\", \"80\", \"443\", \"other\"], {\"443\": 4, \"80\"...   \n",
       "17   [[\"22\", \"80\", \"443\", \"other\"], {\"443\": 4, \"80\"...   \n",
       "18   [[\"22\", \"80\", \"443\", \"other\"], {\"443\": 4, \"80\"...   \n",
       "19   [[\"22\", \"80\", \"443\", \"other\"], {\"443\": 4, \"80\"...   \n",
       "20   [[\"22\", \"80\", \"443\", \"other\"], {\"443\": 4, \"80\"...   \n",
       "21   [[\"22\", \"80\", \"443\", \"other\"], {\"443\": 4, \"80\"...   \n",
       "22   [[\"22\", \"80\", \"443\", \"other\"], {\"443\": 5, \"80\"...   \n",
       "23   [[\"22\", \"80\", \"443\", \"other\"], {\"443\": 5, \"80\"...   \n",
       "24   [[\"22\", \"80\", \"443\", \"other\"], {\"443\": 5, \"80\"...   \n",
       "25   [[\"22\", \"80\", \"443\", \"other\"], {\"443\": 5, \"80\"...   \n",
       "26   [[\"22\", \"80\", \"443\", \"other\"], {\"443\": 5, \"80\"...   \n",
       "27   [[\"22\", \"80\", \"443\", \"other\"], {\"443\": 5, \"80\"...   \n",
       "28   [[\"22\", \"80\", \"443\", \"other\"], {\"443\": 6, \"80\"...   \n",
       "29   [[\"22\", \"80\", \"443\", \"other\"], {\"443\": 6, \"80\"...   \n",
       "..                                                 ...   \n",
       "914  [[\"22\", \"80\", \"443\", \"other\"], {\"443\": 107, \"8...   \n",
       "915  [[\"22\", \"80\", \"443\", \"other\"], {\"443\": 107, \"8...   \n",
       "916  [[\"22\", \"80\", \"443\", \"other\"], {\"443\": 107, \"8...   \n",
       "917  [[\"22\", \"80\", \"443\", \"other\"], {\"443\": 107, \"8...   \n",
       "918  [[\"22\", \"80\", \"443\", \"other\"], {\"443\": 107, \"8...   \n",
       "919  [[\"22\", \"80\", \"443\", \"other\"], {\"443\": 107, \"8...   \n",
       "920  [[\"22\", \"80\", \"443\", \"other\"], {\"443\": 107, \"8...   \n",
       "921  [[\"22\", \"80\", \"443\", \"other\"], {\"443\": 107, \"8...   \n",
       "922  [[\"22\", \"80\", \"443\", \"other\"], {\"443\": 107, \"8...   \n",
       "923  [[\"22\", \"80\", \"443\", \"other\"], {\"443\": 107, \"8...   \n",
       "924  [[\"22\", \"80\", \"443\", \"other\"], {\"443\": 107, \"8...   \n",
       "925  [[\"22\", \"80\", \"443\", \"other\"], {\"443\": 107, \"8...   \n",
       "926  [[\"22\", \"80\", \"443\", \"other\"], {\"443\": 107, \"8...   \n",
       "927  [[\"22\", \"80\", \"443\", \"other\"], {\"443\": 107, \"8...   \n",
       "928  [[\"22\", \"80\", \"443\", \"other\"], {\"443\": 107, \"8...   \n",
       "929  [[\"22\", \"80\", \"443\", \"other\"], {\"443\": 107, \"8...   \n",
       "930  [[\"22\", \"80\", \"443\", \"other\"], {\"443\": 107, \"8...   \n",
       "931  [[\"22\", \"80\", \"443\", \"other\"], {\"443\": 108, \"8...   \n",
       "932  [[\"22\", \"80\", \"443\", \"other\"], {\"443\": 108, \"8...   \n",
       "933  [[\"22\", \"80\", \"443\", \"other\"], {\"443\": 108, \"8...   \n",
       "934  [[\"22\", \"80\", \"443\", \"other\"], {\"443\": 108, \"8...   \n",
       "935  [[\"22\", \"80\", \"443\", \"other\"], {\"443\": 109, \"8...   \n",
       "936  [[\"22\", \"80\", \"443\", \"other\"], {\"443\": 109, \"8...   \n",
       "937  [[\"22\", \"80\", \"443\", \"other\"], {\"443\": 109, \"8...   \n",
       "938  [[\"22\", \"80\", \"443\", \"other\"], {\"443\": 109, \"8...   \n",
       "939  [[\"22\", \"80\", \"443\", \"other\"], {\"443\": 109, \"8...   \n",
       "940  [[\"22\", \"80\", \"443\", \"other\"], {\"443\": 109, \"8...   \n",
       "941  [[\"22\", \"80\", \"443\", \"other\"], {\"443\": 110, \"8...   \n",
       "942  [[\"22\", \"80\", \"443\", \"other\"], {\"443\": 110, \"8...   \n",
       "943  [[\"22\", \"80\", \"443\", \"other\"], {\"443\": 111, \"8...   \n",
       "\n",
       "                                                docker  prediction  \\\n",
       "0    /docker/6aebd9a7d81f55435baff1afbcc16b11362669...  -11.362980   \n",
       "1    /docker/6aebd9a7d81f55435baff1afbcc16b11362669...  -14.629130   \n",
       "2    /docker/6aebd9a7d81f55435baff1afbcc16b11362669...  -10.452350   \n",
       "3    /docker/6aebd9a7d81f55435baff1afbcc16b11362669...  -10.414340   \n",
       "4    /docker/6aebd9a7d81f55435baff1afbcc16b11362669...  -23.817379   \n",
       "5    /docker/6aebd9a7d81f55435baff1afbcc16b11362669...  -11.667371   \n",
       "6    /docker/6aebd9a7d81f55435baff1afbcc16b11362669...  -11.390430   \n",
       "7    /docker/6aebd9a7d81f55435baff1afbcc16b11362669...  -15.920145   \n",
       "8    /docker/6aebd9a7d81f55435baff1afbcc16b11362669...  -10.187297   \n",
       "9    /docker/6aebd9a7d81f55435baff1afbcc16b11362669...  -25.866711   \n",
       "10   /docker/6aebd9a7d81f55435baff1afbcc16b11362669...   -9.912790   \n",
       "11   /docker/6aebd9a7d81f55435baff1afbcc16b11362669...  -24.651440   \n",
       "12   /docker/6aebd9a7d81f55435baff1afbcc16b11362669...  -10.280550   \n",
       "13   /docker/6aebd9a7d81f55435baff1afbcc16b11362669...  -15.132555   \n",
       "14   /docker/6aebd9a7d81f55435baff1afbcc16b11362669...  -11.286842   \n",
       "15   /docker/6aebd9a7d81f55435baff1afbcc16b11362669...   -9.948819   \n",
       "16   /docker/6aebd9a7d81f55435baff1afbcc16b11362669...  -25.791057   \n",
       "17   /docker/6aebd9a7d81f55435baff1afbcc16b11362669...  -10.338328   \n",
       "18   /docker/6aebd9a7d81f55435baff1afbcc16b11362669...  -10.845777   \n",
       "19   /docker/6aebd9a7d81f55435baff1afbcc16b11362669...  -10.807916   \n",
       "20   /docker/6aebd9a7d81f55435baff1afbcc16b11362669...  -10.958851   \n",
       "21   /docker/6aebd9a7d81f55435baff1afbcc16b11362669...   -9.865539   \n",
       "22   /docker/6aebd9a7d81f55435baff1afbcc16b11362669...  -14.668362   \n",
       "23   /docker/6aebd9a7d81f55435baff1afbcc16b11362669...  -14.745495   \n",
       "24   /docker/6aebd9a7d81f55435baff1afbcc16b11362669...  -11.721627   \n",
       "25   /docker/6aebd9a7d81f55435baff1afbcc16b11362669...  -13.896243   \n",
       "26   /docker/6aebd9a7d81f55435baff1afbcc16b11362669...  -11.637608   \n",
       "27   /docker/6aebd9a7d81f55435baff1afbcc16b11362669...   -9.921733   \n",
       "28   /docker/6aebd9a7d81f55435baff1afbcc16b11362669...  -21.089223   \n",
       "29   /docker/6aebd9a7d81f55435baff1afbcc16b11362669...   -9.885750   \n",
       "..                                                 ...         ...   \n",
       "914  /docker/6aebd9a7d81f55435baff1afbcc16b11362669...  -11.846202   \n",
       "915  /docker/6aebd9a7d81f55435baff1afbcc16b11362669...  -10.468039   \n",
       "916  /docker/6aebd9a7d81f55435baff1afbcc16b11362669...  -15.222246   \n",
       "917  /docker/6aebd9a7d81f55435baff1afbcc16b11362669...  -10.394893   \n",
       "918  /docker/6aebd9a7d81f55435baff1afbcc16b11362669...   -9.984166   \n",
       "919  /docker/6aebd9a7d81f55435baff1afbcc16b11362669...  -10.322094   \n",
       "920  /docker/6aebd9a7d81f55435baff1afbcc16b11362669...  -10.275303   \n",
       "921  /docker/6aebd9a7d81f55435baff1afbcc16b11362669...  -10.422343   \n",
       "922  /docker/6aebd9a7d81f55435baff1afbcc16b11362669...  -10.279289   \n",
       "923  /docker/6aebd9a7d81f55435baff1afbcc16b11362669...  -10.432400   \n",
       "924  /docker/6aebd9a7d81f55435baff1afbcc16b11362669...  -10.255391   \n",
       "925  /docker/6aebd9a7d81f55435baff1afbcc16b11362669...  -10.404410   \n",
       "926  /docker/6aebd9a7d81f55435baff1afbcc16b11362669...  -10.246153   \n",
       "927  /docker/6aebd9a7d81f55435baff1afbcc16b11362669...  -14.597061   \n",
       "928  /docker/6aebd9a7d81f55435baff1afbcc16b11362669...  -10.050839   \n",
       "929  /docker/6aebd9a7d81f55435baff1afbcc16b11362669...  -11.376176   \n",
       "930  /docker/6aebd9a7d81f55435baff1afbcc16b11362669...  -10.301992   \n",
       "931  /docker/6aebd9a7d81f55435baff1afbcc16b11362669...  -16.586803   \n",
       "932  /docker/6aebd9a7d81f55435baff1afbcc16b11362669...  -11.485323   \n",
       "933  /docker/6aebd9a7d81f55435baff1afbcc16b11362669...  -11.469944   \n",
       "934  /docker/6aebd9a7d81f55435baff1afbcc16b11362669...  -10.065723   \n",
       "935  /docker/6aebd9a7d81f55435baff1afbcc16b11362669...  -15.145321   \n",
       "936  /docker/6aebd9a7d81f55435baff1afbcc16b11362669...  -14.669773   \n",
       "937  /docker/6aebd9a7d81f55435baff1afbcc16b11362669...  -13.693190   \n",
       "938  /docker/6aebd9a7d81f55435baff1afbcc16b11362669...  -10.385169   \n",
       "939  /docker/6aebd9a7d81f55435baff1afbcc16b11362669...  -11.310440   \n",
       "940  /docker/6aebd9a7d81f55435baff1afbcc16b11362669...   -9.891040   \n",
       "941  /docker/6aebd9a7d81f55435baff1afbcc16b11362669...  -17.929256   \n",
       "942  /docker/6aebd9a7d81f55435baff1afbcc16b11362669...   -9.953914   \n",
       "943  /docker/6aebd9a7d81f55435baff1afbcc16b11362669...  -15.199734   \n",
       "\n",
       "     predquality  dur_dist_from_mean  rolling_mean  rolling_median      MAD  \\\n",
       "0              1            0.349589           NaN             NaN      NaN   \n",
       "1              1            0.144178           NaN             NaN      NaN   \n",
       "2              1            0.374478           NaN             NaN      NaN   \n",
       "3              1            0.492475           NaN             NaN      NaN   \n",
       "4              0            0.507872        82.084           81.72 -12.8608   \n",
       "5              1            0.319777        84.942           81.72   4.5996   \n",
       "6              1            0.184839        81.044           81.72  18.3152   \n",
       "7              1            0.868836       200.236          107.94  95.4888   \n",
       "8              1            0.206372       267.232          172.62  18.5816   \n",
       "9              0            0.464791       271.362          172.62 -46.5864   \n",
       "10             1            0.031066       304.996          276.11  -5.7772   \n",
       "11             0            0.043604       326.896          282.12  -8.9552   \n",
       "12             1            0.144908       229.712          276.11  -7.5904   \n",
       "13             1            0.272569       236.058          276.11  31.1624   \n",
       "14             1            0.293678       252.462          276.11 -26.4024   \n",
       "15             1            0.303525       220.386          191.76 -20.9312   \n",
       "16             0            0.438317       174.186          120.45 -24.6132   \n",
       "17             1            0.213858       167.576          120.45  -1.7732   \n",
       "18             1            0.397823       103.308          115.73  -6.5556   \n",
       "19             1            0.376418        95.376           80.79  -2.9172   \n",
       "20             1            0.446119        81.706           70.53  -6.8652   \n",
       "21             1            0.028350       121.008           80.79  25.3244   \n",
       "22             1            0.465459        96.888           70.53 -11.7556   \n",
       "23             1            0.004133       135.422           80.79  25.5556   \n",
       "24             1            0.045082       167.186          239.61  14.4848   \n",
       "25             1            0.301543       181.046          239.61 -12.8732   \n",
       "26             1            0.453609       140.278          116.68 -19.2976   \n",
       "27             1            0.279471       158.108          127.26  -6.1696   \n",
       "28             0            0.449186       114.650          116.68 -13.7480   \n",
       "29             1            0.240333        95.932          116.68  10.0176   \n",
       "..           ...                 ...           ...             ...      ...   \n",
       "914            1            0.339387        60.454           46.66   7.6172   \n",
       "915            1            0.505556        43.996           35.68  -5.0212   \n",
       "916            1            0.408007       126.022           35.68  66.1536   \n",
       "917            1            0.495062       123.670           23.92 -19.9500   \n",
       "918            1            0.244860       148.398           98.54  -0.9096   \n",
       "919            1            0.464165       136.436           38.73 -19.5412   \n",
       "920            1            0.442760       142.456           48.99 -18.6932   \n",
       "921            1            0.505911        54.842           38.73  -7.2244   \n",
       "922            1            0.444554        59.684           48.13  -2.3108   \n",
       "923            1            0.509791        34.286           38.73  -3.4852   \n",
       "924            1            0.433059        37.268           48.13   3.2744   \n",
       "925            1            0.498630        31.912           22.21  -1.9404   \n",
       "926            1            0.428449        39.338           48.13   3.3024   \n",
       "927            1            0.173010        65.370           53.64  22.5840   \n",
       "928            1            0.170026        97.942           55.85  16.3556   \n",
       "929            1            0.175701       122.614          177.00  10.8772   \n",
       "930            1            0.476370       124.748          177.00 -18.3736   \n",
       "931            0            0.275340       139.426          177.00  -2.0372   \n",
       "932            1            0.502510       107.838          129.24 -17.4976   \n",
       "933            1            0.515612        74.708           32.88 -12.1276   \n",
       "934            1            0.126574       103.686           32.88  43.6408   \n",
       "935            1            0.446349       106.564           47.27 -11.8588   \n",
       "936            1            0.185298       115.196           47.27  11.4408   \n",
       "937            1            0.310284       133.624          112.49  -4.2268   \n",
       "938            1            0.524541       132.768          112.49 -24.5956   \n",
       "939            1            0.319213        90.032          108.21   3.6356   \n",
       "940            1            0.033920       129.570          112.49  23.0780   \n",
       "941            0            0.450980       104.100          108.21 -11.8100   \n",
       "942            1            0.042957       137.964          108.21  28.7692   \n",
       "943            1            0.459847       144.166          108.21 -20.6732   \n",
       "\n",
       "     mod_z_score  \n",
       "0            NaN  \n",
       "1            NaN  \n",
       "2            NaN  \n",
       "3            NaN  \n",
       "4       3.353410  \n",
       "5       3.844984  \n",
       "6       3.347605  \n",
       "7       4.024447  \n",
       "8       6.806854  \n",
       "9       1.942866  \n",
       "10     -0.000000  \n",
       "11     -0.000000  \n",
       "12      7.495531  \n",
       "13      2.505588  \n",
       "14      3.976634  \n",
       "15      2.450038  \n",
       "16      1.899919  \n",
       "17    -14.553559  \n",
       "18      4.650589  \n",
       "19     -0.000000  \n",
       "20      2.274468  \n",
       "21      4.443682  \n",
       "22      1.860159  \n",
       "23      4.814426  \n",
       "24      0.000000  \n",
       "25      6.441000  \n",
       "26      2.547690  \n",
       "27     -0.000000  \n",
       "28      3.472095  \n",
       "29      1.975506  \n",
       "..           ...  \n",
       "914     4.593953  \n",
       "915     2.255408  \n",
       "916     4.293624  \n",
       "917    -0.000000  \n",
       "918   -33.598939  \n",
       "919    -0.000000  \n",
       "920    -0.000000  \n",
       "921     1.868217  \n",
       "922    -0.000000  \n",
       "923     4.232559  \n",
       "924     1.135016  \n",
       "925    -0.000000  \n",
       "926     1.576774  \n",
       "927     3.722831  \n",
       "928     5.108361  \n",
       "929     0.000000  \n",
       "930     5.290686  \n",
       "931    15.812939  \n",
       "932     4.197507  \n",
       "933     1.046155  \n",
       "934     4.466858  \n",
       "935    -0.000000  \n",
       "936     7.377123  \n",
       "937    -0.000000  \n",
       "938     2.816404  \n",
       "939     0.000000  \n",
       "940     3.871697  \n",
       "941     3.607233  \n",
       "942     4.070089  \n",
       "943     2.199371  \n",
       "\n",
       "[944 rows x 18 columns]"
      ]
     },
     "execution_count": 64,
     "metadata": {},
     "output_type": "execute_result"
    }
   ],
   "source": [
    "# Z score > 3.5 can be potential outliers\n",
    "tcp_df\n",
    "#['mod_z_score']"
   ]
  },
  {
   "cell_type": "markdown",
   "metadata": {},
   "source": [
    "## Try Modified z score outlier detection without any moving windows\n",
    "reference: https://colingorrie.github.io/outlier-detection.html"
   ]
  },
  {
   "cell_type": "code",
   "execution_count": 65,
   "metadata": {
    "collapsed": true
   },
   "outputs": [],
   "source": [
    "tcp_df['median'] = tcp_df['dur'].median()"
   ]
  },
  {
   "cell_type": "code",
   "execution_count": 66,
   "metadata": {
    "collapsed": true
   },
   "outputs": [],
   "source": [
    "tcp_df['mean_abs_deviation'] = tcp_df['dur'].mad()"
   ]
  },
  {
   "cell_type": "code",
   "execution_count": 67,
   "metadata": {
    "collapsed": true
   },
   "outputs": [],
   "source": [
    "tcp_df['modified_z_scores'] = 0.6745 * (tcp_df['dur'] - tcp_df['median']) / tcp_df['mean_abs_deviation']"
   ]
  },
  {
   "cell_type": "code",
   "execution_count": 68,
   "metadata": {
    "collapsed": true
   },
   "outputs": [],
   "source": [
    "tcp_df['mad_anomalies'] = 0"
   ]
  },
  {
   "cell_type": "code",
   "execution_count": 69,
   "metadata": {
    "collapsed": true
   },
   "outputs": [],
   "source": [
    "threshold = 3.5"
   ]
  },
  {
   "cell_type": "code",
   "execution_count": 70,
   "metadata": {
    "collapsed": true
   },
   "outputs": [],
   "source": [
    "tcp_df['mad_anomalies'] = [1 if abs(x) > threshold else 0 for x in tcp_df['modified_z_scores']]"
   ]
  },
  {
   "cell_type": "code",
   "execution_count": 71,
   "metadata": {},
   "outputs": [
    {
     "data": {
      "text/plain": [
       "0    914\n",
       "1     30\n",
       "Name: mad_anomalies, dtype: int64"
      ]
     },
     "execution_count": 71,
     "metadata": {},
     "output_type": "execute_result"
    }
   ],
   "source": [
    "tcp_df['mad_anomalies'].value_counts()"
   ]
  },
  {
   "cell_type": "code",
   "execution_count": 72,
   "metadata": {
    "collapsed": true
   },
   "outputs": [],
   "source": [
    "ts_anomaly = tcp_df[tcp_df.mad_anomalies == 1]['ts']\n",
    "dur_anomaly = tcp_df[tcp_df.mad_anomalies == 1]['dur']"
   ]
  },
  {
   "cell_type": "code",
   "execution_count": 73,
   "metadata": {},
   "outputs": [
    {
     "data": {
      "text/plain": [
       "[<matplotlib.lines.Line2D at 0x115147518>]"
      ]
     },
     "execution_count": 73,
     "metadata": {},
     "output_type": "execute_result"
    },
    {
     "data": {
      "image/png": "[encoded data removed]",
      "text/plain": [
       "<matplotlib.figure.Figure at 0x115d2efd0>"
      ]
     },
     "metadata": {},
     "output_type": "display_data"
    }
   ],
   "source": [
    "plt.figure(figsize=(15, 8))\n",
    "plt.plot(tcp_df['ts'], tcp_df['dur'], \"k.\")\n",
    "plt.plot(tcp_df['ts'], tcp_df['median'], color='green')\n",
    "#plt.plot(tcp_df['ts'], tcp_df['dur'].mean(), color='blue')\n",
    "plt.plot(ts_anomaly, dur_anomaly, \"r*\", markersize=12)\n",
    "#plt.xlabel(text_xlabel)\n",
    "#plt.ylabel(text_ylabel)"
   ]
  },
  {
   "cell_type": "markdown",
   "metadata": {},
   "source": [
    "The above seems good, but it doesnt account for the seasonal fluctuations. More knowledge required about the data to interpret the above plot"
   ]
  },
  {
   "cell_type": "markdown",
   "metadata": {},
   "source": [
    "## Try Modified z score outlier detection with moving windows\n",
    "    for this we need to calculate moving median and moving MAD"
   ]
  },
  {
   "cell_type": "code",
   "execution_count": 74,
   "metadata": {
    "collapsed": true
   },
   "outputs": [],
   "source": [
    "threshold = 3.5\n",
    "win_size = 20"
   ]
  },
  {
   "cell_type": "code",
   "execution_count": 79,
   "metadata": {
    "collapsed": true
   },
   "outputs": [],
   "source": [
    "import numpy as np\n",
    "mad = lambda x: np.fabs(x - x.mean()).mean()"
   ]
  },
  {
   "cell_type": "code",
   "execution_count": 80,
   "metadata": {},
   "outputs": [],
   "source": [
    "tcp_df['rolling_median'] =tcp_df.rolling(window=win_size, on='ts').median()['dur']\n",
    "tcp_df['rolling_mad'] = tcp_df.rolling(window=win_size, on='ts').apply(mad)['dur']"
   ]
  },
  {
   "cell_type": "code",
   "execution_count": 81,
   "metadata": {
    "collapsed": true
   },
   "outputs": [],
   "source": [
    "tcp_df['rolling_modified_z_scores'] = 0.6745 * (tcp_df['dur'] - tcp_df['rolling_median']) / tcp_df['rolling_mad']"
   ]
  },
  {
   "cell_type": "code",
   "execution_count": 82,
   "metadata": {
    "collapsed": true
   },
   "outputs": [],
   "source": [
    "tcp_df['rolling_mad_anomalies'] = [1 if abs(x) > threshold else 0 for x in tcp_df['rolling_modified_z_scores']]\n",
    "ts_r_anomaly = tcp_df[tcp_df.rolling_mad_anomalies == 1]['ts']\n",
    "dur_r_anomaly = tcp_df[tcp_df.rolling_mad_anomalies == 1]['dur']"
   ]
  },
  {
   "cell_type": "code",
   "execution_count": 83,
   "metadata": {},
   "outputs": [
    {
     "data": {
      "text/plain": [
       "50     3.862333\n",
       "60     3.252783\n",
       "70     2.048950\n",
       "79     2.611803\n",
       "93     2.583495\n",
       "116    3.094136\n",
       "123    2.158160\n",
       "125    4.291526\n",
       "127    5.675144\n",
       "128    2.153456\n",
       "151    2.674948\n",
       "159    2.122993\n",
       "161    6.019912\n",
       "198    6.229949\n",
       "219    2.614256\n",
       "231    5.208104\n",
       "236    4.018943\n",
       "278    2.464297\n",
       "289    5.151582\n",
       "305    5.003624\n",
       "325    2.281114\n",
       "337    2.194188\n",
       "338    2.727585\n",
       "343    3.154943\n",
       "374    5.561348\n",
       "402    6.794687\n",
       "427    2.373618\n",
       "429    2.224947\n",
       "441    3.901336\n",
       "463    2.806157\n",
       "         ...   \n",
       "520    2.048689\n",
       "523    2.794322\n",
       "524    2.271010\n",
       "583    4.092470\n",
       "584    2.171354\n",
       "595    2.019021\n",
       "615    4.267713\n",
       "618    4.407936\n",
       "640    2.726888\n",
       "641    5.523057\n",
       "643    4.289532\n",
       "650    2.948159\n",
       "672    5.969030\n",
       "702    2.461887\n",
       "709    2.520861\n",
       "723    2.050182\n",
       "737    5.754508\n",
       "760    5.017631\n",
       "767    2.469044\n",
       "773    4.980268\n",
       "780    3.298154\n",
       "781    2.714494\n",
       "809    2.046831\n",
       "814    2.088434\n",
       "836    2.376250\n",
       "854    3.956906\n",
       "874    7.109884\n",
       "904    3.237841\n",
       "916    2.371614\n",
       "934    2.079011\n",
       "Name: rolling_modified_z_scores, dtype: float64"
      ]
     },
     "execution_count": 83,
     "metadata": {},
     "output_type": "execute_result"
    }
   ],
   "source": [
    "tcp_df[tcp_df.rolling_modified_z_scores > 2]['rolling_modified_z_scores']"
   ]
  },
  {
   "cell_type": "code",
   "execution_count": 84,
   "metadata": {},
   "outputs": [
    {
     "data": {
      "text/plain": [
       "[<matplotlib.lines.Line2D at 0x11522a0b8>]"
      ]
     },
     "execution_count": 84,
     "metadata": {},
     "output_type": "execute_result"
    },
    {
     "data": {
      "image/png": "[encoded data removed]",
      "text/plain": [
       "<matplotlib.figure.Figure at 0x1155f0940>"
      ]
     },
     "metadata": {},
     "output_type": "display_data"
    }
   ],
   "source": [
    "plt.figure(figsize=(15, 8))\n",
    "plt.plot(tcp_df['ts'], tcp_df['dur'], \"k.\")\n",
    "plt.plot(tcp_df['ts'], tcp_df['rolling_median'], color='green')\n",
    "#plt.plot(tcp_df['ts'], tcp_df['dur'].mean(), color='blue')\n",
    "plt.plot(ts_r_anomaly, dur_r_anomaly, \"r*\", markersize=12)"
   ]
  },
  {
   "cell_type": "markdown",
   "metadata": {},
   "source": [
    "We can see as we increase the window size the results begin to resemble the diagram which did not use moving MAD."
   ]
  },
  {
   "cell_type": "markdown",
   "metadata": {
    "collapsed": true
   },
   "source": [
    "## Time Series Prediction"
   ]
  },
  {
   "cell_type": "markdown",
   "metadata": {},
   "source": [
    "### Checks for the time series to be stationary:\n",
    "    1. Look at plots\n",
    "    2. summary statistics\n",
    "    3. Statistical test\n",
    " \n",
    "reference: http://machinelearningmastery.com/time-series-data-stationary-python/"
   ]
  },
  {
   "cell_type": "code",
   "execution_count": 85,
   "metadata": {},
   "outputs": [
    {
     "data": {
      "text/plain": [
       "[<matplotlib.lines.Line2D at 0x11554af60>]"
      ]
     },
     "execution_count": 85,
     "metadata": {},
     "output_type": "execute_result"
    },
    {
     "data": {
      "image/png": "[encoded data removed]",
      "text/plain": [
       "<matplotlib.figure.Figure at 0x1155f03c8>"
      ]
     },
     "metadata": {},
     "output_type": "display_data"
    }
   ],
   "source": [
    "# plots\n",
    "# plot dur vs ts\n",
    "plt.figure(figsize=(15, 8))\n",
    "plt.plot(tcp_df['ts'], tcp_df['dur'])"
   ]
  },
  {
   "cell_type": "markdown",
   "metadata": {},
   "source": [
    "Looks stationary with some outliers"
   ]
  },
  {
   "cell_type": "markdown",
   "metadata": {},
   "source": [
    "## Summary statistics:\n",
    "    We can split up the dataset and check if their mean and variance differ a lot."
   ]
  },
  {
   "cell_type": "code",
   "execution_count": 86,
   "metadata": {},
   "outputs": [
    {
     "data": {
      "text/plain": [
       "<matplotlib.figure.Figure at 0x11555edd8>"
      ]
     },
     "metadata": {},
     "output_type": "display_data"
    },
    {
     "data": {
      "image/png": "[encoded data removed]",
      "text/plain": [
       "<matplotlib.figure.Figure at 0x115d76cc0>"
      ]
     },
     "metadata": {},
     "output_type": "display_data"
    },
    {
     "data": {
      "image/png": "[encoded data removed]",
      "text/plain": [
       "<matplotlib.figure.Figure at 0x115d76fd0>"
      ]
     },
     "metadata": {},
     "output_type": "display_data"
    }
   ],
   "source": [
    "# summary statistics\n",
    "display_plot_hist(input_df=tcp_df, x='ts', y='dur')"
   ]
  },
  {
   "cell_type": "code",
   "execution_count": 91,
   "metadata": {},
   "outputs": [
    {
     "data": {
      "text/plain": [
       "(944, 25)"
      ]
     },
     "execution_count": 91,
     "metadata": {},
     "output_type": "execute_result"
    }
   ],
   "source": [
    "tcp_df.shape"
   ]
  },
  {
   "cell_type": "code",
   "execution_count": 92,
   "metadata": {},
   "outputs": [
    {
     "data": {
      "text/plain": [
       "472.0"
      ]
     },
     "execution_count": 92,
     "metadata": {},
     "output_type": "execute_result"
    }
   ],
   "source": [
    "944/2"
   ]
  },
  {
   "cell_type": "code",
   "execution_count": 98,
   "metadata": {
    "collapsed": true
   },
   "outputs": [],
   "source": [
    "df1 = tcp_df.iloc[:472, :]\n",
    "df2 = tcp_df.iloc[472:, :]"
   ]
  },
  {
   "cell_type": "code",
   "execution_count": 102,
   "metadata": {},
   "outputs": [
    {
     "data": {
      "text/html": [
       "<div>\n",
       "<table border=\"1\" class=\"dataframe\">\n",
       "  <thead>\n",
       "    <tr style=\"text-align: right;\">\n",
       "      <th></th>\n",
       "      <th>ts</th>\n",
       "      <th>pid</th>\n",
       "      <th>lport</th>\n",
       "      <th>rport</th>\n",
       "      <th>rx</th>\n",
       "      <th>tx</th>\n",
       "      <th>dur</th>\n",
       "      <th>histotimes</th>\n",
       "      <th>histosizes</th>\n",
       "      <th>histoports</th>\n",
       "      <th>...</th>\n",
       "      <th>rolling_median</th>\n",
       "      <th>MAD</th>\n",
       "      <th>mod_z_score</th>\n",
       "      <th>median</th>\n",
       "      <th>mean_abs_deviation</th>\n",
       "      <th>modified_z_scores</th>\n",
       "      <th>mad_anomalies</th>\n",
       "      <th>rolling_mad</th>\n",
       "      <th>rolling_modified_z_scores</th>\n",
       "      <th>rolling_mad_anomalies</th>\n",
       "    </tr>\n",
       "  </thead>\n",
       "  <tbody>\n",
       "    <tr>\n",
       "      <th>472</th>\n",
       "      <td>307.766799</td>\n",
       "      <td>29936</td>\n",
       "      <td>47996</td>\n",
       "      <td>80</td>\n",
       "      <td>159</td>\n",
       "      <td>0</td>\n",
       "      <td>536.13</td>\n",
       "      <td>[[436, 22, 6, 2, 7], 5.04, 3006.16]</td>\n",
       "      <td>[[277, 173, 19, 3, 1], 0, 427]</td>\n",
       "      <td>[[\"22\", \"80\", \"443\", \"other\"], {\"443\": 54, \"80...</td>\n",
       "      <td>...</td>\n",
       "      <td>169.025</td>\n",
       "      <td>63.8636</td>\n",
       "      <td>3.794984</td>\n",
       "      <td>144.65</td>\n",
       "      <td>222.753156</td>\n",
       "      <td>1.185407</td>\n",
       "      <td>0</td>\n",
       "      <td>173.19700</td>\n",
       "      <td>1.429657</td>\n",
       "      <td>0</td>\n",
       "    </tr>\n",
       "    <tr>\n",
       "      <th>473</th>\n",
       "      <td>308.727679</td>\n",
       "      <td>29940</td>\n",
       "      <td>58352</td>\n",
       "      <td>80</td>\n",
       "      <td>0</td>\n",
       "      <td>0</td>\n",
       "      <td>94.00</td>\n",
       "      <td>[[437, 22, 6, 2, 7], 5.04, 3006.16]</td>\n",
       "      <td>[[278, 173, 19, 3, 1], 0, 427]</td>\n",
       "      <td>[[\"22\", \"80\", \"443\", \"other\"], {\"443\": 54, \"80...</td>\n",
       "      <td>...</td>\n",
       "      <td>160.280</td>\n",
       "      <td>-24.1020</td>\n",
       "      <td>2.317457</td>\n",
       "      <td>144.65</td>\n",
       "      <td>222.753156</td>\n",
       "      <td>-0.153369</td>\n",
       "      <td>0</td>\n",
       "      <td>176.73625</td>\n",
       "      <td>-0.252952</td>\n",
       "      <td>0</td>\n",
       "    </tr>\n",
       "    <tr>\n",
       "      <th>474</th>\n",
       "      <td>309.778312</td>\n",
       "      <td>29940</td>\n",
       "      <td>40316</td>\n",
       "      <td>80</td>\n",
       "      <td>0</td>\n",
       "      <td>0</td>\n",
       "      <td>116.13</td>\n",
       "      <td>[[438, 22, 6, 2, 7], 5.04, 3006.16]</td>\n",
       "      <td>[[279, 173, 19, 3, 1], 0, 427]</td>\n",
       "      <td>[[\"22\", \"80\", \"443\", \"other\"], {\"443\": 54, \"80...</td>\n",
       "      <td>...</td>\n",
       "      <td>160.280</td>\n",
       "      <td>-15.3132</td>\n",
       "      <td>-0.000000</td>\n",
       "      <td>144.65</td>\n",
       "      <td>222.753156</td>\n",
       "      <td>-0.086359</td>\n",
       "      <td>0</td>\n",
       "      <td>174.86025</td>\n",
       "      <td>-0.170303</td>\n",
       "      <td>0</td>\n",
       "    </tr>\n",
       "    <tr>\n",
       "      <th>475</th>\n",
       "      <td>310.928347</td>\n",
       "      <td>29940</td>\n",
       "      <td>40318</td>\n",
       "      <td>80</td>\n",
       "      <td>0</td>\n",
       "      <td>0</td>\n",
       "      <td>98.28</td>\n",
       "      <td>[[439, 22, 6, 2, 7], 5.04, 3006.16]</td>\n",
       "      <td>[[280, 173, 19, 3, 1], 0, 427]</td>\n",
       "      <td>[[\"22\", \"80\", \"443\", \"other\"], {\"443\": 54, \"80...</td>\n",
       "      <td>...</td>\n",
       "      <td>140.285</td>\n",
       "      <td>-21.1980</td>\n",
       "      <td>0.567970</td>\n",
       "      <td>144.65</td>\n",
       "      <td>222.753156</td>\n",
       "      <td>-0.140409</td>\n",
       "      <td>0</td>\n",
       "      <td>176.43425</td>\n",
       "      <td>-0.160583</td>\n",
       "      <td>0</td>\n",
       "    </tr>\n",
       "    <tr>\n",
       "      <th>476</th>\n",
       "      <td>312.278612</td>\n",
       "      <td>29940</td>\n",
       "      <td>44434</td>\n",
       "      <td>443</td>\n",
       "      <td>199</td>\n",
       "      <td>0</td>\n",
       "      <td>859.04</td>\n",
       "      <td>[[439, 23, 6, 2, 7], 5.04, 3006.16]</td>\n",
       "      <td>[[280, 173, 20, 3, 1], 0, 427]</td>\n",
       "      <td>[[\"22\", \"80\", \"443\", \"other\"], {\"443\": 55, \"80...</td>\n",
       "      <td>...</td>\n",
       "      <td>168.065</td>\n",
       "      <td>103.6648</td>\n",
       "      <td>4.833780</td>\n",
       "      <td>144.65</td>\n",
       "      <td>222.753156</td>\n",
       "      <td>2.163184</td>\n",
       "      <td>0</td>\n",
       "      <td>215.77570</td>\n",
       "      <td>2.159940</td>\n",
       "      <td>0</td>\n",
       "    </tr>\n",
       "  </tbody>\n",
       "</table>\n",
       "<p>5 rows × 25 columns</p>\n",
       "</div>"
      ],
      "text/plain": [
       "             ts    pid  lport  rport   rx  tx     dur  \\\n",
       "472  307.766799  29936  47996     80  159   0  536.13   \n",
       "473  308.727679  29940  58352     80    0   0   94.00   \n",
       "474  309.778312  29940  40316     80    0   0  116.13   \n",
       "475  310.928347  29940  40318     80    0   0   98.28   \n",
       "476  312.278612  29940  44434    443  199   0  859.04   \n",
       "\n",
       "                              histotimes                      histosizes  \\\n",
       "472  [[436, 22, 6, 2, 7], 5.04, 3006.16]  [[277, 173, 19, 3, 1], 0, 427]   \n",
       "473  [[437, 22, 6, 2, 7], 5.04, 3006.16]  [[278, 173, 19, 3, 1], 0, 427]   \n",
       "474  [[438, 22, 6, 2, 7], 5.04, 3006.16]  [[279, 173, 19, 3, 1], 0, 427]   \n",
       "475  [[439, 22, 6, 2, 7], 5.04, 3006.16]  [[280, 173, 19, 3, 1], 0, 427]   \n",
       "476  [[439, 23, 6, 2, 7], 5.04, 3006.16]  [[280, 173, 20, 3, 1], 0, 427]   \n",
       "\n",
       "                                            histoports          ...            \\\n",
       "472  [[\"22\", \"80\", \"443\", \"other\"], {\"443\": 54, \"80...          ...             \n",
       "473  [[\"22\", \"80\", \"443\", \"other\"], {\"443\": 54, \"80...          ...             \n",
       "474  [[\"22\", \"80\", \"443\", \"other\"], {\"443\": 54, \"80...          ...             \n",
       "475  [[\"22\", \"80\", \"443\", \"other\"], {\"443\": 54, \"80...          ...             \n",
       "476  [[\"22\", \"80\", \"443\", \"other\"], {\"443\": 55, \"80...          ...             \n",
       "\n",
       "    rolling_median       MAD  mod_z_score  median  mean_abs_deviation  \\\n",
       "472        169.025   63.8636     3.794984  144.65          222.753156   \n",
       "473        160.280  -24.1020     2.317457  144.65          222.753156   \n",
       "474        160.280  -15.3132    -0.000000  144.65          222.753156   \n",
       "475        140.285  -21.1980     0.567970  144.65          222.753156   \n",
       "476        168.065  103.6648     4.833780  144.65          222.753156   \n",
       "\n",
       "     modified_z_scores  mad_anomalies  rolling_mad  rolling_modified_z_scores  \\\n",
       "472           1.185407              0    173.19700                   1.429657   \n",
       "473          -0.153369              0    176.73625                  -0.252952   \n",
       "474          -0.086359              0    174.86025                  -0.170303   \n",
       "475          -0.140409              0    176.43425                  -0.160583   \n",
       "476           2.163184              0    215.77570                   2.159940   \n",
       "\n",
       "     rolling_mad_anomalies  \n",
       "472                      0  \n",
       "473                      0  \n",
       "474                      0  \n",
       "475                      0  \n",
       "476                      0  \n",
       "\n",
       "[5 rows x 25 columns]"
      ]
     },
     "execution_count": 102,
     "metadata": {},
     "output_type": "execute_result"
    }
   ],
   "source": [
    "df2.head()"
   ]
  },
  {
   "cell_type": "code",
   "execution_count": 100,
   "metadata": {},
   "outputs": [
    {
     "name": "stdout",
     "output_type": "stream",
     "text": [
      "---------------------DESCRIPTIVE STATICS---------------------\n",
      "count: 472.0\n",
      "min: 5.04\n",
      "max: 3006.16\n",
      "mean: 263.370995763\n",
      "geometricmean: 148.671959358\n",
      "harmonicmean: 80.5404857736\n",
      "trimmedmean: 174.201746032\n",
      "median: 151.745\n",
      "mode: 5.04\n",
      "std: 424.764741932\n",
      "variance: 180425.08598817835\n",
      "25%: 93.755\n",
      "50%: 151.745\n",
      "75%: 239.67\n",
      "-------------------------------------------------------------\n"
     ]
    }
   ],
   "source": [
    "desc_stat = get_descriptive_stats(df1, 'dur')"
   ]
  },
  {
   "cell_type": "code",
   "execution_count": 101,
   "metadata": {},
   "outputs": [
    {
     "name": "stdout",
     "output_type": "stream",
     "text": [
      "---------------------DESCRIPTIVE STATICS---------------------\n",
      "count: 472.0\n",
      "min: 5.79\n",
      "max: 6454.02\n",
      "mean: 259.067245763\n",
      "geometricmean: 134.675900586\n",
      "harmonicmean: 78.4477016768\n",
      "trimmedmean: 151.296587302\n",
      "median: 135.79000000000002\n",
      "mode: 50.92\n",
      "std: 528.745255991\n",
      "variance: 279571.5457325256\n",
      "25%: 78.7075\n",
      "50%: 135.79\n",
      "75%: 212.7275\n",
      "-------------------------------------------------------------\n"
     ]
    }
   ],
   "source": [
    "desc_stat = get_descriptive_stats(df2, 'dur')"
   ]
  },
  {
   "cell_type": "markdown",
   "metadata": {},
   "source": [
    "The statistics for these 2 datasets look the same.\n",
    "Their histograms looks the same as well"
   ]
  },
  {
   "cell_type": "code",
   "execution_count": 103,
   "metadata": {},
   "outputs": [
    {
     "data": {
      "text/plain": [
       "<matplotlib.figure.Figure at 0x114daaac8>"
      ]
     },
     "metadata": {},
     "output_type": "display_data"
    },
    {
     "data": {
      "image/png": "[encoded data removed]",
      "text/plain": [
       "<matplotlib.figure.Figure at 0x113d93b70>"
      ]
     },
     "metadata": {},
     "output_type": "display_data"
    },
    {
     "data": {
      "image/png": "[encoded data removed]",
      "text/plain": [
       "<matplotlib.figure.Figure at 0x114b2aa90>"
      ]
     },
     "metadata": {},
     "output_type": "display_data"
    }
   ],
   "source": [
    "display_plot_hist(input_df=df1, x='ts', y='dur')"
   ]
  },
  {
   "cell_type": "code",
   "execution_count": 104,
   "metadata": {},
   "outputs": [
    {
     "data": {
      "text/plain": [
       "<matplotlib.figure.Figure at 0x113d13f28>"
      ]
     },
     "metadata": {},
     "output_type": "display_data"
    },
    {
     "data": {
      "image/png": "[encoded data removed]",
      "text/plain": [
       "<matplotlib.figure.Figure at 0x11376bb70>"
      ]
     },
     "metadata": {},
     "output_type": "display_data"
    },
    {
     "data": {
      "image/png": "[encoded data removed]",
      "text/plain": [
       "<matplotlib.figure.Figure at 0x1103d53c8>"
      ]
     },
     "metadata": {},
     "output_type": "display_data"
    }
   ],
   "source": [
    "display_plot_hist(input_df=df2, x='ts', y='dur')"
   ]
  },
  {
   "cell_type": "markdown",
   "metadata": {},
   "source": [
    "## Dickey fuller test\n",
    "    the dickey fuller test is a type of unit root test. This helps to determine if a time series data is defined by a trend.\n",
    "    It is a kind of hypothesis test\n",
    "        1. H0 null hypothesis: the time series is non stationary\n",
    "        2. Ha alternate hypothesis: the time series is stationary\n",
    "       We use p value with an alpha of 0.05"
   ]
  },
  {
   "cell_type": "code",
   "execution_count": 108,
   "metadata": {},
   "outputs": [
    {
     "name": "stdout",
     "output_type": "stream",
     "text": [
      "ADF Statistic: -9.252495\n",
      "p-value: 0.000000\n",
      "Critical Values:\n",
      "\t5%: -2.865\n",
      "\t10%: -2.568\n",
      "\t1%: -3.437\n"
     ]
    }
   ],
   "source": [
    "from pandas import Series\n",
    "from statsmodels.tsa.stattools import adfuller\n",
    "result = adfuller(tcp_df['dur'])\n",
    "print('ADF Statistic: %f' % result[0])\n",
    "print('p-value: %f' % result[1])\n",
    "print('Critical Values:')\n",
    "for key, value in result[4].items():\n",
    "    print('\\t%s: %.3f' % (key, value))"
   ]
  },
  {
   "cell_type": "code",
   "execution_count": 111,
   "metadata": {},
   "outputs": [
    {
     "name": "stdout",
     "output_type": "stream",
     "text": [
      "ADF Statistic: 0.069269\n",
      "p-value: 0.100000\n",
      "Critical Values:\n",
      "\t5%: 0.463\n",
      "\t10%: 0.347\n",
      "\t2.5%: 0.574\n",
      "\t1%: 0.739\n"
     ]
    },
    {
     "name": "stderr",
     "output_type": "stream",
     "text": [
      "/Users/Kevin/anaconda/lib/python3.5/site-packages/statsmodels/tsa/stattools.py:1260: InterpolationWarning: p-value is greater than the indicated p-value\n",
      "  warn(\"p-value is greater than the indicated p-value\", InterpolationWarning)\n"
     ]
    }
   ],
   "source": [
    "from pandas import Series\n",
    "from statsmodels.tsa.stattools import kpss\n",
    "result = kpss(tcp_df['dur'])\n",
    "print('ADF Statistic: %f' % result[0])\n",
    "print('p-value: %f' % result[1])\n",
    "print('Critical Values:')\n",
    "for key, value in result[3].items():\n",
    "    print('\\t%s: %.3f' % (key, value))"
   ]
  },
  {
   "cell_type": "markdown",
   "metadata": {},
   "source": [
    "# Time series prediction:\n",
    "\n",
    "The steps of this project that we will through are as follows.\n",
    "\n",
    "    Environment.\n",
    "    Problem Description.\n",
    "    Test Harness.\n",
    "    Persistence.\n",
    "    Data Analysis.\n",
    "    ARIMA Models.\n",
    "    Model Validation.\n",
    "    \n",
    "ref: http://machinelearningmastery.com/time-series-forecast-study-python-monthly-sales-french-champagne/\n",
    "\n",
    "Environment and problem description have been defined already"
   ]
  },
  {
   "cell_type": "code",
   "execution_count": null,
   "metadata": {
    "collapsed": true
   },
   "outputs": [],
   "source": []
  }
 ],
 "metadata": {
  "anaconda-cloud": {},
  "kernelspec": {
   "display_name": "Python [conda root]",
   "language": "python",
   "name": "conda-root-py"
  },
  "language_info": {
   "codemirror_mode": {
    "name": "ipython",
    "version": 3
   },
   "file_extension": ".py",
   "mimetype": "text/x-python",
   "name": "python",
   "nbconvert_exporter": "python",
   "pygments_lexer": "ipython3",
   "version": "3.5.3"
  }
 },
 "nbformat": 4,
 "nbformat_minor": 2
}
