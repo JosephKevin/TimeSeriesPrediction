{
 "cells": [
  {
   "cell_type": "markdown",
   "metadata": {},
   "source": [
    "## Load in the data\n",
    "    Since the data is a .db, which is a sqlite database. We will convert the tables to pandas dataframe as required. Since the table sizes arent too big we can use pandas dataframes."
   ]
  },
  {
   "cell_type": "code",
   "execution_count": 4,
   "metadata": {
    "collapsed": true
   },
   "outputs": [],
   "source": [
    "import sqlite3\n",
    "import pandas as pd"
   ]
  },
  {
   "cell_type": "code",
   "execution_count": 8,
   "metadata": {},
   "outputs": [],
   "source": [
    "# Read sqlite query results into a pandas DataFrame\n",
    "sql_conn = sqlite3.connect(\"sqlite.db\")\n",
    "exec_df = pd.read_sql_query(\"SELECT * from exec\", sql_conn)\n",
    "sql_conn.close()"
   ]
  },
  {
   "cell_type": "code",
   "execution_count": 9,
   "metadata": {},
   "outputs": [
    {
     "data": {
      "text/html": [
       "<div>\n",
       "<table border=\"1\" class=\"dataframe\">\n",
       "  <thead>\n",
       "    <tr style=\"text-align: right;\">\n",
       "      <th></th>\n",
       "      <th>ts</th>\n",
       "      <th>exe</th>\n",
       "      <th>pid</th>\n",
       "      <th>ppid</th>\n",
       "      <th>path</th>\n",
       "      <th>docker</th>\n",
       "      <th>depth</th>\n",
       "      <th>rates</th>\n",
       "    </tr>\n",
       "  </thead>\n",
       "  <tbody>\n",
       "    <tr>\n",
       "      <th>0</th>\n",
       "      <td>0.690</td>\n",
       "      <td>sh</td>\n",
       "      <td>28531</td>\n",
       "      <td>1158</td>\n",
       "      <td>/bin/sh</td>\n",
       "      <td>None</td>\n",
       "      <td>-1</td>\n",
       "      <td>{\"1\": 1.0, \"5\": 0.2}</td>\n",
       "    </tr>\n",
       "    <tr>\n",
       "      <th>1</th>\n",
       "      <td>0.696</td>\n",
       "      <td>lpstat</td>\n",
       "      <td>28532</td>\n",
       "      <td>28531</td>\n",
       "      <td>/usr/bin/lpstat</td>\n",
       "      <td>None</td>\n",
       "      <td>-1</td>\n",
       "      <td>{\"1\": 2.0, \"5\": 0.4}</td>\n",
       "    </tr>\n",
       "    <tr>\n",
       "      <th>2</th>\n",
       "      <td>0.701</td>\n",
       "      <td>sed</td>\n",
       "      <td>28533</td>\n",
       "      <td>28531</td>\n",
       "      <td>/bin/sed</td>\n",
       "      <td>None</td>\n",
       "      <td>-1</td>\n",
       "      <td>{\"1\": 3.0, \"5\": 0.6}</td>\n",
       "    </tr>\n",
       "    <tr>\n",
       "      <th>3</th>\n",
       "      <td>1.704</td>\n",
       "      <td>sh</td>\n",
       "      <td>28534</td>\n",
       "      <td>1158</td>\n",
       "      <td>/bin/sh</td>\n",
       "      <td>None</td>\n",
       "      <td>-1</td>\n",
       "      <td>{\"1\": 1.0, \"5\": 0.8}</td>\n",
       "    </tr>\n",
       "    <tr>\n",
       "      <th>4</th>\n",
       "      <td>1.711</td>\n",
       "      <td>sed</td>\n",
       "      <td>28536</td>\n",
       "      <td>28534</td>\n",
       "      <td>sed</td>\n",
       "      <td>None</td>\n",
       "      <td>-1</td>\n",
       "      <td>{\"1\": 2.0, \"5\": 1.0}</td>\n",
       "    </tr>\n",
       "  </tbody>\n",
       "</table>\n",
       "</div>"
      ],
      "text/plain": [
       "      ts     exe    pid   ppid             path docker  depth  \\\n",
       "0  0.690      sh  28531   1158          /bin/sh   None     -1   \n",
       "1  0.696  lpstat  28532  28531  /usr/bin/lpstat   None     -1   \n",
       "2  0.701     sed  28533  28531         /bin/sed   None     -1   \n",
       "3  1.704      sh  28534   1158          /bin/sh   None     -1   \n",
       "4  1.711     sed  28536  28534              sed   None     -1   \n",
       "\n",
       "                  rates  \n",
       "0  {\"1\": 1.0, \"5\": 0.2}  \n",
       "1  {\"1\": 2.0, \"5\": 0.4}  \n",
       "2  {\"1\": 3.0, \"5\": 0.6}  \n",
       "3  {\"1\": 1.0, \"5\": 0.8}  \n",
       "4  {\"1\": 2.0, \"5\": 1.0}  "
      ]
     },
     "execution_count": 9,
     "metadata": {},
     "output_type": "execute_result"
    }
   ],
   "source": [
    "exec_df.head()"
   ]
  },
  {
   "cell_type": "code",
   "execution_count": 15,
   "metadata": {},
   "outputs": [
    {
     "data": {
      "text/html": [
       "<div>\n",
       "<table border=\"1\" class=\"dataframe\">\n",
       "  <thead>\n",
       "    <tr style=\"text-align: right;\">\n",
       "      <th></th>\n",
       "      <th>ts</th>\n",
       "      <th>exe</th>\n",
       "      <th>pid</th>\n",
       "      <th>ppid</th>\n",
       "      <th>path</th>\n",
       "      <th>docker</th>\n",
       "      <th>depth</th>\n",
       "      <th>rates</th>\n",
       "    </tr>\n",
       "  </thead>\n",
       "  <tbody>\n",
       "    <tr>\n",
       "      <th>82</th>\n",
       "      <td>22.574</td>\n",
       "      <td>crawl.sh</td>\n",
       "      <td>28647</td>\n",
       "      <td>28628</td>\n",
       "      <td>/webcrawl/crawl.sh</td>\n",
       "      <td>/docker/6aebd9a7d81f55435baff1afbcc16b11362669...</td>\n",
       "      <td>5</td>\n",
       "      <td>{\"1\": 1.0, \"5\": 0.2}</td>\n",
       "    </tr>\n",
       "    <tr>\n",
       "      <th>83</th>\n",
       "      <td>22.604</td>\n",
       "      <td>python</td>\n",
       "      <td>28668</td>\n",
       "      <td>28647</td>\n",
       "      <td>python</td>\n",
       "      <td>/docker/6aebd9a7d81f55435baff1afbcc16b11362669...</td>\n",
       "      <td>5</td>\n",
       "      <td>{\"1\": 2.0, \"5\": 0.4}</td>\n",
       "    </tr>\n",
       "    <tr>\n",
       "      <th>84</th>\n",
       "      <td>22.936</td>\n",
       "      <td>python</td>\n",
       "      <td>28669</td>\n",
       "      <td>28647</td>\n",
       "      <td>/usr/bin/python</td>\n",
       "      <td>/docker/6aebd9a7d81f55435baff1afbcc16b11362669...</td>\n",
       "      <td>5</td>\n",
       "      <td>{\"1\": 3.0, \"5\": 0.6}</td>\n",
       "    </tr>\n",
       "    <tr>\n",
       "      <th>88</th>\n",
       "      <td>23.374</td>\n",
       "      <td>python</td>\n",
       "      <td>28673</td>\n",
       "      <td>28647</td>\n",
       "      <td>/usr/bin/python</td>\n",
       "      <td>/docker/6aebd9a7d81f55435baff1afbcc16b11362669...</td>\n",
       "      <td>5</td>\n",
       "      <td>{\"1\": 4.0, \"5\": 0.8}</td>\n",
       "    </tr>\n",
       "    <tr>\n",
       "      <th>92</th>\n",
       "      <td>24.167</td>\n",
       "      <td>python</td>\n",
       "      <td>28679</td>\n",
       "      <td>28647</td>\n",
       "      <td>/usr/bin/python</td>\n",
       "      <td>/docker/6aebd9a7d81f55435baff1afbcc16b11362669...</td>\n",
       "      <td>5</td>\n",
       "      <td>{\"1\": 2.0, \"5\": 1.0}</td>\n",
       "    </tr>\n",
       "  </tbody>\n",
       "</table>\n",
       "</div>"
      ],
      "text/plain": [
       "        ts       exe    pid   ppid                path  \\\n",
       "82  22.574  crawl.sh  28647  28628  /webcrawl/crawl.sh   \n",
       "83  22.604    python  28668  28647              python   \n",
       "84  22.936    python  28669  28647     /usr/bin/python   \n",
       "88  23.374    python  28673  28647     /usr/bin/python   \n",
       "92  24.167    python  28679  28647     /usr/bin/python   \n",
       "\n",
       "                                               docker  depth  \\\n",
       "82  /docker/6aebd9a7d81f55435baff1afbcc16b11362669...      5   \n",
       "83  /docker/6aebd9a7d81f55435baff1afbcc16b11362669...      5   \n",
       "84  /docker/6aebd9a7d81f55435baff1afbcc16b11362669...      5   \n",
       "88  /docker/6aebd9a7d81f55435baff1afbcc16b11362669...      5   \n",
       "92  /docker/6aebd9a7d81f55435baff1afbcc16b11362669...      5   \n",
       "\n",
       "                   rates  \n",
       "82  {\"1\": 1.0, \"5\": 0.2}  \n",
       "83  {\"1\": 2.0, \"5\": 0.4}  \n",
       "84  {\"1\": 3.0, \"5\": 0.6}  \n",
       "88  {\"1\": 4.0, \"5\": 0.8}  \n",
       "92  {\"1\": 2.0, \"5\": 1.0}  "
      ]
     },
     "execution_count": 15,
     "metadata": {},
     "output_type": "execute_result"
    }
   ],
   "source": [
    "exec_df[exec_df.docker.notnull()].head()"
   ]
  },
  {
   "cell_type": "markdown",
   "metadata": {},
   "source": [
    "We need to split the json in rate column into two seperate columns, 'rate1s' and 'rate5s'.\n",
    "    1. Use rates column to create a dataframe of 2 columns 'rate1s', 'rate5s'.\n",
    "    2. Concat the dataframe from step 1 with exec_df to get the final clean dtaframe."
   ]
  },
  {
   "cell_type": "code",
   "execution_count": 22,
   "metadata": {},
   "outputs": [],
   "source": [
    "# Split rates column into two columns\n",
    "rates_df = exec_df['rates'].apply(lambda x : dict(eval(x)) ).apply(pd.Series)\n",
    "rates_df.columns = ['rate1s', 'rate5s']"
   ]
  },
  {
   "cell_type": "code",
   "execution_count": 23,
   "metadata": {},
   "outputs": [
    {
     "data": {
      "text/html": [
       "<div>\n",
       "<table border=\"1\" class=\"dataframe\">\n",
       "  <thead>\n",
       "    <tr style=\"text-align: right;\">\n",
       "      <th></th>\n",
       "      <th>rate1s</th>\n",
       "      <th>rate5s</th>\n",
       "    </tr>\n",
       "  </thead>\n",
       "  <tbody>\n",
       "    <tr>\n",
       "      <th>0</th>\n",
       "      <td>1.0</td>\n",
       "      <td>0.2</td>\n",
       "    </tr>\n",
       "    <tr>\n",
       "      <th>1</th>\n",
       "      <td>2.0</td>\n",
       "      <td>0.4</td>\n",
       "    </tr>\n",
       "    <tr>\n",
       "      <th>2</th>\n",
       "      <td>3.0</td>\n",
       "      <td>0.6</td>\n",
       "    </tr>\n",
       "    <tr>\n",
       "      <th>3</th>\n",
       "      <td>1.0</td>\n",
       "      <td>0.8</td>\n",
       "    </tr>\n",
       "    <tr>\n",
       "      <th>4</th>\n",
       "      <td>2.0</td>\n",
       "      <td>1.0</td>\n",
       "    </tr>\n",
       "  </tbody>\n",
       "</table>\n",
       "</div>"
      ],
      "text/plain": [
       "   rate1s  rate5s\n",
       "0     1.0     0.2\n",
       "1     2.0     0.4\n",
       "2     3.0     0.6\n",
       "3     1.0     0.8\n",
       "4     2.0     1.0"
      ]
     },
     "execution_count": 23,
     "metadata": {},
     "output_type": "execute_result"
    }
   ],
   "source": [
    "rates_df.head()"
   ]
  },
  {
   "cell_type": "code",
   "execution_count": null,
   "metadata": {},
   "outputs": [],
   "source": [
    "# Concat this with exec_df to get the entire dataset\n"
   ]
  },
  {
   "cell_type": "markdown",
   "metadata": {},
   "source": [
    "# 1. Visualization\n",
    "    We start of with visualizing our data. Visualization can provide a holistic view of our data, helping us further our understanding of the dataset.\n",
    "    \n",
    "    Start of with importing visualization libraries"
   ]
  },
  {
   "cell_type": "code",
   "execution_count": 2,
   "metadata": {},
   "outputs": [],
   "source": [
    "import matplotlib as plt\n",
    "import seaborn as sns"
   ]
  },
  {
   "cell_type": "code",
   "execution_count": null,
   "metadata": {
    "collapsed": true
   },
   "outputs": [],
   "source": []
  }
 ],
 "metadata": {
  "anaconda-cloud": {},
  "kernelspec": {
   "display_name": "Python [conda root]",
   "language": "python",
   "name": "conda-root-py"
  },
  "language_info": {
   "codemirror_mode": {
    "name": "ipython",
    "version": 3
   },
   "file_extension": ".py",
   "mimetype": "text/x-python",
   "name": "python",
   "nbconvert_exporter": "python",
   "pygments_lexer": "ipython3",
   "version": "3.5.3"
  }
 },
 "nbformat": 4,
 "nbformat_minor": 2
}
