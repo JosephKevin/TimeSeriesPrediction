{
 "cells": [
  {
   "cell_type": "markdown",
   "metadata": {},
   "source": [
    "## Load in the data\n",
    "    Since the data is a .db, which is a sqlite database. We will convert the tables to pandas dataframe as required. Since the table sizes arent too big we can use pandas dataframes."
   ]
  },
  {
   "cell_type": "code",
   "execution_count": 4,
   "metadata": {
    "collapsed": true
   },
   "outputs": [],
   "source": [
    "import sqlite3\n",
    "import pandas as pd"
   ]
  },
  {
   "cell_type": "code",
   "execution_count": 8,
   "metadata": {},
   "outputs": [],
   "source": [
    "# Read sqlite query results into a pandas DataFrame\n",
    "sql_conn = sqlite3.connect(\"sqlite.db\")\n",
    "exec_df = pd.read_sql_query(\"SELECT * from exec\", sql_conn)\n",
    "sql_conn.close()"
   ]
  },
  {
   "cell_type": "code",
   "execution_count": 9,
   "metadata": {},
   "outputs": [
    {
     "data": {
      "text/html": [
       "<div>\n",
       "<table border=\"1\" class=\"dataframe\">\n",
       "  <thead>\n",
       "    <tr style=\"text-align: right;\">\n",
       "      <th></th>\n",
       "      <th>ts</th>\n",
       "      <th>exe</th>\n",
       "      <th>pid</th>\n",
       "      <th>ppid</th>\n",
       "      <th>path</th>\n",
       "      <th>docker</th>\n",
       "      <th>depth</th>\n",
       "      <th>rates</th>\n",
       "    </tr>\n",
       "  </thead>\n",
       "  <tbody>\n",
       "    <tr>\n",
       "      <th>0</th>\n",
       "      <td>0.690</td>\n",
       "      <td>sh</td>\n",
       "      <td>28531</td>\n",
       "      <td>1158</td>\n",
       "      <td>/bin/sh</td>\n",
       "      <td>None</td>\n",
       "      <td>-1</td>\n",
       "      <td>{\"1\": 1.0, \"5\": 0.2}</td>\n",
       "    </tr>\n",
       "    <tr>\n",
       "      <th>1</th>\n",
       "      <td>0.696</td>\n",
       "      <td>lpstat</td>\n",
       "      <td>28532</td>\n",
       "      <td>28531</td>\n",
       "      <td>/usr/bin/lpstat</td>\n",
       "      <td>None</td>\n",
       "      <td>-1</td>\n",
       "      <td>{\"1\": 2.0, \"5\": 0.4}</td>\n",
       "    </tr>\n",
       "    <tr>\n",
       "      <th>2</th>\n",
       "      <td>0.701</td>\n",
       "      <td>sed</td>\n",
       "      <td>28533</td>\n",
       "      <td>28531</td>\n",
       "      <td>/bin/sed</td>\n",
       "      <td>None</td>\n",
       "      <td>-1</td>\n",
       "      <td>{\"1\": 3.0, \"5\": 0.6}</td>\n",
       "    </tr>\n",
       "    <tr>\n",
       "      <th>3</th>\n",
       "      <td>1.704</td>\n",
       "      <td>sh</td>\n",
       "      <td>28534</td>\n",
       "      <td>1158</td>\n",
       "      <td>/bin/sh</td>\n",
       "      <td>None</td>\n",
       "      <td>-1</td>\n",
       "      <td>{\"1\": 1.0, \"5\": 0.8}</td>\n",
       "    </tr>\n",
       "    <tr>\n",
       "      <th>4</th>\n",
       "      <td>1.711</td>\n",
       "      <td>sed</td>\n",
       "      <td>28536</td>\n",
       "      <td>28534</td>\n",
       "      <td>sed</td>\n",
       "      <td>None</td>\n",
       "      <td>-1</td>\n",
       "      <td>{\"1\": 2.0, \"5\": 1.0}</td>\n",
       "    </tr>\n",
       "  </tbody>\n",
       "</table>\n",
       "</div>"
      ],
      "text/plain": [
       "      ts     exe    pid   ppid             path docker  depth  \\\n",
       "0  0.690      sh  28531   1158          /bin/sh   None     -1   \n",
       "1  0.696  lpstat  28532  28531  /usr/bin/lpstat   None     -1   \n",
       "2  0.701     sed  28533  28531         /bin/sed   None     -1   \n",
       "3  1.704      sh  28534   1158          /bin/sh   None     -1   \n",
       "4  1.711     sed  28536  28534              sed   None     -1   \n",
       "\n",
       "                  rates  \n",
       "0  {\"1\": 1.0, \"5\": 0.2}  \n",
       "1  {\"1\": 2.0, \"5\": 0.4}  \n",
       "2  {\"1\": 3.0, \"5\": 0.6}  \n",
       "3  {\"1\": 1.0, \"5\": 0.8}  \n",
       "4  {\"1\": 2.0, \"5\": 1.0}  "
      ]
     },
     "execution_count": 9,
     "metadata": {},
     "output_type": "execute_result"
    }
   ],
   "source": [
    "exec_df.head()"
   ]
  },
  {
   "cell_type": "code",
   "execution_count": 15,
   "metadata": {},
   "outputs": [
    {
     "data": {
      "text/html": [
       "<div>\n",
       "<table border=\"1\" class=\"dataframe\">\n",
       "  <thead>\n",
       "    <tr style=\"text-align: right;\">\n",
       "      <th></th>\n",
       "      <th>ts</th>\n",
       "      <th>exe</th>\n",
       "      <th>pid</th>\n",
       "      <th>ppid</th>\n",
       "      <th>path</th>\n",
       "      <th>docker</th>\n",
       "      <th>depth</th>\n",
       "      <th>rates</th>\n",
       "    </tr>\n",
       "  </thead>\n",
       "  <tbody>\n",
       "    <tr>\n",
       "      <th>82</th>\n",
       "      <td>22.574</td>\n",
       "      <td>crawl.sh</td>\n",
       "      <td>28647</td>\n",
       "      <td>28628</td>\n",
       "      <td>/webcrawl/crawl.sh</td>\n",
       "      <td>/docker/6aebd9a7d81f55435baff1afbcc16b11362669...</td>\n",
       "      <td>5</td>\n",
       "      <td>{\"1\": 1.0, \"5\": 0.2}</td>\n",
       "    </tr>\n",
       "    <tr>\n",
       "      <th>83</th>\n",
       "      <td>22.604</td>\n",
       "      <td>python</td>\n",
       "      <td>28668</td>\n",
       "      <td>28647</td>\n",
       "      <td>python</td>\n",
       "      <td>/docker/6aebd9a7d81f55435baff1afbcc16b11362669...</td>\n",
       "      <td>5</td>\n",
       "      <td>{\"1\": 2.0, \"5\": 0.4}</td>\n",
       "    </tr>\n",
       "    <tr>\n",
       "      <th>84</th>\n",
       "      <td>22.936</td>\n",
       "      <td>python</td>\n",
       "      <td>28669</td>\n",
       "      <td>28647</td>\n",
       "      <td>/usr/bin/python</td>\n",
       "      <td>/docker/6aebd9a7d81f55435baff1afbcc16b11362669...</td>\n",
       "      <td>5</td>\n",
       "      <td>{\"1\": 3.0, \"5\": 0.6}</td>\n",
       "    </tr>\n",
       "    <tr>\n",
       "      <th>88</th>\n",
       "      <td>23.374</td>\n",
       "      <td>python</td>\n",
       "      <td>28673</td>\n",
       "      <td>28647</td>\n",
       "      <td>/usr/bin/python</td>\n",
       "      <td>/docker/6aebd9a7d81f55435baff1afbcc16b11362669...</td>\n",
       "      <td>5</td>\n",
       "      <td>{\"1\": 4.0, \"5\": 0.8}</td>\n",
       "    </tr>\n",
       "    <tr>\n",
       "      <th>92</th>\n",
       "      <td>24.167</td>\n",
       "      <td>python</td>\n",
       "      <td>28679</td>\n",
       "      <td>28647</td>\n",
       "      <td>/usr/bin/python</td>\n",
       "      <td>/docker/6aebd9a7d81f55435baff1afbcc16b11362669...</td>\n",
       "      <td>5</td>\n",
       "      <td>{\"1\": 2.0, \"5\": 1.0}</td>\n",
       "    </tr>\n",
       "  </tbody>\n",
       "</table>\n",
       "</div>"
      ],
      "text/plain": [
       "        ts       exe    pid   ppid                path  \\\n",
       "82  22.574  crawl.sh  28647  28628  /webcrawl/crawl.sh   \n",
       "83  22.604    python  28668  28647              python   \n",
       "84  22.936    python  28669  28647     /usr/bin/python   \n",
       "88  23.374    python  28673  28647     /usr/bin/python   \n",
       "92  24.167    python  28679  28647     /usr/bin/python   \n",
       "\n",
       "                                               docker  depth  \\\n",
       "82  /docker/6aebd9a7d81f55435baff1afbcc16b11362669...      5   \n",
       "83  /docker/6aebd9a7d81f55435baff1afbcc16b11362669...      5   \n",
       "84  /docker/6aebd9a7d81f55435baff1afbcc16b11362669...      5   \n",
       "88  /docker/6aebd9a7d81f55435baff1afbcc16b11362669...      5   \n",
       "92  /docker/6aebd9a7d81f55435baff1afbcc16b11362669...      5   \n",
       "\n",
       "                   rates  \n",
       "82  {\"1\": 1.0, \"5\": 0.2}  \n",
       "83  {\"1\": 2.0, \"5\": 0.4}  \n",
       "84  {\"1\": 3.0, \"5\": 0.6}  \n",
       "88  {\"1\": 4.0, \"5\": 0.8}  \n",
       "92  {\"1\": 2.0, \"5\": 1.0}  "
      ]
     },
     "execution_count": 15,
     "metadata": {},
     "output_type": "execute_result"
    }
   ],
   "source": [
    "exec_df[exec_df.docker.notnull()].head()"
   ]
  },
  {
   "cell_type": "markdown",
   "metadata": {},
   "source": [
    "We need to split the json in rate column into two seperate columns, 'rate1s' and 'rate5s'.\n",
    "    1. Use rates column to create a dataframe of 2 columns 'rate1s', 'rate5s'.\n",
    "    2. Concat the dataframe from step 1 with exec_df to get the final clean dtaframe."
   ]
  },
  {
   "cell_type": "code",
   "execution_count": 22,
   "metadata": {},
   "outputs": [],
   "source": [
    "# Split rates column into two columns\n",
    "rates_df = exec_df['rates'].apply(lambda x : dict(eval(x)) ).apply(pd.Series)\n",
    "rates_df.columns = ['rate1s', 'rate5s']"
   ]
  },
  {
   "cell_type": "code",
   "execution_count": 23,
   "metadata": {},
   "outputs": [
    {
     "data": {
      "text/html": [
       "<div>\n",
       "<table border=\"1\" class=\"dataframe\">\n",
       "  <thead>\n",
       "    <tr style=\"text-align: right;\">\n",
       "      <th></th>\n",
       "      <th>rate1s</th>\n",
       "      <th>rate5s</th>\n",
       "    </tr>\n",
       "  </thead>\n",
       "  <tbody>\n",
       "    <tr>\n",
       "      <th>0</th>\n",
       "      <td>1.0</td>\n",
       "      <td>0.2</td>\n",
       "    </tr>\n",
       "    <tr>\n",
       "      <th>1</th>\n",
       "      <td>2.0</td>\n",
       "      <td>0.4</td>\n",
       "    </tr>\n",
       "    <tr>\n",
       "      <th>2</th>\n",
       "      <td>3.0</td>\n",
       "      <td>0.6</td>\n",
       "    </tr>\n",
       "    <tr>\n",
       "      <th>3</th>\n",
       "      <td>1.0</td>\n",
       "      <td>0.8</td>\n",
       "    </tr>\n",
       "    <tr>\n",
       "      <th>4</th>\n",
       "      <td>2.0</td>\n",
       "      <td>1.0</td>\n",
       "    </tr>\n",
       "  </tbody>\n",
       "</table>\n",
       "</div>"
      ],
      "text/plain": [
       "   rate1s  rate5s\n",
       "0     1.0     0.2\n",
       "1     2.0     0.4\n",
       "2     3.0     0.6\n",
       "3     1.0     0.8\n",
       "4     2.0     1.0"
      ]
     },
     "execution_count": 23,
     "metadata": {},
     "output_type": "execute_result"
    }
   ],
   "source": [
    "rates_df.head()"
   ]
  },
  {
   "cell_type": "code",
   "execution_count": 24,
   "metadata": {},
   "outputs": [],
   "source": [
    "# Concat this with exec_df to get the entire dataset\n",
    "exec_clean = pd.concat([exec_df, rates_df], axis=1)"
   ]
  },
  {
   "cell_type": "code",
   "execution_count": 25,
   "metadata": {},
   "outputs": [
    {
     "data": {
      "text/html": [
       "<div>\n",
       "<table border=\"1\" class=\"dataframe\">\n",
       "  <thead>\n",
       "    <tr style=\"text-align: right;\">\n",
       "      <th></th>\n",
       "      <th>ts</th>\n",
       "      <th>exe</th>\n",
       "      <th>pid</th>\n",
       "      <th>ppid</th>\n",
       "      <th>path</th>\n",
       "      <th>docker</th>\n",
       "      <th>depth</th>\n",
       "      <th>rates</th>\n",
       "      <th>rate1s</th>\n",
       "      <th>rate5s</th>\n",
       "    </tr>\n",
       "  </thead>\n",
       "  <tbody>\n",
       "    <tr>\n",
       "      <th>0</th>\n",
       "      <td>0.690</td>\n",
       "      <td>sh</td>\n",
       "      <td>28531</td>\n",
       "      <td>1158</td>\n",
       "      <td>/bin/sh</td>\n",
       "      <td>None</td>\n",
       "      <td>-1</td>\n",
       "      <td>{\"1\": 1.0, \"5\": 0.2}</td>\n",
       "      <td>1.0</td>\n",
       "      <td>0.2</td>\n",
       "    </tr>\n",
       "    <tr>\n",
       "      <th>1</th>\n",
       "      <td>0.696</td>\n",
       "      <td>lpstat</td>\n",
       "      <td>28532</td>\n",
       "      <td>28531</td>\n",
       "      <td>/usr/bin/lpstat</td>\n",
       "      <td>None</td>\n",
       "      <td>-1</td>\n",
       "      <td>{\"1\": 2.0, \"5\": 0.4}</td>\n",
       "      <td>2.0</td>\n",
       "      <td>0.4</td>\n",
       "    </tr>\n",
       "    <tr>\n",
       "      <th>2</th>\n",
       "      <td>0.701</td>\n",
       "      <td>sed</td>\n",
       "      <td>28533</td>\n",
       "      <td>28531</td>\n",
       "      <td>/bin/sed</td>\n",
       "      <td>None</td>\n",
       "      <td>-1</td>\n",
       "      <td>{\"1\": 3.0, \"5\": 0.6}</td>\n",
       "      <td>3.0</td>\n",
       "      <td>0.6</td>\n",
       "    </tr>\n",
       "    <tr>\n",
       "      <th>3</th>\n",
       "      <td>1.704</td>\n",
       "      <td>sh</td>\n",
       "      <td>28534</td>\n",
       "      <td>1158</td>\n",
       "      <td>/bin/sh</td>\n",
       "      <td>None</td>\n",
       "      <td>-1</td>\n",
       "      <td>{\"1\": 1.0, \"5\": 0.8}</td>\n",
       "      <td>1.0</td>\n",
       "      <td>0.8</td>\n",
       "    </tr>\n",
       "    <tr>\n",
       "      <th>4</th>\n",
       "      <td>1.711</td>\n",
       "      <td>sed</td>\n",
       "      <td>28536</td>\n",
       "      <td>28534</td>\n",
       "      <td>sed</td>\n",
       "      <td>None</td>\n",
       "      <td>-1</td>\n",
       "      <td>{\"1\": 2.0, \"5\": 1.0}</td>\n",
       "      <td>2.0</td>\n",
       "      <td>1.0</td>\n",
       "    </tr>\n",
       "  </tbody>\n",
       "</table>\n",
       "</div>"
      ],
      "text/plain": [
       "      ts     exe    pid   ppid             path docker  depth  \\\n",
       "0  0.690      sh  28531   1158          /bin/sh   None     -1   \n",
       "1  0.696  lpstat  28532  28531  /usr/bin/lpstat   None     -1   \n",
       "2  0.701     sed  28533  28531         /bin/sed   None     -1   \n",
       "3  1.704      sh  28534   1158          /bin/sh   None     -1   \n",
       "4  1.711     sed  28536  28534              sed   None     -1   \n",
       "\n",
       "                  rates  rate1s  rate5s  \n",
       "0  {\"1\": 1.0, \"5\": 0.2}     1.0     0.2  \n",
       "1  {\"1\": 2.0, \"5\": 0.4}     2.0     0.4  \n",
       "2  {\"1\": 3.0, \"5\": 0.6}     3.0     0.6  \n",
       "3  {\"1\": 1.0, \"5\": 0.8}     1.0     0.8  \n",
       "4  {\"1\": 2.0, \"5\": 1.0}     2.0     1.0  "
      ]
     },
     "execution_count": 25,
     "metadata": {},
     "output_type": "execute_result"
    }
   ],
   "source": [
    "exec_clean.head()"
   ]
  },
  {
   "cell_type": "markdown",
   "metadata": {},
   "source": [
    "# 1. Visualization\n",
    "    We start of with visualizing our data. Visualization can provide a holistic view of our data, helping us further our understanding of the dataset.\n",
    "    \n",
    "    Start of with importing visualization libraries"
   ]
  },
  {
   "cell_type": "code",
   "execution_count": 33,
   "metadata": {},
   "outputs": [],
   "source": [
    "import matplotlib.pyplot as plt\n",
    "import seaborn as sns\n",
    "% matplotlib inline"
   ]
  },
  {
   "cell_type": "markdown",
   "metadata": {},
   "source": [
    "## Plot depth\n",
    "    What is depth? "
   ]
  },
  {
   "cell_type": "code",
   "execution_count": 26,
   "metadata": {},
   "outputs": [
    {
     "data": {
      "text/plain": [
       "-1    1709\n",
       " 5     790\n",
       " 2       2\n",
       " 3       1\n",
       " 4       1\n",
       "Name: depth, dtype: int64"
      ]
     },
     "execution_count": 26,
     "metadata": {},
     "output_type": "execute_result"
    }
   ],
   "source": [
    "# Numerical distribution of depth\n",
    "exec_clean['depth'].value_counts()"
   ]
  },
  {
   "cell_type": "markdown",
   "metadata": {},
   "source": [
    "Looking at the distribution of the data, we can see that this type of data can be easily visualized using a scatter plot"
   ]
  },
  {
   "cell_type": "code",
   "execution_count": 40,
   "metadata": {},
   "outputs": [
    {
     "data": {
      "text/plain": [
       "<seaborn.axisgrid.FacetGrid at 0x114b25fd0>"
      ]
     },
     "execution_count": 40,
     "metadata": {},
     "output_type": "execute_result"
    },
    {
     "data": {
      "image/png": "[encoded data removed]",
      "text/plain": [
       "<matplotlib.figure.Figure at 0x114b251d0>"
      ]
     },
     "metadata": {},
     "output_type": "display_data"
    }
   ],
   "source": [
    "g = sns.FacetGrid(exec_clean)  \n",
    "g.map(plt.scatter, \"ts\", \"depth\")  "
   ]
  },
  {
   "cell_type": "code",
   "execution_count": 51,
   "metadata": {},
   "outputs": [
    {
     "data": {
      "text/html": [
       "<div>\n",
       "<table border=\"1\" class=\"dataframe\">\n",
       "  <thead>\n",
       "    <tr style=\"text-align: right;\">\n",
       "      <th></th>\n",
       "      <th>ts</th>\n",
       "      <th>exe</th>\n",
       "      <th>pid</th>\n",
       "      <th>ppid</th>\n",
       "      <th>path</th>\n",
       "      <th>docker</th>\n",
       "      <th>depth</th>\n",
       "      <th>rates</th>\n",
       "      <th>rate1s</th>\n",
       "      <th>rate5s</th>\n",
       "    </tr>\n",
       "  </thead>\n",
       "  <tbody>\n",
       "    <tr>\n",
       "      <th>67</th>\n",
       "      <td>22.069</td>\n",
       "      <td>auplink</td>\n",
       "      <td>28606</td>\n",
       "      <td>917</td>\n",
       "      <td>/sbin/auplink</td>\n",
       "      <td>None</td>\n",
       "      <td>2</td>\n",
       "      <td>{\"1\": 5.0, \"5\": 3.4}</td>\n",
       "      <td>5.0</td>\n",
       "      <td>3.4</td>\n",
       "    </tr>\n",
       "    <tr>\n",
       "      <th>68</th>\n",
       "      <td>22.107</td>\n",
       "      <td>auplink</td>\n",
       "      <td>28607</td>\n",
       "      <td>917</td>\n",
       "      <td>auplink</td>\n",
       "      <td>None</td>\n",
       "      <td>2</td>\n",
       "      <td>{\"1\": 6.0, \"5\": 3.6}</td>\n",
       "      <td>6.0</td>\n",
       "      <td>3.6</td>\n",
       "    </tr>\n",
       "    <tr>\n",
       "      <th>77</th>\n",
       "      <td>22.221</td>\n",
       "      <td>docker-containe</td>\n",
       "      <td>28628</td>\n",
       "      <td>1051</td>\n",
       "      <td>/usr/bin/docker-containerd-shim</td>\n",
       "      <td>None</td>\n",
       "      <td>3</td>\n",
       "      <td>{\"1\": 15.0, \"5\": 5.4}</td>\n",
       "      <td>15.0</td>\n",
       "      <td>5.4</td>\n",
       "    </tr>\n",
       "    <tr>\n",
       "      <th>78</th>\n",
       "      <td>22.228</td>\n",
       "      <td>docker-runc</td>\n",
       "      <td>28633</td>\n",
       "      <td>28628</td>\n",
       "      <td>/usr/bin/docker-runc</td>\n",
       "      <td>None</td>\n",
       "      <td>4</td>\n",
       "      <td>{\"1\": 16.0, \"5\": 5.6}</td>\n",
       "      <td>16.0</td>\n",
       "      <td>5.6</td>\n",
       "    </tr>\n",
       "  </tbody>\n",
       "</table>\n",
       "</div>"
      ],
      "text/plain": [
       "        ts              exe    pid   ppid                             path  \\\n",
       "67  22.069          auplink  28606    917                    /sbin/auplink   \n",
       "68  22.107          auplink  28607    917                          auplink   \n",
       "77  22.221  docker-containe  28628   1051  /usr/bin/docker-containerd-shim   \n",
       "78  22.228      docker-runc  28633  28628             /usr/bin/docker-runc   \n",
       "\n",
       "   docker  depth                  rates  rate1s  rate5s  \n",
       "67   None      2   {\"1\": 5.0, \"5\": 3.4}     5.0     3.4  \n",
       "68   None      2   {\"1\": 6.0, \"5\": 3.6}     6.0     3.6  \n",
       "77   None      3  {\"1\": 15.0, \"5\": 5.4}    15.0     5.4  \n",
       "78   None      4  {\"1\": 16.0, \"5\": 5.6}    16.0     5.6  "
      ]
     },
     "execution_count": 51,
     "metadata": {},
     "output_type": "execute_result"
    }
   ],
   "source": [
    "exec_clean[(exec_clean.depth >= 2) & (exec_clean.depth <= 4)]"
   ]
  },
  {
   "cell_type": "markdown",
   "metadata": {},
   "source": [
    "### interesting because all these outliers occur near 22s time, ideal to zoom in on this time scale"
   ]
  },
  {
   "cell_type": "code",
   "execution_count": 63,
   "metadata": {},
   "outputs": [
    {
     "data": {
      "text/plain": [
       "(-1, 5)"
      ]
     },
     "execution_count": 63,
     "metadata": {},
     "output_type": "execute_result"
    },
    {
     "data": {
      "image/png": "[encoded data removed]",
      "text/plain": [
       "<matplotlib.figure.Figure at 0x114aa19b0>"
      ]
     },
     "metadata": {},
     "output_type": "display_data"
    }
   ],
   "source": [
    "g = sns.FacetGrid(exec_clean)  \n",
    "g.map(plt.scatter, \"ts\", \"depth\")  \n",
    "plt.xlim(0, 50)  \n",
    "plt.ylim(-1, 5) "
   ]
  },
  {
   "cell_type": "markdown",
   "metadata": {},
   "source": [
    "##### Thoughts\n",
    "    1. the depth has -1 from the start of time, but at time ~ 22 there are a few depth outliers and then they vanish as time goes by.\n",
    "    2. The value of '-1' for depth might be just a default value for no docker. Because the depth is '-1' only when docker column is empty."
   ]
  },
  {
   "cell_type": "code",
   "execution_count": 69,
   "metadata": {},
   "outputs": [
    {
     "data": {
      "image/png": "[encoded data removed]",
      "text/plain": [
       "<matplotlib.figure.Figure at 0x11aa5f1d0>"
      ]
     },
     "metadata": {},
     "output_type": "display_data"
    }
   ],
   "source": [
    "# histogram\n",
    "sns.distplot(exec_clean['depth'], kde=False);"
   ]
  },
  {
   "cell_type": "markdown",
   "metadata": {},
   "source": [
    "## Plot Rate1s\n"
   ]
  },
  {
   "cell_type": "code",
   "execution_count": 41,
   "metadata": {},
   "outputs": [
    {
     "data": {
      "text/plain": [
       "3.0     830\n",
       "2.0     775\n",
       "1.0     686\n",
       "4.0     183\n",
       "5.0      11\n",
       "17.0      2\n",
       "16.0      2\n",
       "6.0       2\n",
       "18.0      2\n",
       "8.0       1\n",
       "7.0       1\n",
       "19.0      1\n",
       "9.0       1\n",
       "11.0      1\n",
       "12.0      1\n",
       "13.0      1\n",
       "14.0      1\n",
       "15.0      1\n",
       "10.0      1\n",
       "Name: rate1s, dtype: int64"
      ]
     },
     "execution_count": 41,
     "metadata": {},
     "output_type": "execute_result"
    }
   ],
   "source": [
    "# rate1s numerical distribution\n",
    "exec_clean['rate1s'].value_counts()"
   ]
  },
  {
   "cell_type": "code",
   "execution_count": 75,
   "metadata": {},
   "outputs": [
    {
     "data": {
      "text/html": [
       "<div>\n",
       "<table border=\"1\" class=\"dataframe\">\n",
       "  <thead>\n",
       "    <tr style=\"text-align: right;\">\n",
       "      <th></th>\n",
       "      <th>ts</th>\n",
       "      <th>exe</th>\n",
       "      <th>pid</th>\n",
       "      <th>ppid</th>\n",
       "      <th>path</th>\n",
       "      <th>docker</th>\n",
       "      <th>depth</th>\n",
       "      <th>rates</th>\n",
       "      <th>rate1s</th>\n",
       "      <th>rate5s</th>\n",
       "    </tr>\n",
       "  </thead>\n",
       "  <tbody>\n",
       "    <tr>\n",
       "      <th>76</th>\n",
       "      <td>22.199</td>\n",
       "      <td>systemd-sysctl</td>\n",
       "      <td>28624</td>\n",
       "      <td>28614</td>\n",
       "      <td>/lib/systemd/systemd-sysctl</td>\n",
       "      <td>None</td>\n",
       "      <td>-1</td>\n",
       "      <td>{\"1\": 14.0, \"5\": 5.2}</td>\n",
       "      <td>14.0</td>\n",
       "      <td>5.2</td>\n",
       "    </tr>\n",
       "    <tr>\n",
       "      <th>86</th>\n",
       "      <td>23.047</td>\n",
       "      <td>sed</td>\n",
       "      <td>28672</td>\n",
       "      <td>28670</td>\n",
       "      <td>sed</td>\n",
       "      <td>None</td>\n",
       "      <td>-1</td>\n",
       "      <td>{\"1\": 17.0, \"5\": 6.0}</td>\n",
       "      <td>17.0</td>\n",
       "      <td>6.0</td>\n",
       "    </tr>\n",
       "    <tr>\n",
       "      <th>85</th>\n",
       "      <td>23.035</td>\n",
       "      <td>sh</td>\n",
       "      <td>28670</td>\n",
       "      <td>1158</td>\n",
       "      <td>sh</td>\n",
       "      <td>None</td>\n",
       "      <td>-1</td>\n",
       "      <td>{\"1\": 16.0, \"5\": 5.8}</td>\n",
       "      <td>16.0</td>\n",
       "      <td>5.8</td>\n",
       "    </tr>\n",
       "    <tr>\n",
       "      <th>87</th>\n",
       "      <td>23.052</td>\n",
       "      <td>lpstat</td>\n",
       "      <td>28671</td>\n",
       "      <td>28670</td>\n",
       "      <td>/usr/bin/lpstat</td>\n",
       "      <td>None</td>\n",
       "      <td>-1</td>\n",
       "      <td>{\"1\": 18.0, \"5\": 6.2}</td>\n",
       "      <td>18.0</td>\n",
       "      <td>6.2</td>\n",
       "    </tr>\n",
       "    <tr>\n",
       "      <th>75</th>\n",
       "      <td>22.188</td>\n",
       "      <td>ifquery</td>\n",
       "      <td>28619</td>\n",
       "      <td>-1</td>\n",
       "      <td>/sbin/ifquery</td>\n",
       "      <td>None</td>\n",
       "      <td>-1</td>\n",
       "      <td>{\"1\": 13.0, \"5\": 5.0}</td>\n",
       "      <td>13.0</td>\n",
       "      <td>5.0</td>\n",
       "    </tr>\n",
       "    <tr>\n",
       "      <th>74</th>\n",
       "      <td>22.187</td>\n",
       "      <td>systemd-sysctl</td>\n",
       "      <td>28623</td>\n",
       "      <td>28613</td>\n",
       "      <td>/lib/systemd/systemd-sysctl</td>\n",
       "      <td>None</td>\n",
       "      <td>-1</td>\n",
       "      <td>{\"1\": 12.0, \"5\": 4.8}</td>\n",
       "      <td>12.0</td>\n",
       "      <td>4.8</td>\n",
       "    </tr>\n",
       "    <tr>\n",
       "      <th>593</th>\n",
       "      <td>138.300</td>\n",
       "      <td>01ifupdown</td>\n",
       "      <td>29195</td>\n",
       "      <td>29191</td>\n",
       "      <td>/etc/NetworkManager/dispatcher.d/01ifupdown</td>\n",
       "      <td>None</td>\n",
       "      <td>-1</td>\n",
       "      <td>{\"1\": 6.0, \"5\": 3.6}</td>\n",
       "      <td>6.0</td>\n",
       "      <td>3.6</td>\n",
       "    </tr>\n",
       "    <tr>\n",
       "      <th>72</th>\n",
       "      <td>22.164</td>\n",
       "      <td>ifquery</td>\n",
       "      <td>28622</td>\n",
       "      <td>-1</td>\n",
       "      <td>/sbin/ifquery</td>\n",
       "      <td>None</td>\n",
       "      <td>-1</td>\n",
       "      <td>{\"1\": 10.0, \"5\": 4.4}</td>\n",
       "      <td>10.0</td>\n",
       "      <td>4.4</td>\n",
       "    </tr>\n",
       "    <tr>\n",
       "      <th>71</th>\n",
       "      <td>22.159</td>\n",
       "      <td>ifquery</td>\n",
       "      <td>28617</td>\n",
       "      <td>28615</td>\n",
       "      <td>/sbin/ifquery</td>\n",
       "      <td>None</td>\n",
       "      <td>-1</td>\n",
       "      <td>{\"1\": 9.0, \"5\": 4.2}</td>\n",
       "      <td>9.0</td>\n",
       "      <td>4.2</td>\n",
       "    </tr>\n",
       "    <tr>\n",
       "      <th>70</th>\n",
       "      <td>22.159</td>\n",
       "      <td>ifquery</td>\n",
       "      <td>28621</td>\n",
       "      <td>-1</td>\n",
       "      <td>/sbin/ifquery</td>\n",
       "      <td>None</td>\n",
       "      <td>-1</td>\n",
       "      <td>{\"1\": 8.0, \"5\": 4.0}</td>\n",
       "      <td>8.0</td>\n",
       "      <td>4.0</td>\n",
       "    </tr>\n",
       "    <tr>\n",
       "      <th>69</th>\n",
       "      <td>22.155</td>\n",
       "      <td>grep</td>\n",
       "      <td>28618</td>\n",
       "      <td>28615</td>\n",
       "      <td>/bin/grep</td>\n",
       "      <td>None</td>\n",
       "      <td>-1</td>\n",
       "      <td>{\"1\": 7.0, \"5\": 3.8}</td>\n",
       "      <td>7.0</td>\n",
       "      <td>3.8</td>\n",
       "    </tr>\n",
       "    <tr>\n",
       "      <th>73</th>\n",
       "      <td>22.187</td>\n",
       "      <td>grep</td>\n",
       "      <td>28620</td>\n",
       "      <td>-1</td>\n",
       "      <td>grep</td>\n",
       "      <td>None</td>\n",
       "      <td>-1</td>\n",
       "      <td>{\"1\": 11.0, \"5\": 4.6}</td>\n",
       "      <td>11.0</td>\n",
       "      <td>4.6</td>\n",
       "    </tr>\n",
       "    <tr>\n",
       "      <th>68</th>\n",
       "      <td>22.107</td>\n",
       "      <td>auplink</td>\n",
       "      <td>28607</td>\n",
       "      <td>917</td>\n",
       "      <td>auplink</td>\n",
       "      <td>None</td>\n",
       "      <td>2</td>\n",
       "      <td>{\"1\": 6.0, \"5\": 3.6}</td>\n",
       "      <td>6.0</td>\n",
       "      <td>3.6</td>\n",
       "    </tr>\n",
       "    <tr>\n",
       "      <th>77</th>\n",
       "      <td>22.221</td>\n",
       "      <td>docker-containe</td>\n",
       "      <td>28628</td>\n",
       "      <td>1051</td>\n",
       "      <td>/usr/bin/docker-containerd-shim</td>\n",
       "      <td>None</td>\n",
       "      <td>3</td>\n",
       "      <td>{\"1\": 15.0, \"5\": 5.4}</td>\n",
       "      <td>15.0</td>\n",
       "      <td>5.4</td>\n",
       "    </tr>\n",
       "    <tr>\n",
       "      <th>78</th>\n",
       "      <td>22.228</td>\n",
       "      <td>docker-runc</td>\n",
       "      <td>28633</td>\n",
       "      <td>28628</td>\n",
       "      <td>/usr/bin/docker-runc</td>\n",
       "      <td>None</td>\n",
       "      <td>4</td>\n",
       "      <td>{\"1\": 16.0, \"5\": 5.6}</td>\n",
       "      <td>16.0</td>\n",
       "      <td>5.6</td>\n",
       "    </tr>\n",
       "    <tr>\n",
       "      <th>79</th>\n",
       "      <td>22.247</td>\n",
       "      <td>exe</td>\n",
       "      <td>28644</td>\n",
       "      <td>28633</td>\n",
       "      <td>/proc/self/exe</td>\n",
       "      <td>None</td>\n",
       "      <td>5</td>\n",
       "      <td>{\"1\": 17.0, \"5\": 5.8}</td>\n",
       "      <td>17.0</td>\n",
       "      <td>5.8</td>\n",
       "    </tr>\n",
       "    <tr>\n",
       "      <th>80</th>\n",
       "      <td>22.283</td>\n",
       "      <td>dockerd</td>\n",
       "      <td>28652</td>\n",
       "      <td>28633</td>\n",
       "      <td>/usr/bin/dockerd</td>\n",
       "      <td>None</td>\n",
       "      <td>5</td>\n",
       "      <td>{\"1\": 18.0, \"5\": 6.0}</td>\n",
       "      <td>18.0</td>\n",
       "      <td>6.0</td>\n",
       "    </tr>\n",
       "    <tr>\n",
       "      <th>81</th>\n",
       "      <td>22.551</td>\n",
       "      <td>docker-runc</td>\n",
       "      <td>28663</td>\n",
       "      <td>1051</td>\n",
       "      <td>/usr/bin/docker-runc</td>\n",
       "      <td>None</td>\n",
       "      <td>5</td>\n",
       "      <td>{\"1\": 19.0, \"5\": 6.2}</td>\n",
       "      <td>19.0</td>\n",
       "      <td>6.2</td>\n",
       "    </tr>\n",
       "  </tbody>\n",
       "</table>\n",
       "</div>"
      ],
      "text/plain": [
       "          ts              exe    pid   ppid  \\\n",
       "76    22.199   systemd-sysctl  28624  28614   \n",
       "86    23.047              sed  28672  28670   \n",
       "85    23.035               sh  28670   1158   \n",
       "87    23.052           lpstat  28671  28670   \n",
       "75    22.188          ifquery  28619     -1   \n",
       "74    22.187   systemd-sysctl  28623  28613   \n",
       "593  138.300       01ifupdown  29195  29191   \n",
       "72    22.164          ifquery  28622     -1   \n",
       "71    22.159          ifquery  28617  28615   \n",
       "70    22.159          ifquery  28621     -1   \n",
       "69    22.155             grep  28618  28615   \n",
       "73    22.187             grep  28620     -1   \n",
       "68    22.107          auplink  28607    917   \n",
       "77    22.221  docker-containe  28628   1051   \n",
       "78    22.228      docker-runc  28633  28628   \n",
       "79    22.247              exe  28644  28633   \n",
       "80    22.283          dockerd  28652  28633   \n",
       "81    22.551      docker-runc  28663   1051   \n",
       "\n",
       "                                            path docker  depth  \\\n",
       "76                   /lib/systemd/systemd-sysctl   None     -1   \n",
       "86                                           sed   None     -1   \n",
       "85                                            sh   None     -1   \n",
       "87                               /usr/bin/lpstat   None     -1   \n",
       "75                                 /sbin/ifquery   None     -1   \n",
       "74                   /lib/systemd/systemd-sysctl   None     -1   \n",
       "593  /etc/NetworkManager/dispatcher.d/01ifupdown   None     -1   \n",
       "72                                 /sbin/ifquery   None     -1   \n",
       "71                                 /sbin/ifquery   None     -1   \n",
       "70                                 /sbin/ifquery   None     -1   \n",
       "69                                     /bin/grep   None     -1   \n",
       "73                                          grep   None     -1   \n",
       "68                                       auplink   None      2   \n",
       "77               /usr/bin/docker-containerd-shim   None      3   \n",
       "78                          /usr/bin/docker-runc   None      4   \n",
       "79                                /proc/self/exe   None      5   \n",
       "80                              /usr/bin/dockerd   None      5   \n",
       "81                          /usr/bin/docker-runc   None      5   \n",
       "\n",
       "                     rates  rate1s  rate5s  \n",
       "76   {\"1\": 14.0, \"5\": 5.2}    14.0     5.2  \n",
       "86   {\"1\": 17.0, \"5\": 6.0}    17.0     6.0  \n",
       "85   {\"1\": 16.0, \"5\": 5.8}    16.0     5.8  \n",
       "87   {\"1\": 18.0, \"5\": 6.2}    18.0     6.2  \n",
       "75   {\"1\": 13.0, \"5\": 5.0}    13.0     5.0  \n",
       "74   {\"1\": 12.0, \"5\": 4.8}    12.0     4.8  \n",
       "593   {\"1\": 6.0, \"5\": 3.6}     6.0     3.6  \n",
       "72   {\"1\": 10.0, \"5\": 4.4}    10.0     4.4  \n",
       "71    {\"1\": 9.0, \"5\": 4.2}     9.0     4.2  \n",
       "70    {\"1\": 8.0, \"5\": 4.0}     8.0     4.0  \n",
       "69    {\"1\": 7.0, \"5\": 3.8}     7.0     3.8  \n",
       "73   {\"1\": 11.0, \"5\": 4.6}    11.0     4.6  \n",
       "68    {\"1\": 6.0, \"5\": 3.6}     6.0     3.6  \n",
       "77   {\"1\": 15.0, \"5\": 5.4}    15.0     5.4  \n",
       "78   {\"1\": 16.0, \"5\": 5.6}    16.0     5.6  \n",
       "79   {\"1\": 17.0, \"5\": 5.8}    17.0     5.8  \n",
       "80   {\"1\": 18.0, \"5\": 6.0}    18.0     6.0  \n",
       "81   {\"1\": 19.0, \"5\": 6.2}    19.0     6.2  "
      ]
     },
     "execution_count": 75,
     "metadata": {},
     "output_type": "execute_result"
    }
   ],
   "source": [
    "exec_clean[(exec_clean.rate1s > 5)].sort_values(by='depth')"
   ]
  },
  {
   "cell_type": "markdown",
   "metadata": {},
   "source": [
    "We can see a few outliers from the distribution of rate1s, we can try using scatter plot here as well"
   ]
  },
  {
   "cell_type": "code",
   "execution_count": 70,
   "metadata": {},
   "outputs": [
    {
     "data": {
      "text/plain": [
       "<seaborn.axisgrid.FacetGrid at 0x11a9f9978>"
      ]
     },
     "execution_count": 70,
     "metadata": {},
     "output_type": "execute_result"
    },
    {
     "data": {
      "image/png": "[encoded data removed]",
      "text/plain": [
       "<matplotlib.figure.Figure at 0x11a9f9080>"
      ]
     },
     "metadata": {},
     "output_type": "display_data"
    }
   ],
   "source": [
    "g = sns.FacetGrid(exec_clean)  \n",
    "g.map(plt.scatter, \"ts\", \"rate1s\")  "
   ]
  },
  {
   "cell_type": "code",
   "execution_count": null,
   "metadata": {
    "collapsed": true
   },
   "outputs": [],
   "source": []
  }
 ],
 "metadata": {
  "anaconda-cloud": {},
  "kernelspec": {
   "display_name": "Python [conda root]",
   "language": "python",
   "name": "conda-root-py"
  },
  "language_info": {
   "codemirror_mode": {
    "name": "ipython",
    "version": 3
   },
   "file_extension": ".py",
   "mimetype": "text/x-python",
   "name": "python",
   "nbconvert_exporter": "python",
   "pygments_lexer": "ipython3",
   "version": "3.5.3"
  }
 },
 "nbformat": 4,
 "nbformat_minor": 2
}
